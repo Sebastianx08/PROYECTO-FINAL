{
  "nbformat": 4,
  "nbformat_minor": 0,
  "metadata": {
    "colab": {
      "provenance": [],
      "gpuType": "T4",
      "authorship_tag": "ABX9TyNtqZgF25+PGLy+hjYRCwLU",
      "include_colab_link": true
    },
    "kernelspec": {
      "name": "python3",
      "display_name": "Python 3"
    },
    "language_info": {
      "name": "python"
    },
    "accelerator": "GPU"
  },
  "cells": [
    {
      "cell_type": "markdown",
      "metadata": {
        "id": "view-in-github",
        "colab_type": "text"
      },
      "source": [
        "<a href=\"https://colab.research.google.com/github/Sebastianx08/PROYECTO-FINAL/blob/main/PIA%20IMTC.ipynb\" target=\"_parent\"><img src=\"https://colab.research.google.com/assets/colab-badge.svg\" alt=\"Open In Colab\"/></a>"
      ]
    },
    {
      "cell_type": "code",
      "source": [
        "import torch\n",
        "\n",
        "# Verificar si CUDA (GPU) está disponible\n",
        "if torch.cuda.is_available():\n",
        "    device = torch.device('cuda')\n",
        "    print(f'🚀 GPU activada: {torch.cuda.get_device_name(0)}')\n",
        "    print(f'Memoria disponible: {torch.cuda.get_device_properties(0).total_memory / 1024**3:.2f} GB')\n",
        "else:\n",
        "    device = torch.device('cpu')\n",
        "    print('⚠️ No se detectó GPU, usando CPU')"
      ],
      "metadata": {
        "colab": {
          "base_uri": "https://localhost:8080/"
        },
        "id": "JuSLkAboEbCN",
        "outputId": "a045293b-8306-4849-eb4e-00c007336bf5"
      },
      "execution_count": 3,
      "outputs": [
        {
          "output_type": "stream",
          "name": "stdout",
          "text": [
            "🚀 GPU activada: Tesla T4\n",
            "Memoria disponible: 14.74 GB\n"
          ]
        }
      ]
    },
    {
      "cell_type": "code",
      "source": [
        "!unzip /content/data.zip -d /content/dataset"
      ],
      "metadata": {
        "id": "8Dz4o4GT8qNk",
        "colab": {
          "base_uri": "https://localhost:8080/"
        },
        "outputId": "88aa5273-6bfa-4533-fb58-77819df3f3be"
      },
      "execution_count": 4,
      "outputs": [
        {
          "output_type": "stream",
          "name": "stdout",
          "text": [
            "Archive:  /content/data.zip\n",
            "   creating: /content/dataset/data/\n",
            "  inflating: /content/dataset/data/classes.txt  \n",
            "   creating: /content/dataset/data/images/\n",
            "   creating: /content/dataset/data/images/train/\n",
            "  inflating: /content/dataset/data/images/train/20250329_215042.jpg  \n",
            "  inflating: /content/dataset/data/images/train/20250329_215050.jpg  \n",
            "  inflating: /content/dataset/data/images/train/20250329_215055.jpg  \n",
            "  inflating: /content/dataset/data/images/train/20250329_215059.jpg  \n",
            "  inflating: /content/dataset/data/images/train/20250329_215106.jpg  \n",
            "  inflating: /content/dataset/data/images/train/20250329_215125.jpg  \n",
            "  inflating: /content/dataset/data/images/train/20250329_215132.jpg  \n",
            "  inflating: /content/dataset/data/images/train/20250329_215136.jpg  \n",
            "  inflating: /content/dataset/data/images/train/20250329_215142.jpg  \n",
            "  inflating: /content/dataset/data/images/train/20250329_215314.jpg  \n",
            "  inflating: /content/dataset/data/images/train/20250329_215325.jpg  \n",
            "  inflating: /content/dataset/data/images/train/20250329_215331.jpg  \n",
            "  inflating: /content/dataset/data/images/train/20250329_215336.jpg  \n",
            "  inflating: /content/dataset/data/images/train/20250329_215347.jpg  \n",
            "  inflating: /content/dataset/data/images/train/20250329_215352.jpg  \n",
            "  inflating: /content/dataset/data/images/train/20250329_215400.jpg  \n",
            "  inflating: /content/dataset/data/images/train/20250329_215409.jpg  \n",
            "  inflating: /content/dataset/data/images/train/20250329_215417.jpg  \n",
            "  inflating: /content/dataset/data/images/train/20250329_215424.jpg  \n",
            "  inflating: /content/dataset/data/images/train/20250329_215533.jpg  \n",
            "  inflating: /content/dataset/data/images/train/20250329_215624.jpg  \n",
            "  inflating: /content/dataset/data/images/train/20250329_215630.jpg  \n",
            "  inflating: /content/dataset/data/images/train/20250329_215635.jpg  \n",
            "  inflating: /content/dataset/data/images/train/20250329_215638.jpg  \n",
            "  inflating: /content/dataset/data/images/train/20250329_215645.jpg  \n",
            "  inflating: /content/dataset/data/images/train/20250329_215838.jpg  \n",
            "  inflating: /content/dataset/data/images/train/20250329_215847.jpg  \n",
            "  inflating: /content/dataset/data/images/train/20250329_215851.jpg  \n",
            "  inflating: /content/dataset/data/images/train/20250329_215858.jpg  \n",
            "  inflating: /content/dataset/data/images/train/20250329_215932.jpg  \n",
            "  inflating: /content/dataset/data/images/train/20250329_215937.jpg  \n",
            "  inflating: /content/dataset/data/images/train/20250329_215941.jpg  \n",
            "  inflating: /content/dataset/data/images/train/20250329_220003.jpg  \n",
            "  inflating: /content/dataset/data/images/train/20250329_220040.jpg  \n",
            "  inflating: /content/dataset/data/images/train/20250329_220101.jpg  \n",
            "  inflating: /content/dataset/data/images/train/20250329_220106.jpg  \n",
            "  inflating: /content/dataset/data/images/train/20250329_220111.jpg  \n",
            "  inflating: /content/dataset/data/images/train/20250329_220114.jpg  \n",
            "  inflating: /content/dataset/data/images/train/20250330_035131888_iOS.jpg  \n",
            "  inflating: /content/dataset/data/images/train/20250330_035135752_iOS.jpg  \n",
            "  inflating: /content/dataset/data/images/train/20250330_035236039_iOS.jpg  \n",
            "  inflating: /content/dataset/data/images/train/20250330_035236437_iOS.jpg  \n",
            "  inflating: /content/dataset/data/images/train/20250330_035240371_iOS.jpg  \n",
            "  inflating: /content/dataset/data/images/train/20250330_035243139_iOS.jpg  \n",
            "  inflating: /content/dataset/data/images/train/20250330_035251255_iOS.jpg  \n",
            "  inflating: /content/dataset/data/images/train/20250330_035305275_iOS.jpg  \n",
            "  inflating: /content/dataset/data/images/train/20250330_035308576_iOS.jpg  \n",
            "  inflating: /content/dataset/data/images/train/20250330_035311852_iOS.jpg  \n",
            "  inflating: /content/dataset/data/images/train/20250330_035314437_iOS.jpg  \n",
            "  inflating: /content/dataset/data/images/train/20250330_035317029_iOS.jpg  \n",
            "  inflating: /content/dataset/data/images/train/20250330_035325886_iOS.jpg  \n",
            "  inflating: /content/dataset/data/images/train/20250330_035328511_iOS.jpg  \n",
            "  inflating: /content/dataset/data/images/train/20250330_035331738_iOS.jpg  \n",
            "  inflating: /content/dataset/data/images/train/20250330_035334762_iOS.jpg  \n",
            "  inflating: /content/dataset/data/images/train/20250330_035338141_iOS.jpg  \n",
            "  inflating: /content/dataset/data/images/train/20250330_035351744_iOS.jpg  \n",
            "  inflating: /content/dataset/data/images/train/20250330_035354088_iOS.jpg  \n",
            "  inflating: /content/dataset/data/images/train/20250330_035357551_iOS.jpg  \n",
            "  inflating: /content/dataset/data/images/train/20250330_035400287_iOS.jpg  \n",
            "  inflating: /content/dataset/data/images/train/20250330_035402905_iOS.jpg  \n",
            "  inflating: /content/dataset/data/images/train/20250330_035405214_iOS.jpg  \n",
            "  inflating: /content/dataset/data/images/train/20250330_035408637_iOS.jpg  \n",
            "  inflating: /content/dataset/data/images/train/20250330_035432902_iOS.jpg  \n",
            "  inflating: /content/dataset/data/images/train/20250330_035437305_iOS.jpg  \n",
            "  inflating: /content/dataset/data/images/train/20250330_035440682_iOS.jpg  \n",
            "  inflating: /content/dataset/data/images/train/20250330_035443360_iOS.jpg  \n",
            "  inflating: /content/dataset/data/images/train/20250330_035446203_iOS.jpg  \n",
            "  inflating: /content/dataset/data/images/train/20250330_035500788_iOS.jpg  \n",
            "  inflating: /content/dataset/data/images/train/20250330_035503914_iOS.jpg  \n",
            "  inflating: /content/dataset/data/images/train/20250330_035506905_iOS.jpg  \n",
            "  inflating: /content/dataset/data/images/train/20250330_035511624_iOS.jpg  \n",
            "  inflating: /content/dataset/data/images/train/20250330_035514277_iOS.jpg  \n",
            "  inflating: /content/dataset/data/images/train/20250330_035529640_iOS.jpg  \n",
            "  inflating: /content/dataset/data/images/train/20250330_035532430_iOS.jpg  \n",
            "  inflating: /content/dataset/data/images/train/20250330_035535624_iOS.jpg  \n",
            "  inflating: /content/dataset/data/images/train/20250330_035538773_iOS.jpg  \n",
            "  inflating: /content/dataset/data/images/train/20250330_035542345_iOS.jpg  \n",
            "  inflating: /content/dataset/data/images/train/20250330_035544649_iOS.jpg  \n",
            "  inflating: /content/dataset/data/images/train/20250330_035614831_iOS.jpg  \n",
            "  inflating: /content/dataset/data/images/train/20250330_035617453_iOS.jpg  \n",
            "  inflating: /content/dataset/data/images/train/20250330_035621986_iOS.jpg  \n",
            "  inflating: /content/dataset/data/images/train/20250330_035624862_iOS.jpg  \n",
            "  inflating: /content/dataset/data/images/train/20250330_035627584_iOS.jpg  \n",
            "  inflating: /content/dataset/data/images/train/20250330_035629895_iOS.jpg  \n",
            "  inflating: /content/dataset/data/images/train/20250330_035632628_iOS.jpg  \n",
            "  inflating: /content/dataset/data/images/train/20250330_035856144_iOS.jpg  \n",
            "  inflating: /content/dataset/data/images/train/20250330_035859960_iOS.jpg  \n",
            "  inflating: /content/dataset/data/images/train/20250330_035903398_iOS.jpg  \n",
            "  inflating: /content/dataset/data/images/train/20250330_035906629_iOS.jpg  \n",
            "  inflating: /content/dataset/data/images/train/20250330_035909957_iOS.jpg  \n",
            "  inflating: /content/dataset/data/images/train/20250330_035912380_iOS.jpg  \n",
            "  inflating: /content/dataset/data/images/train/20250330_035916434_iOS.jpg  \n",
            "  inflating: /content/dataset/data/images/train/20250330_040009885_iOS.jpg  \n",
            "  inflating: /content/dataset/data/images/train/20250330_040012916_iOS.jpg  \n",
            "  inflating: /content/dataset/data/images/train/20250330_040015777_iOS.jpg  \n",
            "  inflating: /content/dataset/data/images/train/20250330_040016157_iOS.jpg  \n",
            "  inflating: /content/dataset/data/images/train/20250330_040018516_iOS.jpg  \n",
            "  inflating: /content/dataset/data/images/train/20250330_040022184_iOS.jpg  \n",
            "  inflating: /content/dataset/data/images/train/20250330_040025455_iOS.jpg  \n",
            "  inflating: /content/dataset/data/images/train/20250330_040028435_iOS.jpg  \n",
            "  inflating: /content/dataset/data/images/train/20250330_040904419_iOS.jpg  \n",
            "  inflating: /content/dataset/data/images/train/20250330_040907600_iOS.jpg  \n",
            "  inflating: /content/dataset/data/images/train/20250330_040910678_iOS.jpg  \n",
            "  inflating: /content/dataset/data/images/train/20250330_040913485_iOS.jpg  \n",
            "  inflating: /content/dataset/data/images/train/20250330_040922400_iOS.jpg  \n",
            "  inflating: /content/dataset/data/images/train/20250330_040926544_iOS.jpg  \n",
            "  inflating: /content/dataset/data/images/train/20250330_040930184_iOS.jpg  \n",
            "  inflating: /content/dataset/data/images/train/20250330_040933501_iOS.jpg  \n",
            "  inflating: /content/dataset/data/images/train/20250330_040936407_iOS.jpg  \n",
            "  inflating: /content/dataset/data/images/train/IMG20250401205625.jpg  \n",
            "  inflating: /content/dataset/data/images/train/IMG20250401205627.jpg  \n",
            "  inflating: /content/dataset/data/images/train/IMG20250401205630.jpg  \n",
            "  inflating: /content/dataset/data/images/train/IMG20250401205634.jpg  \n",
            "  inflating: /content/dataset/data/images/train/IMG20250401205654.jpg  \n",
            "  inflating: /content/dataset/data/images/train/IMG20250401205659.jpg  \n",
            "  inflating: /content/dataset/data/images/train/IMG20250401205703.jpg  \n",
            "  inflating: /content/dataset/data/images/train/IMG20250401205729.jpg  \n",
            "  inflating: /content/dataset/data/images/train/IMG20250401205736.jpg  \n",
            "  inflating: /content/dataset/data/images/train/IMG20250401205740.jpg  \n",
            "  inflating: /content/dataset/data/images/train/IMG20250401205810.jpg  \n",
            "  inflating: /content/dataset/data/images/train/IMG20250401205815.jpg  \n",
            "  inflating: /content/dataset/data/images/train/IMG20250401205821.jpg  \n",
            "  inflating: /content/dataset/data/images/train/IMG20250401205828.jpg  \n",
            "  inflating: /content/dataset/data/images/train/IMG20250401205830.jpg  \n",
            "  inflating: /content/dataset/data/images/train/IMG20250401205835.jpg  \n",
            "  inflating: /content/dataset/data/images/train/IMG20250401205844.jpg  \n",
            "  inflating: /content/dataset/data/images/train/IMG20250401205854.jpg  \n",
            "  inflating: /content/dataset/data/images/train/IMG20250401205858.jpg  \n",
            "  inflating: /content/dataset/data/images/train/IMG20250401205919.jpg  \n",
            "  inflating: /content/dataset/data/images/train/IMG20250401205923.jpg  \n",
            "  inflating: /content/dataset/data/images/train/IMG20250401205928.jpg  \n",
            "  inflating: /content/dataset/data/images/train/IMG20250401205934.jpg  \n",
            "  inflating: /content/dataset/data/images/train/IMG20250401205937.jpg  \n",
            "  inflating: /content/dataset/data/images/train/IMG20250401205941.jpg  \n",
            "  inflating: /content/dataset/data/images/train/IMG20250401205944.jpg  \n",
            "  inflating: /content/dataset/data/images/train/IMG20250401205949.jpg  \n",
            "  inflating: /content/dataset/data/images/train/IMG20250401205953.jpg  \n",
            "  inflating: /content/dataset/data/images/train/IMG20250401205957.jpg  \n",
            "  inflating: /content/dataset/data/images/train/IMG20250401210004.jpg  \n",
            "  inflating: /content/dataset/data/images/train/IMG20250401210005.jpg  \n",
            "  inflating: /content/dataset/data/images/train/IMG20250401210010.jpg  \n",
            "  inflating: /content/dataset/data/images/train/IMG20250401210017.jpg  \n",
            "  inflating: /content/dataset/data/images/train/IMG20250401210020.jpg  \n",
            "  inflating: /content/dataset/data/images/train/IMG20250401210024.jpg  \n",
            "  inflating: /content/dataset/data/images/train/IMG20250401210041.jpg  \n",
            "  inflating: /content/dataset/data/images/train/IMG20250401210044.jpg  \n",
            "  inflating: /content/dataset/data/images/train/IMG20250401210049.jpg  \n",
            "  inflating: /content/dataset/data/images/train/IMG20250401210056.jpg  \n",
            "  inflating: /content/dataset/data/images/train/IMG20250401210059.jpg  \n",
            "  inflating: /content/dataset/data/images/train/IMG20250401210104.jpg  \n",
            "  inflating: /content/dataset/data/images/train/IMG20250401210110.jpg  \n",
            "  inflating: /content/dataset/data/images/train/IMG20250401210115.jpg  \n",
            "  inflating: /content/dataset/data/images/train/IMG20250401210118.jpg  \n",
            "  inflating: /content/dataset/data/images/train/IMG20250401210154.jpg  \n",
            "  inflating: /content/dataset/data/images/train/IMG20250401210156.jpg  \n",
            "  inflating: /content/dataset/data/images/train/IMG20250401210159.jpg  \n",
            "  inflating: /content/dataset/data/images/train/IMG20250401210206.jpg  \n",
            "  inflating: /content/dataset/data/images/train/IMG20250401210210.jpg  \n",
            "  inflating: /content/dataset/data/images/train/IMG20250401210212.jpg  \n",
            "  inflating: /content/dataset/data/images/train/IMG20250401210217.jpg  \n",
            "  inflating: /content/dataset/data/images/train/IMG20250401210225.jpg  \n",
            "  inflating: /content/dataset/data/images/train/IMG20250401210228.jpg  \n",
            "  inflating: /content/dataset/data/images/train/IMG20250401210236.jpg  \n",
            "  inflating: /content/dataset/data/images/train/IMG20250401210242.jpg  \n",
            "  inflating: /content/dataset/data/images/train/IMG20250401210245.jpg  \n",
            "  inflating: /content/dataset/data/images/train/IMG20250401210250.jpg  \n",
            "  inflating: /content/dataset/data/images/train/IMG20250401210257.jpg  \n",
            "  inflating: /content/dataset/data/images/train/IMG20250401210303.jpg  \n",
            "  inflating: /content/dataset/data/images/train/IMG20250401210309.jpg  \n",
            "  inflating: /content/dataset/data/images/train/IMG20250401210315.jpg  \n",
            "  inflating: /content/dataset/data/images/train/IMG20250401210319.jpg  \n",
            "  inflating: /content/dataset/data/images/train/IMG20250401210325.jpg  \n",
            "  inflating: /content/dataset/data/images/train/IMG20250401210327.jpg  \n",
            "  inflating: /content/dataset/data/images/train/IMG20250401210332.jpg  \n",
            "  inflating: /content/dataset/data/images/train/IMG20250401210335.jpg  \n",
            "  inflating: /content/dataset/data/images/train/IMG20250401210338.jpg  \n",
            "  inflating: /content/dataset/data/images/train/IMG20250401210343.jpg  \n",
            "  inflating: /content/dataset/data/images/train/IMG20250401210350.jpg  \n",
            "  inflating: /content/dataset/data/images/train/IMG20250401210352.jpg  \n",
            "  inflating: /content/dataset/data/images/train/IMG20250401210357.jpg  \n",
            "  inflating: /content/dataset/data/images/train/IMG20250401210406.jpg  \n",
            "  inflating: /content/dataset/data/images/train/IMG20250401210409.jpg  \n",
            "  inflating: /content/dataset/data/images/train/IMG20250401210414.jpg  \n",
            "  inflating: /content/dataset/data/images/train/IMG20250401210417.jpg  \n",
            "  inflating: /content/dataset/data/images/train/IMG20250401210421.jpg  \n",
            "  inflating: /content/dataset/data/images/train/IMG_20250330_181302_TIMEBURST1.jpg  \n",
            "  inflating: /content/dataset/data/images/train/IMG_20250330_181302_TIMEBURST10.jpg  \n",
            "  inflating: /content/dataset/data/images/train/IMG_20250330_181302_TIMEBURST11.jpg  \n",
            "  inflating: /content/dataset/data/images/train/IMG_20250330_181302_TIMEBURST12.jpg  \n",
            "  inflating: /content/dataset/data/images/train/IMG_20250330_181302_TIMEBURST13.jpg  \n",
            "  inflating: /content/dataset/data/images/train/IMG_20250330_181302_TIMEBURST14.jpg  \n",
            "  inflating: /content/dataset/data/images/train/IMG_20250330_181302_TIMEBURST15.jpg  \n",
            "  inflating: /content/dataset/data/images/train/IMG_20250330_181302_TIMEBURST16.jpg  \n",
            "  inflating: /content/dataset/data/images/train/IMG_20250330_181302_TIMEBURST17.jpg  \n",
            "  inflating: /content/dataset/data/images/train/IMG_20250330_181302_TIMEBURST18.jpg  \n",
            "  inflating: /content/dataset/data/images/train/IMG_20250330_181302_TIMEBURST19.jpg  \n",
            "  inflating: /content/dataset/data/images/train/IMG_20250330_181302_TIMEBURST2.jpg  \n",
            "  inflating: /content/dataset/data/images/train/IMG_20250330_181302_TIMEBURST20.jpg  \n",
            "  inflating: /content/dataset/data/images/train/IMG_20250330_181302_TIMEBURST21.jpg  \n",
            "  inflating: /content/dataset/data/images/train/IMG_20250330_181302_TIMEBURST22.jpg  \n",
            "  inflating: /content/dataset/data/images/train/IMG_20250330_181302_TIMEBURST23.jpg  \n",
            "  inflating: /content/dataset/data/images/train/IMG_20250330_181302_TIMEBURST24.jpg  \n",
            "  inflating: /content/dataset/data/images/train/IMG_20250330_181302_TIMEBURST25.jpg  \n",
            "  inflating: /content/dataset/data/images/train/IMG_20250330_181302_TIMEBURST26.jpg  \n",
            "  inflating: /content/dataset/data/images/train/IMG_20250330_181302_TIMEBURST27.jpg  \n",
            "  inflating: /content/dataset/data/images/train/IMG_20250330_181302_TIMEBURST28.jpg  \n",
            "  inflating: /content/dataset/data/images/train/IMG_20250330_181302_TIMEBURST29.jpg  \n",
            "  inflating: /content/dataset/data/images/train/IMG_20250330_181302_TIMEBURST3.jpg  \n",
            "  inflating: /content/dataset/data/images/train/IMG_20250330_181302_TIMEBURST30.jpg  \n",
            "  inflating: /content/dataset/data/images/train/IMG_20250330_181302_TIMEBURST4.jpg  \n",
            "  inflating: /content/dataset/data/images/train/IMG_20250330_181302_TIMEBURST5.jpg  \n",
            "  inflating: /content/dataset/data/images/train/IMG_20250330_181302_TIMEBURST6.jpg  \n",
            "  inflating: /content/dataset/data/images/train/IMG_20250330_181302_TIMEBURST7.jpg  \n",
            "  inflating: /content/dataset/data/images/train/IMG_20250330_181302_TIMEBURST8.jpg  \n",
            "  inflating: /content/dataset/data/images/train/IMG_20250330_181302_TIMEBURST9.jpg  \n",
            "  inflating: /content/dataset/data/images/train/IMG_20250330_181756_TIMEBURST1.jpg  \n",
            "  inflating: /content/dataset/data/images/train/IMG_20250330_181756_TIMEBURST10.jpg  \n",
            "  inflating: /content/dataset/data/images/train/IMG_20250330_181756_TIMEBURST11.jpg  \n",
            "  inflating: /content/dataset/data/images/train/IMG_20250330_181756_TIMEBURST12.jpg  \n",
            "  inflating: /content/dataset/data/images/train/IMG_20250330_181756_TIMEBURST13.jpg  \n",
            "  inflating: /content/dataset/data/images/train/IMG_20250330_181756_TIMEBURST14.jpg  \n",
            "  inflating: /content/dataset/data/images/train/IMG_20250330_181756_TIMEBURST15.jpg  \n",
            "  inflating: /content/dataset/data/images/train/IMG_20250330_181756_TIMEBURST16.jpg  \n",
            "  inflating: /content/dataset/data/images/train/IMG_20250330_181756_TIMEBURST17.jpg  \n",
            "  inflating: /content/dataset/data/images/train/IMG_20250330_181756_TIMEBURST18.jpg  \n",
            "  inflating: /content/dataset/data/images/train/IMG_20250330_181756_TIMEBURST19.jpg  \n",
            "  inflating: /content/dataset/data/images/train/IMG_20250330_181756_TIMEBURST2.jpg  \n",
            "  inflating: /content/dataset/data/images/train/IMG_20250330_181756_TIMEBURST20.jpg  \n",
            "  inflating: /content/dataset/data/images/train/IMG_20250330_181756_TIMEBURST21.jpg  \n",
            "  inflating: /content/dataset/data/images/train/IMG_20250330_181756_TIMEBURST22.jpg  \n",
            "  inflating: /content/dataset/data/images/train/IMG_20250330_181756_TIMEBURST23.jpg  \n",
            "  inflating: /content/dataset/data/images/train/IMG_20250330_181756_TIMEBURST24.jpg  \n",
            "  inflating: /content/dataset/data/images/train/IMG_20250330_181756_TIMEBURST25.jpg  \n",
            "  inflating: /content/dataset/data/images/train/IMG_20250330_181756_TIMEBURST26.jpg  \n",
            "  inflating: /content/dataset/data/images/train/IMG_20250330_181756_TIMEBURST27.jpg  \n",
            "  inflating: /content/dataset/data/images/train/IMG_20250330_181756_TIMEBURST28.jpg  \n",
            "  inflating: /content/dataset/data/images/train/IMG_20250330_181756_TIMEBURST29.jpg  \n",
            "  inflating: /content/dataset/data/images/train/IMG_20250330_181756_TIMEBURST3.jpg  \n",
            "  inflating: /content/dataset/data/images/train/IMG_20250330_181756_TIMEBURST30.jpg  \n",
            "  inflating: /content/dataset/data/images/train/IMG_20250330_181756_TIMEBURST4.jpg  \n",
            "  inflating: /content/dataset/data/images/train/IMG_20250330_181756_TIMEBURST5.jpg  \n",
            "  inflating: /content/dataset/data/images/train/IMG_20250330_181756_TIMEBURST6.jpg  \n",
            "  inflating: /content/dataset/data/images/train/IMG_20250330_181756_TIMEBURST7.jpg  \n",
            "  inflating: /content/dataset/data/images/train/IMG_20250330_181756_TIMEBURST8.jpg  \n",
            "  inflating: /content/dataset/data/images/train/IMG_20250330_181756_TIMEBURST9.jpg  \n",
            "  inflating: /content/dataset/data/images/train/IMG_20250330_182246_TIMEBURST1.jpg  \n",
            "  inflating: /content/dataset/data/images/train/IMG_20250330_182246_TIMEBURST10.jpg  \n",
            "  inflating: /content/dataset/data/images/train/IMG_20250330_182246_TIMEBURST11.jpg  \n",
            "  inflating: /content/dataset/data/images/train/IMG_20250330_182246_TIMEBURST12.jpg  \n",
            "  inflating: /content/dataset/data/images/train/IMG_20250330_182246_TIMEBURST13.jpg  \n",
            "  inflating: /content/dataset/data/images/train/IMG_20250330_182246_TIMEBURST14.jpg  \n",
            "  inflating: /content/dataset/data/images/train/IMG_20250330_182246_TIMEBURST15.jpg  \n",
            "  inflating: /content/dataset/data/images/train/IMG_20250330_182246_TIMEBURST16.jpg  \n",
            "  inflating: /content/dataset/data/images/train/IMG_20250330_182246_TIMEBURST17.jpg  \n",
            "  inflating: /content/dataset/data/images/train/IMG_20250330_182246_TIMEBURST18.jpg  \n",
            "  inflating: /content/dataset/data/images/train/IMG_20250330_182246_TIMEBURST19.jpg  \n",
            "  inflating: /content/dataset/data/images/train/IMG_20250330_182246_TIMEBURST2.jpg  \n",
            "  inflating: /content/dataset/data/images/train/IMG_20250330_182246_TIMEBURST20.jpg  \n",
            "  inflating: /content/dataset/data/images/train/IMG_20250330_182246_TIMEBURST21.jpg  \n",
            "  inflating: /content/dataset/data/images/train/IMG_20250330_182246_TIMEBURST22.jpg  \n",
            "  inflating: /content/dataset/data/images/train/IMG_20250330_182246_TIMEBURST3.jpg  \n",
            "  inflating: /content/dataset/data/images/train/IMG_20250330_182246_TIMEBURST4.jpg  \n",
            "  inflating: /content/dataset/data/images/train/IMG_20250330_182246_TIMEBURST5.jpg  \n",
            "  inflating: /content/dataset/data/images/train/IMG_20250330_182246_TIMEBURST6.jpg  \n",
            "  inflating: /content/dataset/data/images/train/IMG_20250330_182246_TIMEBURST7.jpg  \n",
            "  inflating: /content/dataset/data/images/train/IMG_20250330_182246_TIMEBURST8.jpg  \n",
            "  inflating: /content/dataset/data/images/train/IMG_20250330_182246_TIMEBURST9.jpg  \n",
            "  inflating: /content/dataset/data/images/train/IMG_20250330_182915.jpg  \n",
            "  inflating: /content/dataset/data/images/train/IMG_20250330_182918.jpg  \n",
            "  inflating: /content/dataset/data/images/train/IMG_20250330_182925.jpg  \n",
            "  inflating: /content/dataset/data/images/train/IMG_20250330_182934.jpg  \n",
            "  inflating: /content/dataset/data/images/train/IMG_20250330_182941.jpg  \n",
            "  inflating: /content/dataset/data/images/train/IMG_20250330_182946.jpg  \n",
            "  inflating: /content/dataset/data/images/train/IMG_20250330_182951.jpg  \n",
            "  inflating: /content/dataset/data/images/train/IMG_20250330_183000.jpg  \n",
            "  inflating: /content/dataset/data/images/train/IMG_20250330_183420_TIMEBURST1.jpg  \n",
            "  inflating: /content/dataset/data/images/train/IMG_20250330_183420_TIMEBURST10.jpg  \n",
            "  inflating: /content/dataset/data/images/train/IMG_20250330_183420_TIMEBURST11.jpg  \n",
            "  inflating: /content/dataset/data/images/train/IMG_20250330_183420_TIMEBURST12.jpg  \n",
            "  inflating: /content/dataset/data/images/train/IMG_20250330_183420_TIMEBURST13.jpg  \n",
            "  inflating: /content/dataset/data/images/train/IMG_20250330_183420_TIMEBURST14.jpg  \n",
            "  inflating: /content/dataset/data/images/train/IMG_20250330_183420_TIMEBURST15.jpg  \n",
            "  inflating: /content/dataset/data/images/train/IMG_20250330_183420_TIMEBURST16.jpg  \n",
            "  inflating: /content/dataset/data/images/train/IMG_20250330_183420_TIMEBURST17.jpg  \n",
            "  inflating: /content/dataset/data/images/train/IMG_20250330_183420_TIMEBURST18.jpg  \n",
            "  inflating: /content/dataset/data/images/train/IMG_20250330_183420_TIMEBURST19.jpg  \n",
            "  inflating: /content/dataset/data/images/train/IMG_20250330_183420_TIMEBURST2.jpg  \n",
            "  inflating: /content/dataset/data/images/train/IMG_20250330_183420_TIMEBURST20.jpg  \n",
            "  inflating: /content/dataset/data/images/train/IMG_20250330_183420_TIMEBURST21.jpg  \n",
            "  inflating: /content/dataset/data/images/train/IMG_20250330_183420_TIMEBURST22.jpg  \n",
            "  inflating: /content/dataset/data/images/train/IMG_20250330_183420_TIMEBURST23.jpg  \n",
            "  inflating: /content/dataset/data/images/train/IMG_20250330_183420_TIMEBURST24.jpg  \n",
            "  inflating: /content/dataset/data/images/train/IMG_20250330_183420_TIMEBURST25.jpg  \n",
            "  inflating: /content/dataset/data/images/train/IMG_20250330_183420_TIMEBURST26.jpg  \n",
            "  inflating: /content/dataset/data/images/train/IMG_20250330_183420_TIMEBURST27.jpg  \n",
            "  inflating: /content/dataset/data/images/train/IMG_20250330_183420_TIMEBURST28.jpg  \n",
            "  inflating: /content/dataset/data/images/train/IMG_20250330_183420_TIMEBURST29.jpg  \n",
            "  inflating: /content/dataset/data/images/train/IMG_20250330_183420_TIMEBURST3.jpg  \n",
            "  inflating: /content/dataset/data/images/train/IMG_20250330_183420_TIMEBURST30.jpg  \n",
            "  inflating: /content/dataset/data/images/train/IMG_20250330_183420_TIMEBURST4.jpg  \n",
            "  inflating: /content/dataset/data/images/train/IMG_20250330_183420_TIMEBURST5.jpg  \n",
            "  inflating: /content/dataset/data/images/train/IMG_20250330_183420_TIMEBURST6.jpg  \n",
            "  inflating: /content/dataset/data/images/train/IMG_20250330_183420_TIMEBURST7.jpg  \n",
            "  inflating: /content/dataset/data/images/train/IMG_20250330_183420_TIMEBURST8.jpg  \n",
            "  inflating: /content/dataset/data/images/train/IMG_20250330_183420_TIMEBURST9.jpg  \n",
            "  inflating: /content/dataset/data/images/train/IMG_20250330_190050_TIMEBURST1.jpg  \n",
            "  inflating: /content/dataset/data/images/train/IMG_20250330_190050_TIMEBURST10.jpg  \n",
            "  inflating: /content/dataset/data/images/train/IMG_20250330_190050_TIMEBURST11.jpg  \n",
            "  inflating: /content/dataset/data/images/train/IMG_20250330_190050_TIMEBURST12.jpg  \n",
            "  inflating: /content/dataset/data/images/train/IMG_20250330_190050_TIMEBURST13.jpg  \n",
            "  inflating: /content/dataset/data/images/train/IMG_20250330_190050_TIMEBURST14.jpg  \n",
            "  inflating: /content/dataset/data/images/train/IMG_20250330_190050_TIMEBURST15.jpg  \n",
            "  inflating: /content/dataset/data/images/train/IMG_20250330_190050_TIMEBURST16.jpg  \n",
            "  inflating: /content/dataset/data/images/train/IMG_20250330_190050_TIMEBURST17.jpg  \n",
            "  inflating: /content/dataset/data/images/train/IMG_20250330_190050_TIMEBURST18.jpg  \n",
            "  inflating: /content/dataset/data/images/train/IMG_20250330_190050_TIMEBURST19.jpg  \n",
            "  inflating: /content/dataset/data/images/train/IMG_20250330_190050_TIMEBURST2.jpg  \n",
            "  inflating: /content/dataset/data/images/train/IMG_20250330_190050_TIMEBURST20.jpg  \n",
            "  inflating: /content/dataset/data/images/train/IMG_20250330_190050_TIMEBURST21.jpg  \n",
            "  inflating: /content/dataset/data/images/train/IMG_20250330_190050_TIMEBURST22.jpg  \n",
            "  inflating: /content/dataset/data/images/train/IMG_20250330_190050_TIMEBURST23.jpg  \n",
            "  inflating: /content/dataset/data/images/train/IMG_20250330_190050_TIMEBURST24.jpg  \n",
            "  inflating: /content/dataset/data/images/train/IMG_20250330_190050_TIMEBURST25.jpg  \n",
            "  inflating: /content/dataset/data/images/train/IMG_20250330_190050_TIMEBURST26.jpg  \n",
            "  inflating: /content/dataset/data/images/train/IMG_20250330_190050_TIMEBURST28.jpg  \n",
            "  inflating: /content/dataset/data/images/train/IMG_20250330_190050_TIMEBURST29.jpg  \n",
            "  inflating: /content/dataset/data/images/train/IMG_20250330_190050_TIMEBURST3.jpg  \n",
            "  inflating: /content/dataset/data/images/train/IMG_20250330_190050_TIMEBURST30.jpg  \n",
            "  inflating: /content/dataset/data/images/train/IMG_20250330_190050_TIMEBURST4.jpg  \n",
            "  inflating: /content/dataset/data/images/train/IMG_20250330_190050_TIMEBURST5.jpg  \n",
            "  inflating: /content/dataset/data/images/train/IMG_20250330_190050_TIMEBURST6.jpg  \n",
            "  inflating: /content/dataset/data/images/train/IMG_20250330_190050_TIMEBURST7.jpg  \n",
            "  inflating: /content/dataset/data/images/train/IMG_20250330_190050_TIMEBURST8.jpg  \n",
            "  inflating: /content/dataset/data/images/train/IMG_20250330_190050_TIMEBURST9.jpg  \n",
            "  inflating: /content/dataset/data/images/train/IMG_20250330_190422.jpg  \n",
            "  inflating: /content/dataset/data/images/train/IMG_20250330_190456_TIMEBURST1.jpg  \n",
            "  inflating: /content/dataset/data/images/train/IMG_20250330_190456_TIMEBURST2.jpg  \n",
            "  inflating: /content/dataset/data/images/train/IMG_20250330_190456_TIMEBURST3.jpg  \n",
            "  inflating: /content/dataset/data/images/train/IMG_20250330_190456_TIMEBURST4.jpg  \n",
            "  inflating: /content/dataset/data/images/train/IMG_20250330_190456_TIMEBURST5.jpg  \n",
            "  inflating: /content/dataset/data/images/train/IMG_20250330_190456_TIMEBURST6.jpg  \n",
            "  inflating: /content/dataset/data/images/train/IMG_20250330_190456_TIMEBURST7.jpg  \n",
            "  inflating: /content/dataset/data/images/train/IMG_20250330_190456_TIMEBURST8.jpg  \n",
            "  inflating: /content/dataset/data/images/train/IMG_20250402_220713_TIMEBURST10.jpg  \n",
            "  inflating: /content/dataset/data/images/train/IMG_20250402_220713_TIMEBURST11.jpg  \n",
            "  inflating: /content/dataset/data/images/train/IMG_20250402_220713_TIMEBURST12.jpg  \n",
            "  inflating: /content/dataset/data/images/train/IMG_20250402_220713_TIMEBURST13.jpg  \n",
            "  inflating: /content/dataset/data/images/train/IMG_20250402_220713_TIMEBURST14.jpg  \n",
            "  inflating: /content/dataset/data/images/train/IMG_20250402_220713_TIMEBURST15.jpg  \n",
            "  inflating: /content/dataset/data/images/train/IMG_20250402_220713_TIMEBURST16.jpg  \n",
            "  inflating: /content/dataset/data/images/train/IMG_20250402_220713_TIMEBURST17.jpg  \n",
            "  inflating: /content/dataset/data/images/train/IMG_20250402_220713_TIMEBURST18.jpg  \n",
            "  inflating: /content/dataset/data/images/train/IMG_20250402_220713_TIMEBURST19.jpg  \n",
            "  inflating: /content/dataset/data/images/train/IMG_20250402_220713_TIMEBURST2.jpg  \n",
            "  inflating: /content/dataset/data/images/train/IMG_20250402_220713_TIMEBURST20.jpg  \n",
            "  inflating: /content/dataset/data/images/train/IMG_20250402_220713_TIMEBURST21.jpg  \n",
            "  inflating: /content/dataset/data/images/train/IMG_20250402_220713_TIMEBURST22.jpg  \n",
            "  inflating: /content/dataset/data/images/train/IMG_20250402_221044_TIMEBURST1.jpg  \n",
            "  inflating: /content/dataset/data/images/train/IMG_20250402_221044_TIMEBURST10.jpg  \n",
            "  inflating: /content/dataset/data/images/train/IMG_20250402_221044_TIMEBURST11.jpg  \n",
            "  inflating: /content/dataset/data/images/train/IMG_20250402_221044_TIMEBURST12.jpg  \n",
            "  inflating: /content/dataset/data/images/train/IMG_20250402_221044_TIMEBURST13.jpg  \n",
            "  inflating: /content/dataset/data/images/train/IMG_20250402_221044_TIMEBURST14.jpg  \n",
            "  inflating: /content/dataset/data/images/train/IMG_20250402_221044_TIMEBURST15.jpg  \n",
            "  inflating: /content/dataset/data/images/train/IMG_20250402_221044_TIMEBURST16.jpg  \n",
            "  inflating: /content/dataset/data/images/train/IMG_20250402_221044_TIMEBURST17.jpg  \n",
            "  inflating: /content/dataset/data/images/train/IMG_20250402_221044_TIMEBURST18.jpg  \n",
            "  inflating: /content/dataset/data/images/train/IMG_20250402_221044_TIMEBURST19.jpg  \n",
            "  inflating: /content/dataset/data/images/train/IMG_20250402_221044_TIMEBURST2.jpg  \n",
            "  inflating: /content/dataset/data/images/train/IMG_20250402_221044_TIMEBURST20.jpg  \n",
            "  inflating: /content/dataset/data/images/train/IMG_20250402_221044_TIMEBURST21.jpg  \n",
            "  inflating: /content/dataset/data/images/train/IMG_20250402_221044_TIMEBURST22.jpg  \n",
            "  inflating: /content/dataset/data/images/train/IMG_20250402_221044_TIMEBURST23.jpg  \n",
            "  inflating: /content/dataset/data/images/train/IMG_20250402_221044_TIMEBURST24.jpg  \n",
            "  inflating: /content/dataset/data/images/train/IMG_20250402_221044_TIMEBURST25.jpg  \n",
            "  inflating: /content/dataset/data/images/train/IMG_20250402_221044_TIMEBURST26.jpg  \n",
            "  inflating: /content/dataset/data/images/train/IMG_20250402_221044_TIMEBURST27.jpg  \n",
            "  inflating: /content/dataset/data/images/train/IMG_20250402_221044_TIMEBURST28.jpg  \n",
            "  inflating: /content/dataset/data/images/train/IMG_20250402_221044_TIMEBURST29.jpg  \n",
            "  inflating: /content/dataset/data/images/train/IMG_20250402_221044_TIMEBURST3.jpg  \n",
            "  inflating: /content/dataset/data/images/train/IMG_20250402_221044_TIMEBURST30.jpg  \n",
            "  inflating: /content/dataset/data/images/train/IMG_20250402_221044_TIMEBURST4.jpg  \n",
            "  inflating: /content/dataset/data/images/train/IMG_20250402_221044_TIMEBURST5.jpg  \n",
            "  inflating: /content/dataset/data/images/train/IMG_20250402_221044_TIMEBURST6.jpg  \n",
            "  inflating: /content/dataset/data/images/train/IMG_20250402_221044_TIMEBURST7.jpg  \n",
            "  inflating: /content/dataset/data/images/train/IMG_20250402_221044_TIMEBURST8.jpg  \n",
            "  inflating: /content/dataset/data/images/train/IMG_20250402_221044_TIMEBURST9.jpg  \n",
            "  inflating: /content/dataset/data/images/train/IMG_20250402_221406_TIMEBURST1.jpg  \n",
            "  inflating: /content/dataset/data/images/train/IMG_20250402_221406_TIMEBURST10.jpg  \n",
            "  inflating: /content/dataset/data/images/train/IMG_20250402_221406_TIMEBURST11.jpg  \n",
            "  inflating: /content/dataset/data/images/train/IMG_20250402_221406_TIMEBURST12.jpg  \n",
            "  inflating: /content/dataset/data/images/train/IMG_20250402_221406_TIMEBURST13.jpg  \n",
            "  inflating: /content/dataset/data/images/train/IMG_20250402_221406_TIMEBURST14.jpg  \n",
            "  inflating: /content/dataset/data/images/train/IMG_20250402_221406_TIMEBURST15.jpg  \n",
            "  inflating: /content/dataset/data/images/train/IMG_20250402_221406_TIMEBURST16.jpg  \n",
            "  inflating: /content/dataset/data/images/train/IMG_20250402_221406_TIMEBURST17.jpg  \n",
            "  inflating: /content/dataset/data/images/train/IMG_20250402_221406_TIMEBURST2.jpg  \n",
            "  inflating: /content/dataset/data/images/train/IMG_20250402_221406_TIMEBURST3.jpg  \n",
            "  inflating: /content/dataset/data/images/train/IMG_20250402_221406_TIMEBURST4.jpg  \n",
            "  inflating: /content/dataset/data/images/train/IMG_20250402_221406_TIMEBURST5.jpg  \n",
            "  inflating: /content/dataset/data/images/train/IMG_20250402_221406_TIMEBURST6.jpg  \n",
            "  inflating: /content/dataset/data/images/train/IMG_20250402_221406_TIMEBURST7.jpg  \n",
            "  inflating: /content/dataset/data/images/train/IMG_20250402_221406_TIMEBURST8.jpg  \n",
            "  inflating: /content/dataset/data/images/train/IMG_20250402_221406_TIMEBURST9.jpg  \n",
            "  inflating: /content/dataset/data/images/train/Pieza Defectuosa. 1.jpg  \n",
            "  inflating: /content/dataset/data/images/train/Pieza Defectuosa. 10.jpg  \n",
            "  inflating: /content/dataset/data/images/train/Pieza Defectuosa. 11.jpg  \n",
            "  inflating: /content/dataset/data/images/train/Pieza Defectuosa. 12.jpg  \n",
            "  inflating: /content/dataset/data/images/train/Pieza Defectuosa. 13.jpg  \n",
            "  inflating: /content/dataset/data/images/train/Pieza Defectuosa. 14.jpg  \n",
            "  inflating: /content/dataset/data/images/train/Pieza Defectuosa. 15.jpg  \n",
            "  inflating: /content/dataset/data/images/train/Pieza Defectuosa. 16.jpg  \n",
            "  inflating: /content/dataset/data/images/train/Pieza Defectuosa. 17.jpg  \n",
            "  inflating: /content/dataset/data/images/train/Pieza Defectuosa. 18.jpg  \n",
            "  inflating: /content/dataset/data/images/train/Pieza Defectuosa. 19.jpg  \n",
            "  inflating: /content/dataset/data/images/train/Pieza Defectuosa. 2.jpg  \n",
            "  inflating: /content/dataset/data/images/train/Pieza Defectuosa. 20.jpg  \n",
            "  inflating: /content/dataset/data/images/train/Pieza Defectuosa. 21.jpg  \n",
            "  inflating: /content/dataset/data/images/train/Pieza Defectuosa. 22.jpg  \n",
            "  inflating: /content/dataset/data/images/train/Pieza Defectuosa. 23.jpg  \n",
            "  inflating: /content/dataset/data/images/train/Pieza Defectuosa. 24.jpg  \n",
            "  inflating: /content/dataset/data/images/train/Pieza Defectuosa. 25.jpg  \n",
            "  inflating: /content/dataset/data/images/train/Pieza Defectuosa. 26.jpg  \n",
            "  inflating: /content/dataset/data/images/train/Pieza Defectuosa. 27.jpg  \n",
            "  inflating: /content/dataset/data/images/train/Pieza Defectuosa. 28.jpg  \n",
            "  inflating: /content/dataset/data/images/train/Pieza Defectuosa. 29.jpg  \n",
            "  inflating: /content/dataset/data/images/train/Pieza Defectuosa. 3.jpg  \n",
            "  inflating: /content/dataset/data/images/train/Pieza Defectuosa. 30.jpg  \n",
            "  inflating: /content/dataset/data/images/train/Pieza Defectuosa. 31.jpg  \n",
            "  inflating: /content/dataset/data/images/train/Pieza Defectuosa. 32.jpg  \n",
            "  inflating: /content/dataset/data/images/train/Pieza Defectuosa. 33.jpg  \n",
            "  inflating: /content/dataset/data/images/train/Pieza Defectuosa. 34.jpg  \n",
            "  inflating: /content/dataset/data/images/train/Pieza Defectuosa. 35.jpg  \n",
            "  inflating: /content/dataset/data/images/train/Pieza Defectuosa. 36.jpg  \n",
            "  inflating: /content/dataset/data/images/train/Pieza Defectuosa. 37.jpg  \n",
            "  inflating: /content/dataset/data/images/train/Pieza Defectuosa. 38.jpg  \n",
            "  inflating: /content/dataset/data/images/train/Pieza Defectuosa. 39.jpg  \n",
            "  inflating: /content/dataset/data/images/train/Pieza Defectuosa. 4.jpg  \n",
            "  inflating: /content/dataset/data/images/train/Pieza Defectuosa. 40.jpg  \n",
            "  inflating: /content/dataset/data/images/train/Pieza Defectuosa. 5.jpg  \n",
            "  inflating: /content/dataset/data/images/train/Pieza Defectuosa. 6.jpg  \n",
            "  inflating: /content/dataset/data/images/train/Pieza Defectuosa. 7.jpg  \n",
            "  inflating: /content/dataset/data/images/train/Pieza Defectuosa. 8.jpg  \n",
            "  inflating: /content/dataset/data/images/train/Pieza Defectuosa. 9.jpg  \n",
            "  inflating: /content/dataset/data/images/train/Pieza Plana Gris Below 1..jpg  \n",
            "  inflating: /content/dataset/data/images/train/Pieza Plana Gris Below 2..jpg  \n",
            "  inflating: /content/dataset/data/images/train/Pieza Plana Gris Below 3..jpg  \n",
            "  inflating: /content/dataset/data/images/train/Pieza Plana Gris Below 4..jpg  \n",
            "  inflating: /content/dataset/data/images/train/Pieza Plana Gris Below 5..jpg  \n",
            "  inflating: /content/dataset/data/images/train/Pieza Plana Gris con Guia Below 1..jpg  \n",
            "  inflating: /content/dataset/data/images/train/Pieza Plana Gris con Guia Below 2..jpg  \n",
            "  inflating: /content/dataset/data/images/train/Pieza Plana Gris con Guia Below 3..jpg  \n",
            "  inflating: /content/dataset/data/images/train/Pieza Plana Gris con Guia Below 4..jpg  \n",
            "  inflating: /content/dataset/data/images/train/Pieza Plana Gris con Guia Below 5..jpg  \n",
            "  inflating: /content/dataset/data/images/train/Pieza Plana Gris con Guia Below 6..jpg  \n",
            "  inflating: /content/dataset/data/images/train/Pieza Plana Gris con Guia Below 7..jpg  \n",
            "  inflating: /content/dataset/data/images/train/Pieza Plana Gris con Guia Below 8..jpg  \n",
            "  inflating: /content/dataset/data/images/train/Pieza Plana Gris con Guia Top 1..jpg  \n",
            "  inflating: /content/dataset/data/images/train/Pieza Plana Gris con Guia Top 2..jpg  \n",
            "  inflating: /content/dataset/data/images/train/Pieza Plana Gris con Guia Top 3..jpg  \n",
            "  inflating: /content/dataset/data/images/train/Pieza Plana Gris con Guia Top 4..jpg  \n",
            "  inflating: /content/dataset/data/images/train/Pieza Plana Gris con Guia Top 5..jpg  \n",
            "  inflating: /content/dataset/data/images/train/Pieza Plana Gris con Guia Top 6..jpg  \n",
            "  inflating: /content/dataset/data/images/train/Pieza Plana Gris con Guia Top 7..jpg  \n",
            "  inflating: /content/dataset/data/images/train/Pieza Plana Gris con Guia Top 8..jpg  \n",
            "  inflating: /content/dataset/data/images/train/Pieza Plana Gris Top 1..jpg  \n",
            "  inflating: /content/dataset/data/images/train/Pieza Plana Gris Top 2..jpg  \n",
            "  inflating: /content/dataset/data/images/train/Pieza Plana Gris Top 3..jpg  \n",
            "  inflating: /content/dataset/data/images/train/Pieza Plana Gris Top 4..jpg  \n",
            "  inflating: /content/dataset/data/images/train/Pieza Plana Gris Top 5..jpg  \n",
            "  inflating: /content/dataset/data/images/train/Pieza Plana Negro Below 1..jpg  \n",
            "  inflating: /content/dataset/data/images/train/Pieza Plana Negro Below 2..jpg  \n",
            "  inflating: /content/dataset/data/images/train/Pieza Plana Negro Below 3..jpg  \n",
            "  inflating: /content/dataset/data/images/train/Pieza Plana Negro Below 4..jpg  \n",
            "  inflating: /content/dataset/data/images/train/Pieza Plana Negro Below 5..jpg  \n",
            "  inflating: /content/dataset/data/images/train/Pieza Plana Negro con Guia Below 1..jpg  \n",
            "  inflating: /content/dataset/data/images/train/Pieza Plana Negro con Guia Below 2..jpg  \n",
            "  inflating: /content/dataset/data/images/train/Pieza Plana Negro con Guia Below 3..jpg  \n",
            "  inflating: /content/dataset/data/images/train/Pieza Plana Negro con Guia Below 4..jpg  \n",
            "  inflating: /content/dataset/data/images/train/Pieza Plana Negro con Guia Below 5..jpg  \n",
            "  inflating: /content/dataset/data/images/train/Pieza Plana Negro con Guia Below 6..jpg  \n",
            "  inflating: /content/dataset/data/images/train/Pieza Plana Negro con Guia Below 7..jpg  \n",
            "  inflating: /content/dataset/data/images/train/Pieza Plana Negro con Guia Top 1..jpg  \n",
            "  inflating: /content/dataset/data/images/train/Pieza Plana Negro con Guia Top 2..jpg  \n",
            "  inflating: /content/dataset/data/images/train/Pieza Plana Negro con Guia Top 3..jpg  \n",
            "  inflating: /content/dataset/data/images/train/Pieza Plana Negro con Guia Top 4..jpg  \n",
            "  inflating: /content/dataset/data/images/train/Pieza Plana Negro con Guia Top 5..jpg  \n",
            "  inflating: /content/dataset/data/images/train/Pieza Plana Negro con Guia Top 6..jpg  \n",
            "  inflating: /content/dataset/data/images/train/Pieza Plana Negro con Guia Top 7..jpg  \n",
            "  inflating: /content/dataset/data/images/train/Pieza Plana Negro Top 1..jpg  \n",
            "  inflating: /content/dataset/data/images/train/Pieza Plana Negro Top 2..jpg  \n",
            "  inflating: /content/dataset/data/images/train/Pieza Plana Negro Top 3..jpg  \n",
            "  inflating: /content/dataset/data/images/train/Pieza Plana Negro Top 4..jpg  \n",
            "  inflating: /content/dataset/data/images/train/Pieza Plana Negro Top 5..jpg  \n",
            "   creating: /content/dataset/data/images/val/\n",
            "  inflating: /content/dataset/data/images/val/20250330_035140286_iOS.jpg  \n",
            "  inflating: /content/dataset/data/images/val/20250330_035143482_iOS.jpg  \n",
            "  inflating: /content/dataset/data/images/val/20250330_035145872_iOS.jpg  \n",
            "  inflating: /content/dataset/data/images/val/20250330_035152088_iOS.jpg  \n",
            "  inflating: /content/dataset/data/images/val/20250330_035153509_iOS.jpg  \n",
            "  inflating: /content/dataset/data/images/val/20250330_035153947_iOS.jpg  \n",
            "  inflating: /content/dataset/data/images/val/20250330_040819744_iOS.jpg  \n",
            "  inflating: /content/dataset/data/images/val/20250330_040822392_iOS.jpg  \n",
            "  inflating: /content/dataset/data/images/val/20250330_040825997_iOS.jpg  \n",
            "  inflating: /content/dataset/data/images/val/20250330_040828588_iOS.jpg  \n",
            "  inflating: /content/dataset/data/images/val/20250330_040831925_iOS.jpg  \n",
            "  inflating: /content/dataset/data/images/val/20250330_040834299_iOS.jpg  \n",
            "  inflating: /content/dataset/data/images/val/20250330_040839876_iOS.jpg  \n",
            "  inflating: /content/dataset/data/images/val/20250330_040842116_iOS.jpg  \n",
            "  inflating: /content/dataset/data/images/val/20250330_040844519_iOS.jpg  \n",
            "  inflating: /content/dataset/data/images/val/20250330_040847263_iOS.jpg  \n",
            "  inflating: /content/dataset/data/images/val/20250330_040850204_iOS.jpg  \n",
            "  inflating: /content/dataset/data/images/val/20250330_040853094_iOS.jpg  \n",
            "  inflating: /content/dataset/data/images/val/20250330_040857087_iOS.jpg  \n",
            "  inflating: /content/dataset/data/images/val/20250330_040859444_iOS.jpg  \n",
            "  inflating: /content/dataset/data/images/val/20250330_040938988_iOS.jpg  \n",
            "  inflating: /content/dataset/data/images/val/20250330_040942227_iOS.jpg  \n",
            "  inflating: /content/dataset/data/images/val/20250330_040948564_iOS.jpg  \n",
            "  inflating: /content/dataset/data/images/val/20250330_040952188_iOS.jpg  \n",
            "  inflating: /content/dataset/data/images/val/20250330_040955419_iOS.jpg  \n",
            "  inflating: /content/dataset/data/images/val/20250330_040955834_iOS.jpg  \n",
            "  inflating: /content/dataset/data/images/val/20250330_040958970_iOS.jpg  \n",
            "  inflating: /content/dataset/data/images/val/20250330_041001807_iOS.jpg  \n",
            "  inflating: /content/dataset/data/images/val/20250330_041005216_iOS.jpg  \n",
            "  inflating: /content/dataset/data/images/val/20250330_041017207_iOS.jpg  \n",
            "  inflating: /content/dataset/data/images/val/20250330_041020878_iOS.jpg  \n",
            "  inflating: /content/dataset/data/images/val/20250330_041024905_iOS.jpg  \n",
            "  inflating: /content/dataset/data/images/val/20250330_041028348_iOS.jpg  \n",
            "  inflating: /content/dataset/data/images/val/20250330_041032050_iOS.jpg  \n",
            "  inflating: /content/dataset/data/images/val/IMG20250401211118.jpg  \n",
            "  inflating: /content/dataset/data/images/val/IMG20250401211120.jpg  \n",
            "  inflating: /content/dataset/data/images/val/IMG20250401211123.jpg  \n",
            "  inflating: /content/dataset/data/images/val/IMG20250401211129.jpg  \n",
            "  inflating: /content/dataset/data/images/val/IMG20250401211133.jpg  \n",
            "  inflating: /content/dataset/data/images/val/IMG20250401211137.jpg  \n",
            "  inflating: /content/dataset/data/images/val/IMG20250401211142.jpg  \n",
            "  inflating: /content/dataset/data/images/val/IMG20250401211146.jpg  \n",
            "  inflating: /content/dataset/data/images/val/IMG20250401211151.jpg  \n",
            "  inflating: /content/dataset/data/images/val/IMG20250401211204.jpg  \n",
            "  inflating: /content/dataset/data/images/val/IMG20250401211208.jpg  \n",
            "  inflating: /content/dataset/data/images/val/IMG20250401211211.jpg  \n",
            "  inflating: /content/dataset/data/images/val/IMG20250401211222.jpg  \n",
            "  inflating: /content/dataset/data/images/val/IMG20250401211225.jpg  \n",
            "  inflating: /content/dataset/data/images/val/IMG20250401211228.jpg  \n",
            "  inflating: /content/dataset/data/images/val/IMG20250401211236.jpg  \n",
            "  inflating: /content/dataset/data/images/val/IMG20250401211239.jpg  \n",
            "  inflating: /content/dataset/data/images/val/IMG20250401211247.jpg  \n",
            "  inflating: /content/dataset/data/images/val/IMG20250401211249.jpg  \n",
            "  inflating: /content/dataset/data/images/val/IMG20250401211259.jpg  \n",
            "  inflating: /content/dataset/data/images/val/IMG20250401211302.jpg  \n",
            "  inflating: /content/dataset/data/images/val/IMG20250401211306.jpg  \n",
            "  inflating: /content/dataset/data/images/val/IMG20250401211310.jpg  \n",
            "  inflating: /content/dataset/data/images/val/IMG20250401211312.jpg  \n",
            "  inflating: /content/dataset/data/images/val/IMG20250401211318.jpg  \n",
            "  inflating: /content/dataset/data/images/val/IMG20250401211321.jpg  \n",
            "  inflating: /content/dataset/data/images/val/IMG20250401211325.jpg  \n",
            "  inflating: /content/dataset/data/images/val/IMG20250401211346.jpg  \n",
            "  inflating: /content/dataset/data/images/val/IMG20250401211349.jpg  \n",
            "  inflating: /content/dataset/data/images/val/IMG20250401211352.jpg  \n",
            "  inflating: /content/dataset/data/images/val/IMG20250401211357.jpg  \n",
            "  inflating: /content/dataset/data/images/val/IMG20250401211400.jpg  \n",
            "  inflating: /content/dataset/data/images/val/IMG20250401211404.jpg  \n",
            "  inflating: /content/dataset/data/images/val/IMG20250401211419.jpg  \n",
            "  inflating: /content/dataset/data/images/val/IMG20250401211422.jpg  \n",
            "  inflating: /content/dataset/data/images/val/IMG20250401211426.jpg  \n",
            "  inflating: /content/dataset/data/images/val/IMG20250401211428.jpg  \n",
            "  inflating: /content/dataset/data/images/val/IMG20250401211433.jpg  \n",
            "  inflating: /content/dataset/data/images/val/IMG20250401211438.jpg  \n",
            "  inflating: /content/dataset/data/images/val/IMG20250401211440.jpg  \n",
            "  inflating: /content/dataset/data/images/val/IMG20250401211443.jpg  \n",
            "  inflating: /content/dataset/data/images/val/IMG20250401211459.jpg  \n",
            "  inflating: /content/dataset/data/images/val/IMG20250401211501.jpg  \n",
            "  inflating: /content/dataset/data/images/val/IMG20250401211504.jpg  \n",
            "  inflating: /content/dataset/data/images/val/IMG20250401211508.jpg  \n",
            "  inflating: /content/dataset/data/images/val/IMG20250401211510.jpg  \n",
            "  inflating: /content/dataset/data/images/val/IMG20250401211514.jpg  \n",
            "  inflating: /content/dataset/data/images/val/IMG20250401211523.jpg  \n",
            "  inflating: /content/dataset/data/images/val/IMG20250401211525.jpg  \n",
            "  inflating: /content/dataset/data/images/val/IMG20250401211530.jpg  \n",
            "  inflating: /content/dataset/data/images/val/IMG20250401211535.jpg  \n",
            "  inflating: /content/dataset/data/images/val/IMG20250401211537.jpg  \n",
            "  inflating: /content/dataset/data/images/val/IMG20250401211539.jpg  \n",
            "  inflating: /content/dataset/data/images/val/IMG20250401211545.jpg  \n",
            "  inflating: /content/dataset/data/images/val/IMG20250401211548.jpg  \n",
            "  inflating: /content/dataset/data/images/val/IMG20250401211551.jpg  \n",
            "  inflating: /content/dataset/data/images/val/IMG20250401211554.jpg  \n",
            "  inflating: /content/dataset/data/images/val/IMG_20250330_190456_TIMEBURST10.jpg  \n",
            "  inflating: /content/dataset/data/images/val/IMG_20250330_190456_TIMEBURST11.jpg  \n",
            "  inflating: /content/dataset/data/images/val/IMG_20250330_190456_TIMEBURST12.jpg  \n",
            "  inflating: /content/dataset/data/images/val/IMG_20250330_190456_TIMEBURST13.jpg  \n",
            "  inflating: /content/dataset/data/images/val/IMG_20250330_190456_TIMEBURST14.jpg  \n",
            "  inflating: /content/dataset/data/images/val/IMG_20250330_190456_TIMEBURST15.jpg  \n",
            "  inflating: /content/dataset/data/images/val/IMG_20250330_190456_TIMEBURST16.jpg  \n",
            "  inflating: /content/dataset/data/images/val/IMG_20250330_190456_TIMEBURST17.jpg  \n",
            "  inflating: /content/dataset/data/images/val/IMG_20250330_190456_TIMEBURST18.jpg  \n",
            "  inflating: /content/dataset/data/images/val/IMG_20250330_190456_TIMEBURST19.jpg  \n",
            "  inflating: /content/dataset/data/images/val/IMG_20250330_190456_TIMEBURST20.jpg  \n",
            "  inflating: /content/dataset/data/images/val/IMG_20250330_190456_TIMEBURST22.jpg  \n",
            "  inflating: /content/dataset/data/images/val/IMG_20250330_190456_TIMEBURST23.jpg  \n",
            "  inflating: /content/dataset/data/images/val/IMG_20250330_190456_TIMEBURST24.jpg  \n",
            "  inflating: /content/dataset/data/images/val/IMG_20250330_190456_TIMEBURST25.jpg  \n",
            "  inflating: /content/dataset/data/images/val/IMG_20250330_190456_TIMEBURST26.jpg  \n",
            "  inflating: /content/dataset/data/images/val/IMG_20250330_190456_TIMEBURST27.jpg  \n",
            "  inflating: /content/dataset/data/images/val/IMG_20250330_190456_TIMEBURST28.jpg  \n",
            "  inflating: /content/dataset/data/images/val/IMG_20250330_190456_TIMEBURST29.jpg  \n",
            "  inflating: /content/dataset/data/images/val/IMG_20250330_190456_TIMEBURST9.jpg  \n",
            "  inflating: /content/dataset/data/images/val/IMG_20250330_190905.jpg  \n",
            "  inflating: /content/dataset/data/images/val/IMG_20250330_190914.jpg  \n",
            "  inflating: /content/dataset/data/images/val/IMG_20250402_220713_TIMEBURST1.jpg  \n",
            "  inflating: /content/dataset/data/images/val/IMG_20250402_221406_TIMEBURST18.jpg  \n",
            "  inflating: /content/dataset/data/images/val/IMG_20250402_221406_TIMEBURST19.jpg  \n",
            "  inflating: /content/dataset/data/images/val/IMG_20250402_221406_TIMEBURST20.jpg  \n",
            "  inflating: /content/dataset/data/images/val/IMG_20250402_221406_TIMEBURST21.jpg  \n",
            "  inflating: /content/dataset/data/images/val/IMG_20250402_221406_TIMEBURST22.jpg  \n",
            "  inflating: /content/dataset/data/images/val/IMG_20250402_221406_TIMEBURST23.jpg  \n",
            "  inflating: /content/dataset/data/images/val/IMG_20250402_221406_TIMEBURST24.jpg  \n",
            "  inflating: /content/dataset/data/images/val/IMG_20250402_221406_TIMEBURST25.jpg  \n",
            "  inflating: /content/dataset/data/images/val/IMG_20250402_221406_TIMEBURST26.jpg  \n",
            "  inflating: /content/dataset/data/images/val/IMG_20250402_221406_TIMEBURST27.jpg  \n",
            "  inflating: /content/dataset/data/images/val/IMG_20250402_221406_TIMEBURST28.jpg  \n",
            "  inflating: /content/dataset/data/images/val/IMG_20250402_221406_TIMEBURST29.jpg  \n",
            "  inflating: /content/dataset/data/images/val/IMG_20250402_221406_TIMEBURST30.jpg  \n",
            "   creating: /content/dataset/data/labels/\n",
            "   creating: /content/dataset/data/labels/train/\n",
            "  inflating: /content/dataset/data/labels/train/20250329_215042.txt  \n",
            "  inflating: /content/dataset/data/labels/train/20250329_215050.txt  \n",
            "  inflating: /content/dataset/data/labels/train/20250329_215055.txt  \n",
            "  inflating: /content/dataset/data/labels/train/20250329_215059.txt  \n",
            "  inflating: /content/dataset/data/labels/train/20250329_215106.txt  \n",
            "  inflating: /content/dataset/data/labels/train/20250329_215125.txt  \n",
            "  inflating: /content/dataset/data/labels/train/20250329_215132.txt  \n",
            "  inflating: /content/dataset/data/labels/train/20250329_215136.txt  \n",
            "  inflating: /content/dataset/data/labels/train/20250329_215142.txt  \n",
            "  inflating: /content/dataset/data/labels/train/20250329_215314.txt  \n",
            "  inflating: /content/dataset/data/labels/train/20250329_215325.txt  \n",
            "  inflating: /content/dataset/data/labels/train/20250329_215331.txt  \n",
            "  inflating: /content/dataset/data/labels/train/20250329_215336.txt  \n",
            "  inflating: /content/dataset/data/labels/train/20250329_215347.txt  \n",
            "  inflating: /content/dataset/data/labels/train/20250329_215352.txt  \n",
            "  inflating: /content/dataset/data/labels/train/20250329_215400.txt  \n",
            "  inflating: /content/dataset/data/labels/train/20250329_215409.txt  \n",
            "  inflating: /content/dataset/data/labels/train/20250329_215417.txt  \n",
            "  inflating: /content/dataset/data/labels/train/20250329_215424.txt  \n",
            "  inflating: /content/dataset/data/labels/train/20250329_215533.txt  \n",
            "  inflating: /content/dataset/data/labels/train/20250329_215624.txt  \n",
            "  inflating: /content/dataset/data/labels/train/20250329_215630.txt  \n",
            "  inflating: /content/dataset/data/labels/train/20250329_215635.txt  \n",
            "  inflating: /content/dataset/data/labels/train/20250329_215638.txt  \n",
            "  inflating: /content/dataset/data/labels/train/20250329_215645.txt  \n",
            "  inflating: /content/dataset/data/labels/train/20250329_215838.txt  \n",
            "  inflating: /content/dataset/data/labels/train/20250329_215847.txt  \n",
            "  inflating: /content/dataset/data/labels/train/20250329_215851.txt  \n",
            "  inflating: /content/dataset/data/labels/train/20250329_215858.txt  \n",
            "  inflating: /content/dataset/data/labels/train/20250329_215932.txt  \n",
            "  inflating: /content/dataset/data/labels/train/20250329_215937.txt  \n",
            "  inflating: /content/dataset/data/labels/train/20250329_215941.txt  \n",
            "  inflating: /content/dataset/data/labels/train/20250329_220003.txt  \n",
            "  inflating: /content/dataset/data/labels/train/20250329_220040.txt  \n",
            "  inflating: /content/dataset/data/labels/train/20250329_220101.txt  \n",
            "  inflating: /content/dataset/data/labels/train/20250329_220106.txt  \n",
            "  inflating: /content/dataset/data/labels/train/20250329_220111.txt  \n",
            "  inflating: /content/dataset/data/labels/train/20250329_220114.txt  \n",
            "  inflating: /content/dataset/data/labels/train/20250330_035131888_iOS.txt  \n",
            "  inflating: /content/dataset/data/labels/train/20250330_035135752_iOS.txt  \n",
            "  inflating: /content/dataset/data/labels/train/20250330_035236039_iOS.txt  \n",
            "  inflating: /content/dataset/data/labels/train/20250330_035236437_iOS.txt  \n",
            "  inflating: /content/dataset/data/labels/train/20250330_035240371_iOS.txt  \n",
            "  inflating: /content/dataset/data/labels/train/20250330_035243139_iOS.txt  \n",
            "  inflating: /content/dataset/data/labels/train/20250330_035251255_iOS.txt  \n",
            "  inflating: /content/dataset/data/labels/train/20250330_035305275_iOS.txt  \n",
            "  inflating: /content/dataset/data/labels/train/20250330_035308576_iOS.txt  \n",
            "  inflating: /content/dataset/data/labels/train/20250330_035311852_iOS.txt  \n",
            "  inflating: /content/dataset/data/labels/train/20250330_035314437_iOS.txt  \n",
            "  inflating: /content/dataset/data/labels/train/20250330_035317029_iOS.txt  \n",
            "  inflating: /content/dataset/data/labels/train/20250330_035325886_iOS.txt  \n",
            "  inflating: /content/dataset/data/labels/train/20250330_035328511_iOS.txt  \n",
            "  inflating: /content/dataset/data/labels/train/20250330_035331738_iOS.txt  \n",
            "  inflating: /content/dataset/data/labels/train/20250330_035334762_iOS.txt  \n",
            "  inflating: /content/dataset/data/labels/train/20250330_035338141_iOS.txt  \n",
            "  inflating: /content/dataset/data/labels/train/20250330_035351744_iOS.txt  \n",
            "  inflating: /content/dataset/data/labels/train/20250330_035354088_iOS.txt  \n",
            "  inflating: /content/dataset/data/labels/train/20250330_035357551_iOS.txt  \n",
            "  inflating: /content/dataset/data/labels/train/20250330_035400287_iOS.txt  \n",
            "  inflating: /content/dataset/data/labels/train/20250330_035402905_iOS.txt  \n",
            "  inflating: /content/dataset/data/labels/train/20250330_035405214_iOS.txt  \n",
            "  inflating: /content/dataset/data/labels/train/20250330_035408637_iOS.txt  \n",
            "  inflating: /content/dataset/data/labels/train/20250330_035432902_iOS.txt  \n",
            "  inflating: /content/dataset/data/labels/train/20250330_035437305_iOS.txt  \n",
            "  inflating: /content/dataset/data/labels/train/20250330_035440682_iOS.txt  \n",
            "  inflating: /content/dataset/data/labels/train/20250330_035443360_iOS.txt  \n",
            "  inflating: /content/dataset/data/labels/train/20250330_035446203_iOS.txt  \n",
            "  inflating: /content/dataset/data/labels/train/20250330_035500788_iOS.txt  \n",
            "  inflating: /content/dataset/data/labels/train/20250330_035503914_iOS.txt  \n",
            "  inflating: /content/dataset/data/labels/train/20250330_035506905_iOS.txt  \n",
            "  inflating: /content/dataset/data/labels/train/20250330_035511624_iOS.txt  \n",
            "  inflating: /content/dataset/data/labels/train/20250330_035514277_iOS.txt  \n",
            "  inflating: /content/dataset/data/labels/train/20250330_035529640_iOS.txt  \n",
            "  inflating: /content/dataset/data/labels/train/20250330_035532430_iOS.txt  \n",
            "  inflating: /content/dataset/data/labels/train/20250330_035535624_iOS.txt  \n",
            "  inflating: /content/dataset/data/labels/train/20250330_035538773_iOS.txt  \n",
            "  inflating: /content/dataset/data/labels/train/20250330_035542345_iOS.txt  \n",
            "  inflating: /content/dataset/data/labels/train/20250330_035544649_iOS.txt  \n",
            "  inflating: /content/dataset/data/labels/train/20250330_035614831_iOS.txt  \n",
            "  inflating: /content/dataset/data/labels/train/20250330_035617453_iOS.txt  \n",
            "  inflating: /content/dataset/data/labels/train/20250330_035621986_iOS.txt  \n",
            "  inflating: /content/dataset/data/labels/train/20250330_035624862_iOS.txt  \n",
            "  inflating: /content/dataset/data/labels/train/20250330_035627584_iOS.txt  \n",
            "  inflating: /content/dataset/data/labels/train/20250330_035629895_iOS.txt  \n",
            "  inflating: /content/dataset/data/labels/train/20250330_035632628_iOS.txt  \n",
            "  inflating: /content/dataset/data/labels/train/20250330_035856144_iOS.txt  \n",
            "  inflating: /content/dataset/data/labels/train/20250330_035859960_iOS.txt  \n",
            "  inflating: /content/dataset/data/labels/train/20250330_035903398_iOS.txt  \n",
            "  inflating: /content/dataset/data/labels/train/20250330_035906629_iOS.txt  \n",
            "  inflating: /content/dataset/data/labels/train/20250330_035909957_iOS.txt  \n",
            "  inflating: /content/dataset/data/labels/train/20250330_035912380_iOS.txt  \n",
            "  inflating: /content/dataset/data/labels/train/20250330_035916434_iOS.txt  \n",
            "  inflating: /content/dataset/data/labels/train/20250330_040009885_iOS.txt  \n",
            "  inflating: /content/dataset/data/labels/train/20250330_040012916_iOS.txt  \n",
            "  inflating: /content/dataset/data/labels/train/20250330_040015777_iOS.txt  \n",
            "  inflating: /content/dataset/data/labels/train/20250330_040016157_iOS.txt  \n",
            "  inflating: /content/dataset/data/labels/train/20250330_040018516_iOS.txt  \n",
            "  inflating: /content/dataset/data/labels/train/20250330_040022184_iOS.txt  \n",
            "  inflating: /content/dataset/data/labels/train/20250330_040025455_iOS.txt  \n",
            "  inflating: /content/dataset/data/labels/train/20250330_040028435_iOS.txt  \n",
            "  inflating: /content/dataset/data/labels/train/20250330_040904419_iOS.txt  \n",
            "  inflating: /content/dataset/data/labels/train/20250330_040907600_iOS.txt  \n",
            "  inflating: /content/dataset/data/labels/train/20250330_040910678_iOS.txt  \n",
            "  inflating: /content/dataset/data/labels/train/20250330_040913485_iOS.txt  \n",
            "  inflating: /content/dataset/data/labels/train/20250330_040922400_iOS.txt  \n",
            "  inflating: /content/dataset/data/labels/train/20250330_040926544_iOS.txt  \n",
            "  inflating: /content/dataset/data/labels/train/20250330_040930184_iOS.txt  \n",
            "  inflating: /content/dataset/data/labels/train/20250330_040933501_iOS.txt  \n",
            "  inflating: /content/dataset/data/labels/train/20250330_040936407_iOS.txt  \n",
            "  inflating: /content/dataset/data/labels/train/IMG20250401205625.txt  \n",
            "  inflating: /content/dataset/data/labels/train/IMG20250401205627.txt  \n",
            "  inflating: /content/dataset/data/labels/train/IMG20250401205630.txt  \n",
            "  inflating: /content/dataset/data/labels/train/IMG20250401205634.txt  \n",
            "  inflating: /content/dataset/data/labels/train/IMG20250401205654.txt  \n",
            "  inflating: /content/dataset/data/labels/train/IMG20250401205659.txt  \n",
            "  inflating: /content/dataset/data/labels/train/IMG20250401205703.txt  \n",
            "  inflating: /content/dataset/data/labels/train/IMG20250401205729.txt  \n",
            "  inflating: /content/dataset/data/labels/train/IMG20250401205736.txt  \n",
            "  inflating: /content/dataset/data/labels/train/IMG20250401205740.txt  \n",
            "  inflating: /content/dataset/data/labels/train/IMG20250401205810.txt  \n",
            "  inflating: /content/dataset/data/labels/train/IMG20250401205815.txt  \n",
            "  inflating: /content/dataset/data/labels/train/IMG20250401205821.txt  \n",
            "  inflating: /content/dataset/data/labels/train/IMG20250401205828.txt  \n",
            "  inflating: /content/dataset/data/labels/train/IMG20250401205830.txt  \n",
            "  inflating: /content/dataset/data/labels/train/IMG20250401205835.txt  \n",
            "  inflating: /content/dataset/data/labels/train/IMG20250401205844.txt  \n",
            "  inflating: /content/dataset/data/labels/train/IMG20250401205854.txt  \n",
            "  inflating: /content/dataset/data/labels/train/IMG20250401205858.txt  \n",
            "  inflating: /content/dataset/data/labels/train/IMG20250401205919.txt  \n",
            "  inflating: /content/dataset/data/labels/train/IMG20250401205923.txt  \n",
            "  inflating: /content/dataset/data/labels/train/IMG20250401205928.txt  \n",
            "  inflating: /content/dataset/data/labels/train/IMG20250401205934.txt  \n",
            "  inflating: /content/dataset/data/labels/train/IMG20250401205937.txt  \n",
            "  inflating: /content/dataset/data/labels/train/IMG20250401205941.txt  \n",
            "  inflating: /content/dataset/data/labels/train/IMG20250401205944.txt  \n",
            "  inflating: /content/dataset/data/labels/train/IMG20250401205949.txt  \n",
            "  inflating: /content/dataset/data/labels/train/IMG20250401205953.txt  \n",
            "  inflating: /content/dataset/data/labels/train/IMG20250401205957.txt  \n",
            "  inflating: /content/dataset/data/labels/train/IMG20250401210004.txt  \n",
            "  inflating: /content/dataset/data/labels/train/IMG20250401210005.txt  \n",
            "  inflating: /content/dataset/data/labels/train/IMG20250401210010.txt  \n",
            "  inflating: /content/dataset/data/labels/train/IMG20250401210017.txt  \n",
            "  inflating: /content/dataset/data/labels/train/IMG20250401210020.txt  \n",
            "  inflating: /content/dataset/data/labels/train/IMG20250401210024.txt  \n",
            "  inflating: /content/dataset/data/labels/train/IMG20250401210041.txt  \n",
            "  inflating: /content/dataset/data/labels/train/IMG20250401210044.txt  \n",
            "  inflating: /content/dataset/data/labels/train/IMG20250401210049.txt  \n",
            "  inflating: /content/dataset/data/labels/train/IMG20250401210056.txt  \n",
            "  inflating: /content/dataset/data/labels/train/IMG20250401210059.txt  \n",
            "  inflating: /content/dataset/data/labels/train/IMG20250401210104.txt  \n",
            "  inflating: /content/dataset/data/labels/train/IMG20250401210110.txt  \n",
            "  inflating: /content/dataset/data/labels/train/IMG20250401210115.txt  \n",
            "  inflating: /content/dataset/data/labels/train/IMG20250401210118.txt  \n",
            "  inflating: /content/dataset/data/labels/train/IMG20250401210154.txt  \n",
            "  inflating: /content/dataset/data/labels/train/IMG20250401210156.txt  \n",
            "  inflating: /content/dataset/data/labels/train/IMG20250401210159.txt  \n",
            "  inflating: /content/dataset/data/labels/train/IMG20250401210206.txt  \n",
            "  inflating: /content/dataset/data/labels/train/IMG20250401210210.txt  \n",
            "  inflating: /content/dataset/data/labels/train/IMG20250401210212.txt  \n",
            "  inflating: /content/dataset/data/labels/train/IMG20250401210217.txt  \n",
            "  inflating: /content/dataset/data/labels/train/IMG20250401210225.txt  \n",
            "  inflating: /content/dataset/data/labels/train/IMG20250401210228.txt  \n",
            "  inflating: /content/dataset/data/labels/train/IMG20250401210236.txt  \n",
            "  inflating: /content/dataset/data/labels/train/IMG20250401210242.txt  \n",
            "  inflating: /content/dataset/data/labels/train/IMG20250401210245.txt  \n",
            "  inflating: /content/dataset/data/labels/train/IMG20250401210250.txt  \n",
            "  inflating: /content/dataset/data/labels/train/IMG20250401210257.txt  \n",
            "  inflating: /content/dataset/data/labels/train/IMG20250401210303.txt  \n",
            "  inflating: /content/dataset/data/labels/train/IMG20250401210309.txt  \n",
            "  inflating: /content/dataset/data/labels/train/IMG20250401210315.txt  \n",
            "  inflating: /content/dataset/data/labels/train/IMG20250401210319.txt  \n",
            "  inflating: /content/dataset/data/labels/train/IMG20250401210325.txt  \n",
            "  inflating: /content/dataset/data/labels/train/IMG20250401210327.txt  \n",
            "  inflating: /content/dataset/data/labels/train/IMG20250401210332.txt  \n",
            "  inflating: /content/dataset/data/labels/train/IMG20250401210335.txt  \n",
            "  inflating: /content/dataset/data/labels/train/IMG20250401210338.txt  \n",
            "  inflating: /content/dataset/data/labels/train/IMG20250401210343.txt  \n",
            "  inflating: /content/dataset/data/labels/train/IMG20250401210350.txt  \n",
            "  inflating: /content/dataset/data/labels/train/IMG20250401210352.txt  \n",
            "  inflating: /content/dataset/data/labels/train/IMG20250401210357.txt  \n",
            "  inflating: /content/dataset/data/labels/train/IMG20250401210406.txt  \n",
            "  inflating: /content/dataset/data/labels/train/IMG20250401210409.txt  \n",
            "  inflating: /content/dataset/data/labels/train/IMG20250401210414.txt  \n",
            "  inflating: /content/dataset/data/labels/train/IMG20250401210417.txt  \n",
            "  inflating: /content/dataset/data/labels/train/IMG20250401210421.txt  \n",
            "  inflating: /content/dataset/data/labels/train/IMG_20250330_181302_TIMEBURST1.txt  \n",
            "  inflating: /content/dataset/data/labels/train/IMG_20250330_181302_TIMEBURST10.txt  \n",
            "  inflating: /content/dataset/data/labels/train/IMG_20250330_181302_TIMEBURST11.txt  \n",
            "  inflating: /content/dataset/data/labels/train/IMG_20250330_181302_TIMEBURST12.txt  \n",
            "  inflating: /content/dataset/data/labels/train/IMG_20250330_181302_TIMEBURST13.txt  \n",
            "  inflating: /content/dataset/data/labels/train/IMG_20250330_181302_TIMEBURST14.txt  \n",
            "  inflating: /content/dataset/data/labels/train/IMG_20250330_181302_TIMEBURST15.txt  \n",
            "  inflating: /content/dataset/data/labels/train/IMG_20250330_181302_TIMEBURST16.txt  \n",
            "  inflating: /content/dataset/data/labels/train/IMG_20250330_181302_TIMEBURST17.txt  \n",
            "  inflating: /content/dataset/data/labels/train/IMG_20250330_181302_TIMEBURST18.txt  \n",
            "  inflating: /content/dataset/data/labels/train/IMG_20250330_181302_TIMEBURST19.txt  \n",
            "  inflating: /content/dataset/data/labels/train/IMG_20250330_181302_TIMEBURST2.txt  \n",
            "  inflating: /content/dataset/data/labels/train/IMG_20250330_181302_TIMEBURST20.txt  \n",
            "  inflating: /content/dataset/data/labels/train/IMG_20250330_181302_TIMEBURST21.txt  \n",
            "  inflating: /content/dataset/data/labels/train/IMG_20250330_181302_TIMEBURST22.txt  \n",
            "  inflating: /content/dataset/data/labels/train/IMG_20250330_181302_TIMEBURST23.txt  \n",
            "  inflating: /content/dataset/data/labels/train/IMG_20250330_181302_TIMEBURST24.txt  \n",
            "  inflating: /content/dataset/data/labels/train/IMG_20250330_181302_TIMEBURST25.txt  \n",
            "  inflating: /content/dataset/data/labels/train/IMG_20250330_181302_TIMEBURST26.txt  \n",
            "  inflating: /content/dataset/data/labels/train/IMG_20250330_181302_TIMEBURST27.txt  \n",
            "  inflating: /content/dataset/data/labels/train/IMG_20250330_181302_TIMEBURST28.txt  \n",
            "  inflating: /content/dataset/data/labels/train/IMG_20250330_181302_TIMEBURST29.txt  \n",
            "  inflating: /content/dataset/data/labels/train/IMG_20250330_181302_TIMEBURST3.txt  \n",
            "  inflating: /content/dataset/data/labels/train/IMG_20250330_181302_TIMEBURST30.txt  \n",
            "  inflating: /content/dataset/data/labels/train/IMG_20250330_181302_TIMEBURST4.txt  \n",
            "  inflating: /content/dataset/data/labels/train/IMG_20250330_181302_TIMEBURST5.txt  \n",
            "  inflating: /content/dataset/data/labels/train/IMG_20250330_181302_TIMEBURST6.txt  \n",
            "  inflating: /content/dataset/data/labels/train/IMG_20250330_181302_TIMEBURST7.txt  \n",
            "  inflating: /content/dataset/data/labels/train/IMG_20250330_181302_TIMEBURST8.txt  \n",
            "  inflating: /content/dataset/data/labels/train/IMG_20250330_181302_TIMEBURST9.txt  \n",
            "  inflating: /content/dataset/data/labels/train/IMG_20250330_181756_TIMEBURST1.txt  \n",
            "  inflating: /content/dataset/data/labels/train/IMG_20250330_181756_TIMEBURST10.txt  \n",
            "  inflating: /content/dataset/data/labels/train/IMG_20250330_181756_TIMEBURST11.txt  \n",
            "  inflating: /content/dataset/data/labels/train/IMG_20250330_181756_TIMEBURST12.txt  \n",
            "  inflating: /content/dataset/data/labels/train/IMG_20250330_181756_TIMEBURST13.txt  \n",
            "  inflating: /content/dataset/data/labels/train/IMG_20250330_181756_TIMEBURST14.txt  \n",
            "  inflating: /content/dataset/data/labels/train/IMG_20250330_181756_TIMEBURST15.txt  \n",
            "  inflating: /content/dataset/data/labels/train/IMG_20250330_181756_TIMEBURST16.txt  \n",
            "  inflating: /content/dataset/data/labels/train/IMG_20250330_181756_TIMEBURST17.txt  \n",
            "  inflating: /content/dataset/data/labels/train/IMG_20250330_181756_TIMEBURST18.txt  \n",
            "  inflating: /content/dataset/data/labels/train/IMG_20250330_181756_TIMEBURST19.txt  \n",
            "  inflating: /content/dataset/data/labels/train/IMG_20250330_181756_TIMEBURST2.txt  \n",
            "  inflating: /content/dataset/data/labels/train/IMG_20250330_181756_TIMEBURST20.txt  \n",
            "  inflating: /content/dataset/data/labels/train/IMG_20250330_181756_TIMEBURST21.txt  \n",
            "  inflating: /content/dataset/data/labels/train/IMG_20250330_181756_TIMEBURST22.txt  \n",
            "  inflating: /content/dataset/data/labels/train/IMG_20250330_181756_TIMEBURST23.txt  \n",
            "  inflating: /content/dataset/data/labels/train/IMG_20250330_181756_TIMEBURST24.txt  \n",
            "  inflating: /content/dataset/data/labels/train/IMG_20250330_181756_TIMEBURST25.txt  \n",
            "  inflating: /content/dataset/data/labels/train/IMG_20250330_181756_TIMEBURST26.txt  \n",
            "  inflating: /content/dataset/data/labels/train/IMG_20250330_181756_TIMEBURST27.txt  \n",
            "  inflating: /content/dataset/data/labels/train/IMG_20250330_181756_TIMEBURST28.txt  \n",
            "  inflating: /content/dataset/data/labels/train/IMG_20250330_181756_TIMEBURST29.txt  \n",
            "  inflating: /content/dataset/data/labels/train/IMG_20250330_181756_TIMEBURST3.txt  \n",
            "  inflating: /content/dataset/data/labels/train/IMG_20250330_181756_TIMEBURST30.txt  \n",
            "  inflating: /content/dataset/data/labels/train/IMG_20250330_181756_TIMEBURST4.txt  \n",
            "  inflating: /content/dataset/data/labels/train/IMG_20250330_181756_TIMEBURST5.txt  \n",
            "  inflating: /content/dataset/data/labels/train/IMG_20250330_181756_TIMEBURST6.txt  \n",
            "  inflating: /content/dataset/data/labels/train/IMG_20250330_181756_TIMEBURST7.txt  \n",
            "  inflating: /content/dataset/data/labels/train/IMG_20250330_181756_TIMEBURST8.txt  \n",
            "  inflating: /content/dataset/data/labels/train/IMG_20250330_181756_TIMEBURST9.txt  \n",
            "  inflating: /content/dataset/data/labels/train/IMG_20250330_182246_TIMEBURST1.txt  \n",
            "  inflating: /content/dataset/data/labels/train/IMG_20250330_182246_TIMEBURST10.txt  \n",
            "  inflating: /content/dataset/data/labels/train/IMG_20250330_182246_TIMEBURST11.txt  \n",
            "  inflating: /content/dataset/data/labels/train/IMG_20250330_182246_TIMEBURST12.txt  \n",
            "  inflating: /content/dataset/data/labels/train/IMG_20250330_182246_TIMEBURST13.txt  \n",
            "  inflating: /content/dataset/data/labels/train/IMG_20250330_182246_TIMEBURST14.txt  \n",
            "  inflating: /content/dataset/data/labels/train/IMG_20250330_182246_TIMEBURST15.txt  \n",
            "  inflating: /content/dataset/data/labels/train/IMG_20250330_182246_TIMEBURST16.txt  \n",
            "  inflating: /content/dataset/data/labels/train/IMG_20250330_182246_TIMEBURST17.txt  \n",
            "  inflating: /content/dataset/data/labels/train/IMG_20250330_182246_TIMEBURST18.txt  \n",
            "  inflating: /content/dataset/data/labels/train/IMG_20250330_182246_TIMEBURST19.txt  \n",
            "  inflating: /content/dataset/data/labels/train/IMG_20250330_182246_TIMEBURST2.txt  \n",
            "  inflating: /content/dataset/data/labels/train/IMG_20250330_182246_TIMEBURST20.txt  \n",
            "  inflating: /content/dataset/data/labels/train/IMG_20250330_182246_TIMEBURST21.txt  \n",
            "  inflating: /content/dataset/data/labels/train/IMG_20250330_182246_TIMEBURST22.txt  \n",
            "  inflating: /content/dataset/data/labels/train/IMG_20250330_182246_TIMEBURST3.txt  \n",
            "  inflating: /content/dataset/data/labels/train/IMG_20250330_182246_TIMEBURST4.txt  \n",
            "  inflating: /content/dataset/data/labels/train/IMG_20250330_182246_TIMEBURST5.txt  \n",
            "  inflating: /content/dataset/data/labels/train/IMG_20250330_182246_TIMEBURST6.txt  \n",
            "  inflating: /content/dataset/data/labels/train/IMG_20250330_182246_TIMEBURST7.txt  \n",
            "  inflating: /content/dataset/data/labels/train/IMG_20250330_182246_TIMEBURST8.txt  \n",
            "  inflating: /content/dataset/data/labels/train/IMG_20250330_182246_TIMEBURST9.txt  \n",
            "  inflating: /content/dataset/data/labels/train/IMG_20250330_182915.txt  \n",
            "  inflating: /content/dataset/data/labels/train/IMG_20250330_182918.txt  \n",
            "  inflating: /content/dataset/data/labels/train/IMG_20250330_182925.txt  \n",
            "  inflating: /content/dataset/data/labels/train/IMG_20250330_182934.txt  \n",
            "  inflating: /content/dataset/data/labels/train/IMG_20250330_182941.txt  \n",
            "  inflating: /content/dataset/data/labels/train/IMG_20250330_182946.txt  \n",
            "  inflating: /content/dataset/data/labels/train/IMG_20250330_182951.txt  \n",
            "  inflating: /content/dataset/data/labels/train/IMG_20250330_183000.txt  \n",
            "  inflating: /content/dataset/data/labels/train/IMG_20250330_183420_TIMEBURST1.txt  \n",
            "  inflating: /content/dataset/data/labels/train/IMG_20250330_183420_TIMEBURST10.txt  \n",
            "  inflating: /content/dataset/data/labels/train/IMG_20250330_183420_TIMEBURST11.txt  \n",
            "  inflating: /content/dataset/data/labels/train/IMG_20250330_183420_TIMEBURST12.txt  \n",
            "  inflating: /content/dataset/data/labels/train/IMG_20250330_183420_TIMEBURST13.txt  \n",
            "  inflating: /content/dataset/data/labels/train/IMG_20250330_183420_TIMEBURST14.txt  \n",
            "  inflating: /content/dataset/data/labels/train/IMG_20250330_183420_TIMEBURST15.txt  \n",
            "  inflating: /content/dataset/data/labels/train/IMG_20250330_183420_TIMEBURST16.txt  \n",
            "  inflating: /content/dataset/data/labels/train/IMG_20250330_183420_TIMEBURST17.txt  \n",
            "  inflating: /content/dataset/data/labels/train/IMG_20250330_183420_TIMEBURST18.txt  \n",
            "  inflating: /content/dataset/data/labels/train/IMG_20250330_183420_TIMEBURST19.txt  \n",
            "  inflating: /content/dataset/data/labels/train/IMG_20250330_183420_TIMEBURST2.txt  \n",
            "  inflating: /content/dataset/data/labels/train/IMG_20250330_183420_TIMEBURST20.txt  \n",
            "  inflating: /content/dataset/data/labels/train/IMG_20250330_183420_TIMEBURST21.txt  \n",
            "  inflating: /content/dataset/data/labels/train/IMG_20250330_183420_TIMEBURST22.txt  \n",
            "  inflating: /content/dataset/data/labels/train/IMG_20250330_183420_TIMEBURST23.txt  \n",
            "  inflating: /content/dataset/data/labels/train/IMG_20250330_183420_TIMEBURST24.txt  \n",
            "  inflating: /content/dataset/data/labels/train/IMG_20250330_183420_TIMEBURST25.txt  \n",
            "  inflating: /content/dataset/data/labels/train/IMG_20250330_183420_TIMEBURST26.txt  \n",
            "  inflating: /content/dataset/data/labels/train/IMG_20250330_183420_TIMEBURST27.txt  \n",
            "  inflating: /content/dataset/data/labels/train/IMG_20250330_183420_TIMEBURST28.txt  \n",
            "  inflating: /content/dataset/data/labels/train/IMG_20250330_183420_TIMEBURST29.txt  \n",
            "  inflating: /content/dataset/data/labels/train/IMG_20250330_183420_TIMEBURST3.txt  \n",
            "  inflating: /content/dataset/data/labels/train/IMG_20250330_183420_TIMEBURST30.txt  \n",
            "  inflating: /content/dataset/data/labels/train/IMG_20250330_183420_TIMEBURST4.txt  \n",
            "  inflating: /content/dataset/data/labels/train/IMG_20250330_183420_TIMEBURST5.txt  \n",
            "  inflating: /content/dataset/data/labels/train/IMG_20250330_183420_TIMEBURST6.txt  \n",
            "  inflating: /content/dataset/data/labels/train/IMG_20250330_183420_TIMEBURST7.txt  \n",
            "  inflating: /content/dataset/data/labels/train/IMG_20250330_183420_TIMEBURST8.txt  \n",
            "  inflating: /content/dataset/data/labels/train/IMG_20250330_183420_TIMEBURST9.txt  \n",
            "  inflating: /content/dataset/data/labels/train/IMG_20250330_190050_TIMEBURST1.txt  \n",
            "  inflating: /content/dataset/data/labels/train/IMG_20250330_190050_TIMEBURST10.txt  \n",
            "  inflating: /content/dataset/data/labels/train/IMG_20250330_190050_TIMEBURST11.txt  \n",
            "  inflating: /content/dataset/data/labels/train/IMG_20250330_190050_TIMEBURST12.txt  \n",
            "  inflating: /content/dataset/data/labels/train/IMG_20250330_190050_TIMEBURST13.txt  \n",
            "  inflating: /content/dataset/data/labels/train/IMG_20250330_190050_TIMEBURST14.txt  \n",
            "  inflating: /content/dataset/data/labels/train/IMG_20250330_190050_TIMEBURST15.txt  \n",
            "  inflating: /content/dataset/data/labels/train/IMG_20250330_190050_TIMEBURST16.txt  \n",
            "  inflating: /content/dataset/data/labels/train/IMG_20250330_190050_TIMEBURST17.txt  \n",
            "  inflating: /content/dataset/data/labels/train/IMG_20250330_190050_TIMEBURST18.txt  \n",
            "  inflating: /content/dataset/data/labels/train/IMG_20250330_190050_TIMEBURST19.txt  \n",
            "  inflating: /content/dataset/data/labels/train/IMG_20250330_190050_TIMEBURST2.txt  \n",
            "  inflating: /content/dataset/data/labels/train/IMG_20250330_190050_TIMEBURST20.txt  \n",
            "  inflating: /content/dataset/data/labels/train/IMG_20250330_190050_TIMEBURST21.txt  \n",
            "  inflating: /content/dataset/data/labels/train/IMG_20250330_190050_TIMEBURST22.txt  \n",
            "  inflating: /content/dataset/data/labels/train/IMG_20250330_190050_TIMEBURST23.txt  \n",
            "  inflating: /content/dataset/data/labels/train/IMG_20250330_190050_TIMEBURST24.txt  \n",
            "  inflating: /content/dataset/data/labels/train/IMG_20250330_190050_TIMEBURST25.txt  \n",
            "  inflating: /content/dataset/data/labels/train/IMG_20250330_190050_TIMEBURST26.txt  \n",
            "  inflating: /content/dataset/data/labels/train/IMG_20250330_190050_TIMEBURST28.txt  \n",
            "  inflating: /content/dataset/data/labels/train/IMG_20250330_190050_TIMEBURST29.txt  \n",
            "  inflating: /content/dataset/data/labels/train/IMG_20250330_190050_TIMEBURST3.txt  \n",
            "  inflating: /content/dataset/data/labels/train/IMG_20250330_190050_TIMEBURST30.txt  \n",
            "  inflating: /content/dataset/data/labels/train/IMG_20250330_190050_TIMEBURST4.txt  \n",
            "  inflating: /content/dataset/data/labels/train/IMG_20250330_190050_TIMEBURST5.txt  \n",
            "  inflating: /content/dataset/data/labels/train/IMG_20250330_190050_TIMEBURST6.txt  \n",
            "  inflating: /content/dataset/data/labels/train/IMG_20250330_190050_TIMEBURST7.txt  \n",
            "  inflating: /content/dataset/data/labels/train/IMG_20250330_190050_TIMEBURST8.txt  \n",
            "  inflating: /content/dataset/data/labels/train/IMG_20250330_190050_TIMEBURST9.txt  \n",
            "  inflating: /content/dataset/data/labels/train/IMG_20250330_190422.txt  \n",
            "  inflating: /content/dataset/data/labels/train/IMG_20250330_190456_TIMEBURST1.txt  \n",
            "  inflating: /content/dataset/data/labels/train/IMG_20250330_190456_TIMEBURST2.txt  \n",
            "  inflating: /content/dataset/data/labels/train/IMG_20250330_190456_TIMEBURST3.txt  \n",
            "  inflating: /content/dataset/data/labels/train/IMG_20250330_190456_TIMEBURST4.txt  \n",
            "  inflating: /content/dataset/data/labels/train/IMG_20250330_190456_TIMEBURST5.txt  \n",
            "  inflating: /content/dataset/data/labels/train/IMG_20250330_190456_TIMEBURST6.txt  \n",
            "  inflating: /content/dataset/data/labels/train/IMG_20250330_190456_TIMEBURST7.txt  \n",
            "  inflating: /content/dataset/data/labels/train/IMG_20250330_190456_TIMEBURST8.txt  \n",
            "  inflating: /content/dataset/data/labels/train/IMG_20250402_220713_TIMEBURST10.txt  \n",
            "  inflating: /content/dataset/data/labels/train/IMG_20250402_220713_TIMEBURST11.txt  \n",
            "  inflating: /content/dataset/data/labels/train/IMG_20250402_220713_TIMEBURST12.txt  \n",
            "  inflating: /content/dataset/data/labels/train/IMG_20250402_220713_TIMEBURST13.txt  \n",
            "  inflating: /content/dataset/data/labels/train/IMG_20250402_220713_TIMEBURST14.txt  \n",
            "  inflating: /content/dataset/data/labels/train/IMG_20250402_220713_TIMEBURST15.txt  \n",
            "  inflating: /content/dataset/data/labels/train/IMG_20250402_220713_TIMEBURST16.txt  \n",
            "  inflating: /content/dataset/data/labels/train/IMG_20250402_220713_TIMEBURST17.txt  \n",
            "  inflating: /content/dataset/data/labels/train/IMG_20250402_220713_TIMEBURST18.txt  \n",
            "  inflating: /content/dataset/data/labels/train/IMG_20250402_220713_TIMEBURST19.txt  \n",
            "  inflating: /content/dataset/data/labels/train/IMG_20250402_220713_TIMEBURST2.txt  \n",
            "  inflating: /content/dataset/data/labels/train/IMG_20250402_220713_TIMEBURST20.txt  \n",
            "  inflating: /content/dataset/data/labels/train/IMG_20250402_220713_TIMEBURST21.txt  \n",
            "  inflating: /content/dataset/data/labels/train/IMG_20250402_220713_TIMEBURST22.txt  \n",
            "  inflating: /content/dataset/data/labels/train/IMG_20250402_221044_TIMEBURST1.txt  \n",
            "  inflating: /content/dataset/data/labels/train/IMG_20250402_221044_TIMEBURST10.txt  \n",
            "  inflating: /content/dataset/data/labels/train/IMG_20250402_221044_TIMEBURST11.txt  \n",
            "  inflating: /content/dataset/data/labels/train/IMG_20250402_221044_TIMEBURST12.txt  \n",
            "  inflating: /content/dataset/data/labels/train/IMG_20250402_221044_TIMEBURST13.txt  \n",
            "  inflating: /content/dataset/data/labels/train/IMG_20250402_221044_TIMEBURST14.txt  \n",
            "  inflating: /content/dataset/data/labels/train/IMG_20250402_221044_TIMEBURST15.txt  \n",
            "  inflating: /content/dataset/data/labels/train/IMG_20250402_221044_TIMEBURST16.txt  \n",
            "  inflating: /content/dataset/data/labels/train/IMG_20250402_221044_TIMEBURST17.txt  \n",
            "  inflating: /content/dataset/data/labels/train/IMG_20250402_221044_TIMEBURST18.txt  \n",
            "  inflating: /content/dataset/data/labels/train/IMG_20250402_221044_TIMEBURST19.txt  \n",
            "  inflating: /content/dataset/data/labels/train/IMG_20250402_221044_TIMEBURST2.txt  \n",
            "  inflating: /content/dataset/data/labels/train/IMG_20250402_221044_TIMEBURST20.txt  \n",
            "  inflating: /content/dataset/data/labels/train/IMG_20250402_221044_TIMEBURST21.txt  \n",
            "  inflating: /content/dataset/data/labels/train/IMG_20250402_221044_TIMEBURST22.txt  \n",
            "  inflating: /content/dataset/data/labels/train/IMG_20250402_221044_TIMEBURST23.txt  \n",
            "  inflating: /content/dataset/data/labels/train/IMG_20250402_221044_TIMEBURST24.txt  \n",
            "  inflating: /content/dataset/data/labels/train/IMG_20250402_221044_TIMEBURST25.txt  \n",
            "  inflating: /content/dataset/data/labels/train/IMG_20250402_221044_TIMEBURST26.txt  \n",
            "  inflating: /content/dataset/data/labels/train/IMG_20250402_221044_TIMEBURST27.txt  \n",
            "  inflating: /content/dataset/data/labels/train/IMG_20250402_221044_TIMEBURST28.txt  \n",
            "  inflating: /content/dataset/data/labels/train/IMG_20250402_221044_TIMEBURST29.txt  \n",
            "  inflating: /content/dataset/data/labels/train/IMG_20250402_221044_TIMEBURST3.txt  \n",
            "  inflating: /content/dataset/data/labels/train/IMG_20250402_221044_TIMEBURST30.txt  \n",
            "  inflating: /content/dataset/data/labels/train/IMG_20250402_221044_TIMEBURST4.txt  \n",
            "  inflating: /content/dataset/data/labels/train/IMG_20250402_221044_TIMEBURST5.txt  \n",
            "  inflating: /content/dataset/data/labels/train/IMG_20250402_221044_TIMEBURST6.txt  \n",
            "  inflating: /content/dataset/data/labels/train/IMG_20250402_221044_TIMEBURST7.txt  \n",
            "  inflating: /content/dataset/data/labels/train/IMG_20250402_221044_TIMEBURST8.txt  \n",
            "  inflating: /content/dataset/data/labels/train/IMG_20250402_221044_TIMEBURST9.txt  \n",
            "  inflating: /content/dataset/data/labels/train/IMG_20250402_221406_TIMEBURST1.txt  \n",
            "  inflating: /content/dataset/data/labels/train/IMG_20250402_221406_TIMEBURST10.txt  \n",
            "  inflating: /content/dataset/data/labels/train/IMG_20250402_221406_TIMEBURST11.txt  \n",
            "  inflating: /content/dataset/data/labels/train/IMG_20250402_221406_TIMEBURST12.txt  \n",
            "  inflating: /content/dataset/data/labels/train/IMG_20250402_221406_TIMEBURST13.txt  \n",
            "  inflating: /content/dataset/data/labels/train/IMG_20250402_221406_TIMEBURST14.txt  \n",
            "  inflating: /content/dataset/data/labels/train/IMG_20250402_221406_TIMEBURST15.txt  \n",
            "  inflating: /content/dataset/data/labels/train/IMG_20250402_221406_TIMEBURST16.txt  \n",
            "  inflating: /content/dataset/data/labels/train/IMG_20250402_221406_TIMEBURST17.txt  \n",
            "  inflating: /content/dataset/data/labels/train/IMG_20250402_221406_TIMEBURST2.txt  \n",
            "  inflating: /content/dataset/data/labels/train/IMG_20250402_221406_TIMEBURST3.txt  \n",
            "  inflating: /content/dataset/data/labels/train/IMG_20250402_221406_TIMEBURST4.txt  \n",
            "  inflating: /content/dataset/data/labels/train/IMG_20250402_221406_TIMEBURST5.txt  \n",
            "  inflating: /content/dataset/data/labels/train/IMG_20250402_221406_TIMEBURST6.txt  \n",
            "  inflating: /content/dataset/data/labels/train/IMG_20250402_221406_TIMEBURST7.txt  \n",
            "  inflating: /content/dataset/data/labels/train/IMG_20250402_221406_TIMEBURST8.txt  \n",
            "  inflating: /content/dataset/data/labels/train/IMG_20250402_221406_TIMEBURST9.txt  \n",
            "  inflating: /content/dataset/data/labels/train/Pieza Defectuosa. 1.txt  \n",
            "  inflating: /content/dataset/data/labels/train/Pieza Defectuosa. 10.txt  \n",
            "  inflating: /content/dataset/data/labels/train/Pieza Defectuosa. 11.txt  \n",
            "  inflating: /content/dataset/data/labels/train/Pieza Defectuosa. 12.txt  \n",
            "  inflating: /content/dataset/data/labels/train/Pieza Defectuosa. 13.txt  \n",
            "  inflating: /content/dataset/data/labels/train/Pieza Defectuosa. 14.txt  \n",
            "  inflating: /content/dataset/data/labels/train/Pieza Defectuosa. 15.txt  \n",
            "  inflating: /content/dataset/data/labels/train/Pieza Defectuosa. 16.txt  \n",
            "  inflating: /content/dataset/data/labels/train/Pieza Defectuosa. 17.txt  \n",
            "  inflating: /content/dataset/data/labels/train/Pieza Defectuosa. 18.txt  \n",
            "  inflating: /content/dataset/data/labels/train/Pieza Defectuosa. 19.txt  \n",
            "  inflating: /content/dataset/data/labels/train/Pieza Defectuosa. 2.txt  \n",
            "  inflating: /content/dataset/data/labels/train/Pieza Defectuosa. 20.txt  \n",
            "  inflating: /content/dataset/data/labels/train/Pieza Defectuosa. 21.txt  \n",
            "  inflating: /content/dataset/data/labels/train/Pieza Defectuosa. 22.txt  \n",
            "  inflating: /content/dataset/data/labels/train/Pieza Defectuosa. 23.txt  \n",
            "  inflating: /content/dataset/data/labels/train/Pieza Defectuosa. 24.txt  \n",
            "  inflating: /content/dataset/data/labels/train/Pieza Defectuosa. 25.txt  \n",
            "  inflating: /content/dataset/data/labels/train/Pieza Defectuosa. 26.txt  \n",
            "  inflating: /content/dataset/data/labels/train/Pieza Defectuosa. 27.txt  \n",
            "  inflating: /content/dataset/data/labels/train/Pieza Defectuosa. 28.txt  \n",
            "  inflating: /content/dataset/data/labels/train/Pieza Defectuosa. 29.txt  \n",
            "  inflating: /content/dataset/data/labels/train/Pieza Defectuosa. 3.txt  \n",
            "  inflating: /content/dataset/data/labels/train/Pieza Defectuosa. 30.txt  \n",
            "  inflating: /content/dataset/data/labels/train/Pieza Defectuosa. 31.txt  \n",
            "  inflating: /content/dataset/data/labels/train/Pieza Defectuosa. 32.txt  \n",
            "  inflating: /content/dataset/data/labels/train/Pieza Defectuosa. 33.txt  \n",
            "  inflating: /content/dataset/data/labels/train/Pieza Defectuosa. 34.txt  \n",
            "  inflating: /content/dataset/data/labels/train/Pieza Defectuosa. 35.txt  \n",
            "  inflating: /content/dataset/data/labels/train/Pieza Defectuosa. 36.txt  \n",
            "  inflating: /content/dataset/data/labels/train/Pieza Defectuosa. 37.txt  \n",
            "  inflating: /content/dataset/data/labels/train/Pieza Defectuosa. 38.txt  \n",
            "  inflating: /content/dataset/data/labels/train/Pieza Defectuosa. 39.txt  \n",
            "  inflating: /content/dataset/data/labels/train/Pieza Defectuosa. 4.txt  \n",
            "  inflating: /content/dataset/data/labels/train/Pieza Defectuosa. 40.txt  \n",
            "  inflating: /content/dataset/data/labels/train/Pieza Defectuosa. 5.txt  \n",
            "  inflating: /content/dataset/data/labels/train/Pieza Defectuosa. 6.txt  \n",
            "  inflating: /content/dataset/data/labels/train/Pieza Defectuosa. 7.txt  \n",
            "  inflating: /content/dataset/data/labels/train/Pieza Defectuosa. 8.txt  \n",
            "  inflating: /content/dataset/data/labels/train/Pieza Defectuosa. 9.txt  \n",
            "  inflating: /content/dataset/data/labels/train/Pieza Plana Gris Below 1..txt  \n",
            "  inflating: /content/dataset/data/labels/train/Pieza Plana Gris Below 2..txt  \n",
            "  inflating: /content/dataset/data/labels/train/Pieza Plana Gris Below 3..txt  \n",
            "  inflating: /content/dataset/data/labels/train/Pieza Plana Gris Below 4..txt  \n",
            "  inflating: /content/dataset/data/labels/train/Pieza Plana Gris Below 5..txt  \n",
            "  inflating: /content/dataset/data/labels/train/Pieza Plana Gris con Guia Below 1..txt  \n",
            "  inflating: /content/dataset/data/labels/train/Pieza Plana Gris con Guia Below 2..txt  \n",
            "  inflating: /content/dataset/data/labels/train/Pieza Plana Gris con Guia Below 3..txt  \n",
            "  inflating: /content/dataset/data/labels/train/Pieza Plana Gris con Guia Below 4..txt  \n",
            "  inflating: /content/dataset/data/labels/train/Pieza Plana Gris con Guia Below 5..txt  \n",
            "  inflating: /content/dataset/data/labels/train/Pieza Plana Gris con Guia Below 6..txt  \n",
            "  inflating: /content/dataset/data/labels/train/Pieza Plana Gris con Guia Below 7..txt  \n",
            "  inflating: /content/dataset/data/labels/train/Pieza Plana Gris con Guia Below 8..txt  \n",
            "  inflating: /content/dataset/data/labels/train/Pieza Plana Gris con Guia Top 1..txt  \n",
            "  inflating: /content/dataset/data/labels/train/Pieza Plana Gris con Guia Top 2..txt  \n",
            "  inflating: /content/dataset/data/labels/train/Pieza Plana Gris con Guia Top 3..txt  \n",
            "  inflating: /content/dataset/data/labels/train/Pieza Plana Gris con Guia Top 4..txt  \n",
            "  inflating: /content/dataset/data/labels/train/Pieza Plana Gris con Guia Top 5..txt  \n",
            "  inflating: /content/dataset/data/labels/train/Pieza Plana Gris con Guia Top 6..txt  \n",
            "  inflating: /content/dataset/data/labels/train/Pieza Plana Gris con Guia Top 7..txt  \n",
            "  inflating: /content/dataset/data/labels/train/Pieza Plana Gris con Guia Top 8..txt  \n",
            "  inflating: /content/dataset/data/labels/train/Pieza Plana Gris Top 1..txt  \n",
            "  inflating: /content/dataset/data/labels/train/Pieza Plana Gris Top 2..txt  \n",
            "  inflating: /content/dataset/data/labels/train/Pieza Plana Gris Top 3..txt  \n",
            "  inflating: /content/dataset/data/labels/train/Pieza Plana Gris Top 4..txt  \n",
            "  inflating: /content/dataset/data/labels/train/Pieza Plana Gris Top 5..txt  \n",
            "  inflating: /content/dataset/data/labels/train/Pieza Plana Negro Below 1..txt  \n",
            "  inflating: /content/dataset/data/labels/train/Pieza Plana Negro Below 2..txt  \n",
            "  inflating: /content/dataset/data/labels/train/Pieza Plana Negro Below 3..txt  \n",
            "  inflating: /content/dataset/data/labels/train/Pieza Plana Negro Below 4..txt  \n",
            "  inflating: /content/dataset/data/labels/train/Pieza Plana Negro Below 5..txt  \n",
            "  inflating: /content/dataset/data/labels/train/Pieza Plana Negro con Guia Below 1..txt  \n",
            "  inflating: /content/dataset/data/labels/train/Pieza Plana Negro con Guia Below 2..txt  \n",
            "  inflating: /content/dataset/data/labels/train/Pieza Plana Negro con Guia Below 3..txt  \n",
            "  inflating: /content/dataset/data/labels/train/Pieza Plana Negro con Guia Below 4..txt  \n",
            "  inflating: /content/dataset/data/labels/train/Pieza Plana Negro con Guia Below 5..txt  \n",
            "  inflating: /content/dataset/data/labels/train/Pieza Plana Negro con Guia Below 6..txt  \n",
            "  inflating: /content/dataset/data/labels/train/Pieza Plana Negro con Guia Below 7..txt  \n",
            "  inflating: /content/dataset/data/labels/train/Pieza Plana Negro con Guia Top 1..txt  \n",
            "  inflating: /content/dataset/data/labels/train/Pieza Plana Negro con Guia Top 2..txt  \n",
            "  inflating: /content/dataset/data/labels/train/Pieza Plana Negro con Guia Top 3..txt  \n",
            "  inflating: /content/dataset/data/labels/train/Pieza Plana Negro con Guia Top 4..txt  \n",
            "  inflating: /content/dataset/data/labels/train/Pieza Plana Negro con Guia Top 5..txt  \n",
            "  inflating: /content/dataset/data/labels/train/Pieza Plana Negro con Guia Top 6..txt  \n",
            "  inflating: /content/dataset/data/labels/train/Pieza Plana Negro con Guia Top 7..txt  \n",
            "  inflating: /content/dataset/data/labels/train/Pieza Plana Negro Top 1..txt  \n",
            "  inflating: /content/dataset/data/labels/train/Pieza Plana Negro Top 2..txt  \n",
            "  inflating: /content/dataset/data/labels/train/Pieza Plana Negro Top 3..txt  \n",
            "  inflating: /content/dataset/data/labels/train/Pieza Plana Negro Top 4..txt  \n",
            "  inflating: /content/dataset/data/labels/train/Pieza Plana Negro Top 5..txt  \n",
            "   creating: /content/dataset/data/labels/val/\n",
            "  inflating: /content/dataset/data/labels/val/20250330_035140286_iOS.txt  \n",
            "  inflating: /content/dataset/data/labels/val/20250330_035143482_iOS.txt  \n",
            "  inflating: /content/dataset/data/labels/val/20250330_035145872_iOS.txt  \n",
            "  inflating: /content/dataset/data/labels/val/20250330_035152088_iOS.txt  \n",
            "  inflating: /content/dataset/data/labels/val/20250330_035153509_iOS.txt  \n",
            "  inflating: /content/dataset/data/labels/val/20250330_035153947_iOS.txt  \n",
            "  inflating: /content/dataset/data/labels/val/20250330_040819744_iOS.txt  \n",
            "  inflating: /content/dataset/data/labels/val/20250330_040822392_iOS.txt  \n",
            "  inflating: /content/dataset/data/labels/val/20250330_040825997_iOS.txt  \n",
            "  inflating: /content/dataset/data/labels/val/20250330_040828588_iOS.txt  \n",
            "  inflating: /content/dataset/data/labels/val/20250330_040831925_iOS.txt  \n",
            "  inflating: /content/dataset/data/labels/val/20250330_040834299_iOS.txt  \n",
            "  inflating: /content/dataset/data/labels/val/20250330_040839876_iOS.txt  \n",
            "  inflating: /content/dataset/data/labels/val/20250330_040842116_iOS.txt  \n",
            "  inflating: /content/dataset/data/labels/val/20250330_040844519_iOS.txt  \n",
            "  inflating: /content/dataset/data/labels/val/20250330_040847263_iOS.txt  \n",
            "  inflating: /content/dataset/data/labels/val/20250330_040850204_iOS.txt  \n",
            "  inflating: /content/dataset/data/labels/val/20250330_040853094_iOS.txt  \n",
            "  inflating: /content/dataset/data/labels/val/20250330_040857087_iOS.txt  \n",
            "  inflating: /content/dataset/data/labels/val/20250330_040859444_iOS.txt  \n",
            "  inflating: /content/dataset/data/labels/val/20250330_040938988_iOS.txt  \n",
            "  inflating: /content/dataset/data/labels/val/20250330_040942227_iOS.txt  \n",
            "  inflating: /content/dataset/data/labels/val/20250330_040948564_iOS.txt  \n",
            "  inflating: /content/dataset/data/labels/val/20250330_040952188_iOS.txt  \n",
            "  inflating: /content/dataset/data/labels/val/20250330_040955419_iOS.txt  \n",
            "  inflating: /content/dataset/data/labels/val/20250330_040955834_iOS.txt  \n",
            "  inflating: /content/dataset/data/labels/val/20250330_040958970_iOS.txt  \n",
            "  inflating: /content/dataset/data/labels/val/20250330_041001807_iOS.txt  \n",
            "  inflating: /content/dataset/data/labels/val/20250330_041005216_iOS.txt  \n",
            "  inflating: /content/dataset/data/labels/val/20250330_041017207_iOS.txt  \n",
            "  inflating: /content/dataset/data/labels/val/20250330_041020878_iOS.txt  \n",
            "  inflating: /content/dataset/data/labels/val/20250330_041024905_iOS.txt  \n",
            "  inflating: /content/dataset/data/labels/val/20250330_041028348_iOS.txt  \n",
            "  inflating: /content/dataset/data/labels/val/20250330_041032050_iOS.txt  \n",
            "  inflating: /content/dataset/data/labels/val/IMG20250401211118.txt  \n",
            "  inflating: /content/dataset/data/labels/val/IMG20250401211120.txt  \n",
            "  inflating: /content/dataset/data/labels/val/IMG20250401211123.txt  \n",
            "  inflating: /content/dataset/data/labels/val/IMG20250401211129.txt  \n",
            "  inflating: /content/dataset/data/labels/val/IMG20250401211133.txt  \n",
            "  inflating: /content/dataset/data/labels/val/IMG20250401211137.txt  \n",
            "  inflating: /content/dataset/data/labels/val/IMG20250401211142.txt  \n",
            "  inflating: /content/dataset/data/labels/val/IMG20250401211146.txt  \n",
            "  inflating: /content/dataset/data/labels/val/IMG20250401211151.txt  \n",
            "  inflating: /content/dataset/data/labels/val/IMG20250401211204.txt  \n",
            "  inflating: /content/dataset/data/labels/val/IMG20250401211208.txt  \n",
            "  inflating: /content/dataset/data/labels/val/IMG20250401211211.txt  \n",
            "  inflating: /content/dataset/data/labels/val/IMG20250401211222.txt  \n",
            "  inflating: /content/dataset/data/labels/val/IMG20250401211225.txt  \n",
            "  inflating: /content/dataset/data/labels/val/IMG20250401211228.txt  \n",
            "  inflating: /content/dataset/data/labels/val/IMG20250401211236.txt  \n",
            "  inflating: /content/dataset/data/labels/val/IMG20250401211239.txt  \n",
            "  inflating: /content/dataset/data/labels/val/IMG20250401211247.txt  \n",
            "  inflating: /content/dataset/data/labels/val/IMG20250401211249.txt  \n",
            "  inflating: /content/dataset/data/labels/val/IMG20250401211259.txt  \n",
            "  inflating: /content/dataset/data/labels/val/IMG20250401211302.txt  \n",
            "  inflating: /content/dataset/data/labels/val/IMG20250401211306.txt  \n",
            "  inflating: /content/dataset/data/labels/val/IMG20250401211310.txt  \n",
            "  inflating: /content/dataset/data/labels/val/IMG20250401211312.txt  \n",
            "  inflating: /content/dataset/data/labels/val/IMG20250401211318.txt  \n",
            "  inflating: /content/dataset/data/labels/val/IMG20250401211321.txt  \n",
            "  inflating: /content/dataset/data/labels/val/IMG20250401211325.txt  \n",
            "  inflating: /content/dataset/data/labels/val/IMG20250401211346.txt  \n",
            "  inflating: /content/dataset/data/labels/val/IMG20250401211349.txt  \n",
            "  inflating: /content/dataset/data/labels/val/IMG20250401211352.txt  \n",
            "  inflating: /content/dataset/data/labels/val/IMG20250401211357.txt  \n",
            "  inflating: /content/dataset/data/labels/val/IMG20250401211400.txt  \n",
            "  inflating: /content/dataset/data/labels/val/IMG20250401211404.txt  \n",
            "  inflating: /content/dataset/data/labels/val/IMG20250401211419.txt  \n",
            "  inflating: /content/dataset/data/labels/val/IMG20250401211422.txt  \n",
            "  inflating: /content/dataset/data/labels/val/IMG20250401211426.txt  \n",
            "  inflating: /content/dataset/data/labels/val/IMG20250401211428.txt  \n",
            "  inflating: /content/dataset/data/labels/val/IMG20250401211433.txt  \n",
            "  inflating: /content/dataset/data/labels/val/IMG20250401211438.txt  \n",
            "  inflating: /content/dataset/data/labels/val/IMG20250401211440.txt  \n",
            "  inflating: /content/dataset/data/labels/val/IMG20250401211443.txt  \n",
            "  inflating: /content/dataset/data/labels/val/IMG20250401211459.txt  \n",
            "  inflating: /content/dataset/data/labels/val/IMG20250401211501.txt  \n",
            "  inflating: /content/dataset/data/labels/val/IMG20250401211504.txt  \n",
            "  inflating: /content/dataset/data/labels/val/IMG20250401211508.txt  \n",
            "  inflating: /content/dataset/data/labels/val/IMG20250401211510.txt  \n",
            "  inflating: /content/dataset/data/labels/val/IMG20250401211514.txt  \n",
            "  inflating: /content/dataset/data/labels/val/IMG20250401211523.txt  \n",
            "  inflating: /content/dataset/data/labels/val/IMG20250401211525.txt  \n",
            "  inflating: /content/dataset/data/labels/val/IMG20250401211530.txt  \n",
            "  inflating: /content/dataset/data/labels/val/IMG20250401211535.txt  \n",
            "  inflating: /content/dataset/data/labels/val/IMG20250401211537.txt  \n",
            "  inflating: /content/dataset/data/labels/val/IMG20250401211539.txt  \n",
            "  inflating: /content/dataset/data/labels/val/IMG20250401211545.txt  \n",
            "  inflating: /content/dataset/data/labels/val/IMG20250401211548.txt  \n",
            "  inflating: /content/dataset/data/labels/val/IMG20250401211551.txt  \n",
            "  inflating: /content/dataset/data/labels/val/IMG20250401211554.txt  \n",
            "  inflating: /content/dataset/data/labels/val/IMG_20250330_190456_TIMEBURST10.txt  \n",
            "  inflating: /content/dataset/data/labels/val/IMG_20250330_190456_TIMEBURST11.txt  \n",
            "  inflating: /content/dataset/data/labels/val/IMG_20250330_190456_TIMEBURST12.txt  \n",
            "  inflating: /content/dataset/data/labels/val/IMG_20250330_190456_TIMEBURST13.txt  \n",
            "  inflating: /content/dataset/data/labels/val/IMG_20250330_190456_TIMEBURST14.txt  \n",
            "  inflating: /content/dataset/data/labels/val/IMG_20250330_190456_TIMEBURST15.txt  \n",
            "  inflating: /content/dataset/data/labels/val/IMG_20250330_190456_TIMEBURST16.txt  \n",
            "  inflating: /content/dataset/data/labels/val/IMG_20250330_190456_TIMEBURST17.txt  \n",
            "  inflating: /content/dataset/data/labels/val/IMG_20250330_190456_TIMEBURST18.txt  \n",
            "  inflating: /content/dataset/data/labels/val/IMG_20250330_190456_TIMEBURST19.txt  \n",
            "  inflating: /content/dataset/data/labels/val/IMG_20250330_190456_TIMEBURST20.txt  \n",
            "  inflating: /content/dataset/data/labels/val/IMG_20250330_190456_TIMEBURST22.txt  \n",
            "  inflating: /content/dataset/data/labels/val/IMG_20250330_190456_TIMEBURST23.txt  \n",
            "  inflating: /content/dataset/data/labels/val/IMG_20250330_190456_TIMEBURST24.txt  \n",
            "  inflating: /content/dataset/data/labels/val/IMG_20250330_190456_TIMEBURST25.txt  \n",
            "  inflating: /content/dataset/data/labels/val/IMG_20250330_190456_TIMEBURST26.txt  \n",
            "  inflating: /content/dataset/data/labels/val/IMG_20250330_190456_TIMEBURST27.txt  \n",
            "  inflating: /content/dataset/data/labels/val/IMG_20250330_190456_TIMEBURST28.txt  \n",
            "  inflating: /content/dataset/data/labels/val/IMG_20250330_190456_TIMEBURST29.txt  \n",
            "  inflating: /content/dataset/data/labels/val/IMG_20250330_190456_TIMEBURST9.txt  \n",
            "  inflating: /content/dataset/data/labels/val/IMG_20250330_190905.txt  \n",
            "  inflating: /content/dataset/data/labels/val/IMG_20250330_190914.txt  \n",
            "  inflating: /content/dataset/data/labels/val/IMG_20250402_220713_TIMEBURST1.txt  \n",
            "  inflating: /content/dataset/data/labels/val/IMG_20250402_221406_TIMEBURST18.txt  \n",
            "  inflating: /content/dataset/data/labels/val/IMG_20250402_221406_TIMEBURST19.txt  \n",
            "  inflating: /content/dataset/data/labels/val/IMG_20250402_221406_TIMEBURST20.txt  \n",
            "  inflating: /content/dataset/data/labels/val/IMG_20250402_221406_TIMEBURST21.txt  \n",
            "  inflating: /content/dataset/data/labels/val/IMG_20250402_221406_TIMEBURST22.txt  \n",
            "  inflating: /content/dataset/data/labels/val/IMG_20250402_221406_TIMEBURST23.txt  \n",
            "  inflating: /content/dataset/data/labels/val/IMG_20250402_221406_TIMEBURST24.txt  \n",
            "  inflating: /content/dataset/data/labels/val/IMG_20250402_221406_TIMEBURST25.txt  \n",
            "  inflating: /content/dataset/data/labels/val/IMG_20250402_221406_TIMEBURST26.txt  \n",
            "  inflating: /content/dataset/data/labels/val/IMG_20250402_221406_TIMEBURST27.txt  \n",
            "  inflating: /content/dataset/data/labels/val/IMG_20250402_221406_TIMEBURST28.txt  \n",
            "  inflating: /content/dataset/data/labels/val/IMG_20250402_221406_TIMEBURST29.txt  \n",
            "  inflating: /content/dataset/data/labels/val/IMG_20250402_221406_TIMEBURST30.txt  \n"
          ]
        }
      ]
    },
    {
      "cell_type": "code",
      "source": [
        "# 1. Instalar YOLOv8 (versión optimizada)\n",
        "!pip install ultralytics"
      ],
      "metadata": {
        "colab": {
          "base_uri": "https://localhost:8080/"
        },
        "id": "FyFepxGCHz51",
        "outputId": "54f77323-0619-4bc8-ee18-e526a9c76bc3"
      },
      "execution_count": 6,
      "outputs": [
        {
          "output_type": "stream",
          "name": "stdout",
          "text": [
            "Requirement already satisfied: ultralytics in /usr/local/lib/python3.11/dist-packages (8.3.131)\n",
            "Requirement already satisfied: numpy>=1.23.0 in /usr/local/lib/python3.11/dist-packages (from ultralytics) (2.0.2)\n",
            "Requirement already satisfied: matplotlib>=3.3.0 in /usr/local/lib/python3.11/dist-packages (from ultralytics) (3.10.0)\n",
            "Requirement already satisfied: opencv-python>=4.6.0 in /usr/local/lib/python3.11/dist-packages (from ultralytics) (4.11.0.86)\n",
            "Requirement already satisfied: pillow>=7.1.2 in /usr/local/lib/python3.11/dist-packages (from ultralytics) (11.2.1)\n",
            "Requirement already satisfied: pyyaml>=5.3.1 in /usr/local/lib/python3.11/dist-packages (from ultralytics) (6.0.2)\n",
            "Requirement already satisfied: requests>=2.23.0 in /usr/local/lib/python3.11/dist-packages (from ultralytics) (2.32.3)\n",
            "Requirement already satisfied: scipy>=1.4.1 in /usr/local/lib/python3.11/dist-packages (from ultralytics) (1.15.2)\n",
            "Requirement already satisfied: torch>=1.8.0 in /usr/local/lib/python3.11/dist-packages (from ultralytics) (2.6.0+cu124)\n",
            "Requirement already satisfied: torchvision>=0.9.0 in /usr/local/lib/python3.11/dist-packages (from ultralytics) (0.21.0+cu124)\n",
            "Requirement already satisfied: tqdm>=4.64.0 in /usr/local/lib/python3.11/dist-packages (from ultralytics) (4.67.1)\n",
            "Requirement already satisfied: psutil in /usr/local/lib/python3.11/dist-packages (from ultralytics) (5.9.5)\n",
            "Requirement already satisfied: py-cpuinfo in /usr/local/lib/python3.11/dist-packages (from ultralytics) (9.0.0)\n",
            "Requirement already satisfied: pandas>=1.1.4 in /usr/local/lib/python3.11/dist-packages (from ultralytics) (2.2.2)\n",
            "Requirement already satisfied: seaborn>=0.11.0 in /usr/local/lib/python3.11/dist-packages (from ultralytics) (0.13.2)\n",
            "Requirement already satisfied: ultralytics-thop>=2.0.0 in /usr/local/lib/python3.11/dist-packages (from ultralytics) (2.0.14)\n",
            "Requirement already satisfied: contourpy>=1.0.1 in /usr/local/lib/python3.11/dist-packages (from matplotlib>=3.3.0->ultralytics) (1.3.2)\n",
            "Requirement already satisfied: cycler>=0.10 in /usr/local/lib/python3.11/dist-packages (from matplotlib>=3.3.0->ultralytics) (0.12.1)\n",
            "Requirement already satisfied: fonttools>=4.22.0 in /usr/local/lib/python3.11/dist-packages (from matplotlib>=3.3.0->ultralytics) (4.57.0)\n",
            "Requirement already satisfied: kiwisolver>=1.3.1 in /usr/local/lib/python3.11/dist-packages (from matplotlib>=3.3.0->ultralytics) (1.4.8)\n",
            "Requirement already satisfied: packaging>=20.0 in /usr/local/lib/python3.11/dist-packages (from matplotlib>=3.3.0->ultralytics) (24.2)\n",
            "Requirement already satisfied: pyparsing>=2.3.1 in /usr/local/lib/python3.11/dist-packages (from matplotlib>=3.3.0->ultralytics) (3.2.3)\n",
            "Requirement already satisfied: python-dateutil>=2.7 in /usr/local/lib/python3.11/dist-packages (from matplotlib>=3.3.0->ultralytics) (2.9.0.post0)\n",
            "Requirement already satisfied: pytz>=2020.1 in /usr/local/lib/python3.11/dist-packages (from pandas>=1.1.4->ultralytics) (2025.2)\n",
            "Requirement already satisfied: tzdata>=2022.7 in /usr/local/lib/python3.11/dist-packages (from pandas>=1.1.4->ultralytics) (2025.2)\n",
            "Requirement already satisfied: charset-normalizer<4,>=2 in /usr/local/lib/python3.11/dist-packages (from requests>=2.23.0->ultralytics) (3.4.1)\n",
            "Requirement already satisfied: idna<4,>=2.5 in /usr/local/lib/python3.11/dist-packages (from requests>=2.23.0->ultralytics) (3.10)\n",
            "Requirement already satisfied: urllib3<3,>=1.21.1 in /usr/local/lib/python3.11/dist-packages (from requests>=2.23.0->ultralytics) (2.4.0)\n",
            "Requirement already satisfied: certifi>=2017.4.17 in /usr/local/lib/python3.11/dist-packages (from requests>=2.23.0->ultralytics) (2025.4.26)\n",
            "Requirement already satisfied: filelock in /usr/local/lib/python3.11/dist-packages (from torch>=1.8.0->ultralytics) (3.18.0)\n",
            "Requirement already satisfied: typing-extensions>=4.10.0 in /usr/local/lib/python3.11/dist-packages (from torch>=1.8.0->ultralytics) (4.13.2)\n",
            "Requirement already satisfied: networkx in /usr/local/lib/python3.11/dist-packages (from torch>=1.8.0->ultralytics) (3.4.2)\n",
            "Requirement already satisfied: jinja2 in /usr/local/lib/python3.11/dist-packages (from torch>=1.8.0->ultralytics) (3.1.6)\n",
            "Requirement already satisfied: fsspec in /usr/local/lib/python3.11/dist-packages (from torch>=1.8.0->ultralytics) (2025.3.2)\n",
            "Requirement already satisfied: nvidia-cuda-nvrtc-cu12==12.4.127 in /usr/local/lib/python3.11/dist-packages (from torch>=1.8.0->ultralytics) (12.4.127)\n",
            "Requirement already satisfied: nvidia-cuda-runtime-cu12==12.4.127 in /usr/local/lib/python3.11/dist-packages (from torch>=1.8.0->ultralytics) (12.4.127)\n",
            "Requirement already satisfied: nvidia-cuda-cupti-cu12==12.4.127 in /usr/local/lib/python3.11/dist-packages (from torch>=1.8.0->ultralytics) (12.4.127)\n",
            "Requirement already satisfied: nvidia-cudnn-cu12==9.1.0.70 in /usr/local/lib/python3.11/dist-packages (from torch>=1.8.0->ultralytics) (9.1.0.70)\n",
            "Requirement already satisfied: nvidia-cublas-cu12==12.4.5.8 in /usr/local/lib/python3.11/dist-packages (from torch>=1.8.0->ultralytics) (12.4.5.8)\n",
            "Requirement already satisfied: nvidia-cufft-cu12==11.2.1.3 in /usr/local/lib/python3.11/dist-packages (from torch>=1.8.0->ultralytics) (11.2.1.3)\n",
            "Requirement already satisfied: nvidia-curand-cu12==10.3.5.147 in /usr/local/lib/python3.11/dist-packages (from torch>=1.8.0->ultralytics) (10.3.5.147)\n",
            "Requirement already satisfied: nvidia-cusolver-cu12==11.6.1.9 in /usr/local/lib/python3.11/dist-packages (from torch>=1.8.0->ultralytics) (11.6.1.9)\n",
            "Requirement already satisfied: nvidia-cusparse-cu12==12.3.1.170 in /usr/local/lib/python3.11/dist-packages (from torch>=1.8.0->ultralytics) (12.3.1.170)\n",
            "Requirement already satisfied: nvidia-cusparselt-cu12==0.6.2 in /usr/local/lib/python3.11/dist-packages (from torch>=1.8.0->ultralytics) (0.6.2)\n",
            "Requirement already satisfied: nvidia-nccl-cu12==2.21.5 in /usr/local/lib/python3.11/dist-packages (from torch>=1.8.0->ultralytics) (2.21.5)\n",
            "Requirement already satisfied: nvidia-nvtx-cu12==12.4.127 in /usr/local/lib/python3.11/dist-packages (from torch>=1.8.0->ultralytics) (12.4.127)\n",
            "Requirement already satisfied: nvidia-nvjitlink-cu12==12.4.127 in /usr/local/lib/python3.11/dist-packages (from torch>=1.8.0->ultralytics) (12.4.127)\n",
            "Requirement already satisfied: triton==3.2.0 in /usr/local/lib/python3.11/dist-packages (from torch>=1.8.0->ultralytics) (3.2.0)\n",
            "Requirement already satisfied: sympy==1.13.1 in /usr/local/lib/python3.11/dist-packages (from torch>=1.8.0->ultralytics) (1.13.1)\n",
            "Requirement already satisfied: mpmath<1.4,>=1.1.0 in /usr/local/lib/python3.11/dist-packages (from sympy==1.13.1->torch>=1.8.0->ultralytics) (1.3.0)\n",
            "Requirement already satisfied: six>=1.5 in /usr/local/lib/python3.11/dist-packages (from python-dateutil>=2.7->matplotlib>=3.3.0->ultralytics) (1.17.0)\n",
            "Requirement already satisfied: MarkupSafe>=2.0 in /usr/local/lib/python3.11/dist-packages (from jinja2->torch>=1.8.0->ultralytics) (3.0.2)\n"
          ]
        }
      ]
    },
    {
      "cell_type": "code",
      "source": [
        "# 1. Instalar YOLOv8 (versión optimizada)\n",
        "!pip install ultralytics"
      ],
      "metadata": {
        "colab": {
          "base_uri": "https://localhost:8080/"
        },
        "id": "mdP4sm5cIV_O",
        "outputId": "57aad28a-9e6f-4300-ee8b-5a59fe6b3639"
      },
      "execution_count": 8,
      "outputs": [
        {
          "output_type": "stream",
          "name": "stdout",
          "text": [
            "Requirement already satisfied: ultralytics in /usr/local/lib/python3.11/dist-packages (8.3.131)\n",
            "Requirement already satisfied: numpy>=1.23.0 in /usr/local/lib/python3.11/dist-packages (from ultralytics) (2.0.2)\n",
            "Requirement already satisfied: matplotlib>=3.3.0 in /usr/local/lib/python3.11/dist-packages (from ultralytics) (3.10.0)\n",
            "Requirement already satisfied: opencv-python>=4.6.0 in /usr/local/lib/python3.11/dist-packages (from ultralytics) (4.11.0.86)\n",
            "Requirement already satisfied: pillow>=7.1.2 in /usr/local/lib/python3.11/dist-packages (from ultralytics) (11.2.1)\n",
            "Requirement already satisfied: pyyaml>=5.3.1 in /usr/local/lib/python3.11/dist-packages (from ultralytics) (6.0.2)\n",
            "Requirement already satisfied: requests>=2.23.0 in /usr/local/lib/python3.11/dist-packages (from ultralytics) (2.32.3)\n",
            "Requirement already satisfied: scipy>=1.4.1 in /usr/local/lib/python3.11/dist-packages (from ultralytics) (1.15.2)\n",
            "Requirement already satisfied: torch>=1.8.0 in /usr/local/lib/python3.11/dist-packages (from ultralytics) (2.6.0+cu124)\n",
            "Requirement already satisfied: torchvision>=0.9.0 in /usr/local/lib/python3.11/dist-packages (from ultralytics) (0.21.0+cu124)\n",
            "Requirement already satisfied: tqdm>=4.64.0 in /usr/local/lib/python3.11/dist-packages (from ultralytics) (4.67.1)\n",
            "Requirement already satisfied: psutil in /usr/local/lib/python3.11/dist-packages (from ultralytics) (5.9.5)\n",
            "Requirement already satisfied: py-cpuinfo in /usr/local/lib/python3.11/dist-packages (from ultralytics) (9.0.0)\n",
            "Requirement already satisfied: pandas>=1.1.4 in /usr/local/lib/python3.11/dist-packages (from ultralytics) (2.2.2)\n",
            "Requirement already satisfied: seaborn>=0.11.0 in /usr/local/lib/python3.11/dist-packages (from ultralytics) (0.13.2)\n",
            "Requirement already satisfied: ultralytics-thop>=2.0.0 in /usr/local/lib/python3.11/dist-packages (from ultralytics) (2.0.14)\n",
            "Requirement already satisfied: contourpy>=1.0.1 in /usr/local/lib/python3.11/dist-packages (from matplotlib>=3.3.0->ultralytics) (1.3.2)\n",
            "Requirement already satisfied: cycler>=0.10 in /usr/local/lib/python3.11/dist-packages (from matplotlib>=3.3.0->ultralytics) (0.12.1)\n",
            "Requirement already satisfied: fonttools>=4.22.0 in /usr/local/lib/python3.11/dist-packages (from matplotlib>=3.3.0->ultralytics) (4.57.0)\n",
            "Requirement already satisfied: kiwisolver>=1.3.1 in /usr/local/lib/python3.11/dist-packages (from matplotlib>=3.3.0->ultralytics) (1.4.8)\n",
            "Requirement already satisfied: packaging>=20.0 in /usr/local/lib/python3.11/dist-packages (from matplotlib>=3.3.0->ultralytics) (24.2)\n",
            "Requirement already satisfied: pyparsing>=2.3.1 in /usr/local/lib/python3.11/dist-packages (from matplotlib>=3.3.0->ultralytics) (3.2.3)\n",
            "Requirement already satisfied: python-dateutil>=2.7 in /usr/local/lib/python3.11/dist-packages (from matplotlib>=3.3.0->ultralytics) (2.9.0.post0)\n",
            "Requirement already satisfied: pytz>=2020.1 in /usr/local/lib/python3.11/dist-packages (from pandas>=1.1.4->ultralytics) (2025.2)\n",
            "Requirement already satisfied: tzdata>=2022.7 in /usr/local/lib/python3.11/dist-packages (from pandas>=1.1.4->ultralytics) (2025.2)\n",
            "Requirement already satisfied: charset-normalizer<4,>=2 in /usr/local/lib/python3.11/dist-packages (from requests>=2.23.0->ultralytics) (3.4.1)\n",
            "Requirement already satisfied: idna<4,>=2.5 in /usr/local/lib/python3.11/dist-packages (from requests>=2.23.0->ultralytics) (3.10)\n",
            "Requirement already satisfied: urllib3<3,>=1.21.1 in /usr/local/lib/python3.11/dist-packages (from requests>=2.23.0->ultralytics) (2.4.0)\n",
            "Requirement already satisfied: certifi>=2017.4.17 in /usr/local/lib/python3.11/dist-packages (from requests>=2.23.0->ultralytics) (2025.4.26)\n",
            "Requirement already satisfied: filelock in /usr/local/lib/python3.11/dist-packages (from torch>=1.8.0->ultralytics) (3.18.0)\n",
            "Requirement already satisfied: typing-extensions>=4.10.0 in /usr/local/lib/python3.11/dist-packages (from torch>=1.8.0->ultralytics) (4.13.2)\n",
            "Requirement already satisfied: networkx in /usr/local/lib/python3.11/dist-packages (from torch>=1.8.0->ultralytics) (3.4.2)\n",
            "Requirement already satisfied: jinja2 in /usr/local/lib/python3.11/dist-packages (from torch>=1.8.0->ultralytics) (3.1.6)\n",
            "Requirement already satisfied: fsspec in /usr/local/lib/python3.11/dist-packages (from torch>=1.8.0->ultralytics) (2025.3.2)\n",
            "Requirement already satisfied: nvidia-cuda-nvrtc-cu12==12.4.127 in /usr/local/lib/python3.11/dist-packages (from torch>=1.8.0->ultralytics) (12.4.127)\n",
            "Requirement already satisfied: nvidia-cuda-runtime-cu12==12.4.127 in /usr/local/lib/python3.11/dist-packages (from torch>=1.8.0->ultralytics) (12.4.127)\n",
            "Requirement already satisfied: nvidia-cuda-cupti-cu12==12.4.127 in /usr/local/lib/python3.11/dist-packages (from torch>=1.8.0->ultralytics) (12.4.127)\n",
            "Requirement already satisfied: nvidia-cudnn-cu12==9.1.0.70 in /usr/local/lib/python3.11/dist-packages (from torch>=1.8.0->ultralytics) (9.1.0.70)\n",
            "Requirement already satisfied: nvidia-cublas-cu12==12.4.5.8 in /usr/local/lib/python3.11/dist-packages (from torch>=1.8.0->ultralytics) (12.4.5.8)\n",
            "Requirement already satisfied: nvidia-cufft-cu12==11.2.1.3 in /usr/local/lib/python3.11/dist-packages (from torch>=1.8.0->ultralytics) (11.2.1.3)\n",
            "Requirement already satisfied: nvidia-curand-cu12==10.3.5.147 in /usr/local/lib/python3.11/dist-packages (from torch>=1.8.0->ultralytics) (10.3.5.147)\n",
            "Requirement already satisfied: nvidia-cusolver-cu12==11.6.1.9 in /usr/local/lib/python3.11/dist-packages (from torch>=1.8.0->ultralytics) (11.6.1.9)\n",
            "Requirement already satisfied: nvidia-cusparse-cu12==12.3.1.170 in /usr/local/lib/python3.11/dist-packages (from torch>=1.8.0->ultralytics) (12.3.1.170)\n",
            "Requirement already satisfied: nvidia-cusparselt-cu12==0.6.2 in /usr/local/lib/python3.11/dist-packages (from torch>=1.8.0->ultralytics) (0.6.2)\n",
            "Requirement already satisfied: nvidia-nccl-cu12==2.21.5 in /usr/local/lib/python3.11/dist-packages (from torch>=1.8.0->ultralytics) (2.21.5)\n",
            "Requirement already satisfied: nvidia-nvtx-cu12==12.4.127 in /usr/local/lib/python3.11/dist-packages (from torch>=1.8.0->ultralytics) (12.4.127)\n",
            "Requirement already satisfied: nvidia-nvjitlink-cu12==12.4.127 in /usr/local/lib/python3.11/dist-packages (from torch>=1.8.0->ultralytics) (12.4.127)\n",
            "Requirement already satisfied: triton==3.2.0 in /usr/local/lib/python3.11/dist-packages (from torch>=1.8.0->ultralytics) (3.2.0)\n",
            "Requirement already satisfied: sympy==1.13.1 in /usr/local/lib/python3.11/dist-packages (from torch>=1.8.0->ultralytics) (1.13.1)\n",
            "Requirement already satisfied: mpmath<1.4,>=1.1.0 in /usr/local/lib/python3.11/dist-packages (from sympy==1.13.1->torch>=1.8.0->ultralytics) (1.3.0)\n",
            "Requirement already satisfied: six>=1.5 in /usr/local/lib/python3.11/dist-packages (from python-dateutil>=2.7->matplotlib>=3.3.0->ultralytics) (1.17.0)\n",
            "Requirement already satisfied: MarkupSafe>=2.0 in /usr/local/lib/python3.11/dist-packages (from jinja2->torch>=1.8.0->ultralytics) (3.0.2)\n"
          ]
        }
      ]
    },
    {
      "cell_type": "code",
      "source": [
        "#\n",
        "# 2. Estructura de dataset YOLO:\n",
        "# /dataset\n",
        "#   /images\n",
        "#     - img1.jpg\n",
        "#     - img2.jpg\n",
        "#   /labels\n",
        "#     - img1.txt (formato YOLO: class x_center y_center width height)\n",
        "#     - img2.txt\n",
        "\n",
        "from ultralytics import YOLO\n",
        "\n",
        "# 3. Entrenamiento (automáticamente usa GPU en Colab)\n",
        "model = YOLO('yolov8n.pt')  # Versión nano (liviana)\n",
        "results = model.train(\n",
        "    data='custom.yaml',\n",
        "    epochs=60,\n",
        "    batch=4,\n",
        "    lr0=0.001,\n",
        "    patience=30,\n",
        "    augment=True,\n",
        ")\n",
        "\n",
        "# 4. Exportar a formato ONNX para implementación\n",
        "model.export(format='onnx')"
      ],
      "metadata": {
        "id": "0MylWMRM8Lil",
        "colab": {
          "base_uri": "https://localhost:8080/",
          "height": 1000
        },
        "outputId": "33e8a90a-eb95-48e3-fe0b-674478445feb"
      },
      "execution_count": 1,
      "outputs": [
        {
          "output_type": "stream",
          "name": "stdout",
          "text": [
            "Ultralytics 8.3.131 🚀 Python-3.11.12 torch-2.6.0+cu124 CUDA:0 (Tesla T4, 15095MiB)\n",
            "\u001b[34m\u001b[1mengine/trainer: \u001b[0magnostic_nms=False, amp=True, augment=True, auto_augment=randaugment, batch=4, bgr=0.0, box=7.5, cache=False, cfg=None, classes=None, close_mosaic=10, cls=0.5, conf=None, copy_paste=0.0, copy_paste_mode=flip, cos_lr=False, cutmix=0.0, data=custom.yaml, degrees=0.0, deterministic=True, device=None, dfl=1.5, dnn=False, dropout=0.0, dynamic=False, embed=None, epochs=60, erasing=0.4, exist_ok=False, fliplr=0.5, flipud=0.0, format=torchscript, fraction=1.0, freeze=None, half=False, hsv_h=0.015, hsv_s=0.7, hsv_v=0.4, imgsz=640, int8=False, iou=0.7, keras=False, kobj=1.0, line_width=None, lr0=0.001, lrf=0.01, mask_ratio=4, max_det=300, mixup=0.0, mode=train, model=yolov8n.pt, momentum=0.937, mosaic=1.0, multi_scale=False, name=train6, nbs=64, nms=False, opset=None, optimize=False, optimizer=auto, overlap_mask=True, patience=30, perspective=0.0, plots=True, pose=12.0, pretrained=True, profile=False, project=None, rect=False, resume=False, retina_masks=False, save=True, save_conf=False, save_crop=False, save_dir=runs/detect/train6, save_frames=False, save_json=False, save_period=-1, save_txt=False, scale=0.5, seed=0, shear=0.0, show=False, show_boxes=True, show_conf=True, show_labels=True, simplify=True, single_cls=False, source=None, split=val, stream_buffer=False, task=detect, time=None, tracker=botsort.yaml, translate=0.1, val=True, verbose=True, vid_stride=1, visualize=False, warmup_bias_lr=0.1, warmup_epochs=3.0, warmup_momentum=0.8, weight_decay=0.0005, workers=8, workspace=None\n",
            "Overriding model.yaml nc=80 with nc=2\n",
            "\n",
            "                   from  n    params  module                                       arguments                     \n",
            "  0                  -1  1       464  ultralytics.nn.modules.conv.Conv             [3, 16, 3, 2]                 \n",
            "  1                  -1  1      4672  ultralytics.nn.modules.conv.Conv             [16, 32, 3, 2]                \n",
            "  2                  -1  1      7360  ultralytics.nn.modules.block.C2f             [32, 32, 1, True]             \n",
            "  3                  -1  1     18560  ultralytics.nn.modules.conv.Conv             [32, 64, 3, 2]                \n",
            "  4                  -1  2     49664  ultralytics.nn.modules.block.C2f             [64, 64, 2, True]             \n",
            "  5                  -1  1     73984  ultralytics.nn.modules.conv.Conv             [64, 128, 3, 2]               \n",
            "  6                  -1  2    197632  ultralytics.nn.modules.block.C2f             [128, 128, 2, True]           \n",
            "  7                  -1  1    295424  ultralytics.nn.modules.conv.Conv             [128, 256, 3, 2]              \n",
            "  8                  -1  1    460288  ultralytics.nn.modules.block.C2f             [256, 256, 1, True]           \n",
            "  9                  -1  1    164608  ultralytics.nn.modules.block.SPPF            [256, 256, 5]                 \n",
            " 10                  -1  1         0  torch.nn.modules.upsampling.Upsample         [None, 2, 'nearest']          \n",
            " 11             [-1, 6]  1         0  ultralytics.nn.modules.conv.Concat           [1]                           \n",
            " 12                  -1  1    148224  ultralytics.nn.modules.block.C2f             [384, 128, 1]                 \n",
            " 13                  -1  1         0  torch.nn.modules.upsampling.Upsample         [None, 2, 'nearest']          \n",
            " 14             [-1, 4]  1         0  ultralytics.nn.modules.conv.Concat           [1]                           \n",
            " 15                  -1  1     37248  ultralytics.nn.modules.block.C2f             [192, 64, 1]                  \n",
            " 16                  -1  1     36992  ultralytics.nn.modules.conv.Conv             [64, 64, 3, 2]                \n",
            " 17            [-1, 12]  1         0  ultralytics.nn.modules.conv.Concat           [1]                           \n",
            " 18                  -1  1    123648  ultralytics.nn.modules.block.C2f             [192, 128, 1]                 \n",
            " 19                  -1  1    147712  ultralytics.nn.modules.conv.Conv             [128, 128, 3, 2]              \n",
            " 20             [-1, 9]  1         0  ultralytics.nn.modules.conv.Concat           [1]                           \n",
            " 21                  -1  1    493056  ultralytics.nn.modules.block.C2f             [384, 256, 1]                 \n",
            " 22        [15, 18, 21]  1    751702  ultralytics.nn.modules.head.Detect           [2, [64, 128, 256]]           \n",
            "Model summary: 129 layers, 3,011,238 parameters, 3,011,222 gradients, 8.2 GFLOPs\n",
            "\n",
            "Transferred 319/355 items from pretrained weights\n",
            "Freezing layer 'model.22.dfl.conv.weight'\n",
            "\u001b[34m\u001b[1mAMP: \u001b[0mrunning Automatic Mixed Precision (AMP) checks...\n",
            "\u001b[34m\u001b[1mAMP: \u001b[0mchecks passed ✅\n",
            "\u001b[34m\u001b[1mtrain: \u001b[0mFast image access ✅ (ping: 0.0±0.0 ms, read: 2134.2±1098.7 MB/s, size: 1503.0 KB)\n"
          ]
        },
        {
          "output_type": "stream",
          "name": "stderr",
          "text": [
            "\u001b[34m\u001b[1mtrain: \u001b[0mScanning /content/dataset/data/labels/train.cache... 494 images, 0 backgrounds, 0 corrupt: 100%|██████████| 494/494 [00:00<?, ?it/s]"
          ]
        },
        {
          "output_type": "stream",
          "name": "stdout",
          "text": [
            "\u001b[34m\u001b[1mtrain: \u001b[0m/content/dataset/data/images/train/20250329_215042.jpg: corrupt JPEG restored and saved\n",
            "\u001b[34m\u001b[1mtrain: \u001b[0m/content/dataset/data/images/train/20250329_215050.jpg: corrupt JPEG restored and saved\n",
            "\u001b[34m\u001b[1mtrain: \u001b[0m/content/dataset/data/images/train/20250329_215055.jpg: corrupt JPEG restored and saved\n",
            "\u001b[34m\u001b[1mtrain: \u001b[0m/content/dataset/data/images/train/20250329_215059.jpg: corrupt JPEG restored and saved\n",
            "\u001b[34m\u001b[1mtrain: \u001b[0m/content/dataset/data/images/train/20250329_215106.jpg: corrupt JPEG restored and saved\n",
            "\u001b[34m\u001b[1mtrain: \u001b[0m/content/dataset/data/images/train/20250329_215125.jpg: corrupt JPEG restored and saved\n",
            "\u001b[34m\u001b[1mtrain: \u001b[0m/content/dataset/data/images/train/20250329_215132.jpg: corrupt JPEG restored and saved\n",
            "\u001b[34m\u001b[1mtrain: \u001b[0m/content/dataset/data/images/train/20250329_215136.jpg: corrupt JPEG restored and saved\n",
            "\u001b[34m\u001b[1mtrain: \u001b[0m/content/dataset/data/images/train/20250329_215142.jpg: corrupt JPEG restored and saved\n",
            "\u001b[34m\u001b[1mtrain: \u001b[0m/content/dataset/data/images/train/20250329_215314.jpg: corrupt JPEG restored and saved\n",
            "\u001b[34m\u001b[1mtrain: \u001b[0m/content/dataset/data/images/train/20250329_215325.jpg: corrupt JPEG restored and saved\n",
            "\u001b[34m\u001b[1mtrain: \u001b[0m/content/dataset/data/images/train/20250329_215331.jpg: corrupt JPEG restored and saved\n",
            "\u001b[34m\u001b[1mtrain: \u001b[0m/content/dataset/data/images/train/20250329_215336.jpg: corrupt JPEG restored and saved\n",
            "\u001b[34m\u001b[1mtrain: \u001b[0m/content/dataset/data/images/train/20250329_215347.jpg: corrupt JPEG restored and saved\n",
            "\u001b[34m\u001b[1mtrain: \u001b[0m/content/dataset/data/images/train/20250329_215352.jpg: corrupt JPEG restored and saved\n",
            "\u001b[34m\u001b[1mtrain: \u001b[0m/content/dataset/data/images/train/20250329_215400.jpg: corrupt JPEG restored and saved\n",
            "\u001b[34m\u001b[1mtrain: \u001b[0m/content/dataset/data/images/train/20250329_215409.jpg: corrupt JPEG restored and saved\n",
            "\u001b[34m\u001b[1mtrain: \u001b[0m/content/dataset/data/images/train/20250329_215417.jpg: corrupt JPEG restored and saved\n",
            "\u001b[34m\u001b[1mtrain: \u001b[0m/content/dataset/data/images/train/20250329_215424.jpg: corrupt JPEG restored and saved\n",
            "\u001b[34m\u001b[1mtrain: \u001b[0m/content/dataset/data/images/train/20250329_215533.jpg: corrupt JPEG restored and saved\n",
            "\u001b[34m\u001b[1mtrain: \u001b[0m/content/dataset/data/images/train/20250329_215624.jpg: corrupt JPEG restored and saved\n",
            "\u001b[34m\u001b[1mtrain: \u001b[0m/content/dataset/data/images/train/20250329_215630.jpg: corrupt JPEG restored and saved\n",
            "\u001b[34m\u001b[1mtrain: \u001b[0m/content/dataset/data/images/train/20250329_215635.jpg: corrupt JPEG restored and saved\n",
            "\u001b[34m\u001b[1mtrain: \u001b[0m/content/dataset/data/images/train/20250329_215638.jpg: corrupt JPEG restored and saved\n",
            "\u001b[34m\u001b[1mtrain: \u001b[0m/content/dataset/data/images/train/20250329_215645.jpg: corrupt JPEG restored and saved\n",
            "\u001b[34m\u001b[1mtrain: \u001b[0m/content/dataset/data/images/train/20250329_215838.jpg: corrupt JPEG restored and saved\n",
            "\u001b[34m\u001b[1mtrain: \u001b[0m/content/dataset/data/images/train/20250329_215847.jpg: corrupt JPEG restored and saved\n",
            "\u001b[34m\u001b[1mtrain: \u001b[0m/content/dataset/data/images/train/20250329_215851.jpg: corrupt JPEG restored and saved\n",
            "\u001b[34m\u001b[1mtrain: \u001b[0m/content/dataset/data/images/train/20250329_215858.jpg: corrupt JPEG restored and saved\n",
            "\u001b[34m\u001b[1mtrain: \u001b[0m/content/dataset/data/images/train/20250329_215932.jpg: corrupt JPEG restored and saved\n",
            "\u001b[34m\u001b[1mtrain: \u001b[0m/content/dataset/data/images/train/20250329_215937.jpg: corrupt JPEG restored and saved\n",
            "\u001b[34m\u001b[1mtrain: \u001b[0m/content/dataset/data/images/train/20250329_215941.jpg: corrupt JPEG restored and saved\n",
            "\u001b[34m\u001b[1mtrain: \u001b[0m/content/dataset/data/images/train/20250329_220003.jpg: corrupt JPEG restored and saved\n",
            "\u001b[34m\u001b[1mtrain: \u001b[0m/content/dataset/data/images/train/20250329_220040.jpg: corrupt JPEG restored and saved\n",
            "\u001b[34m\u001b[1mtrain: \u001b[0m/content/dataset/data/images/train/20250329_220101.jpg: corrupt JPEG restored and saved\n",
            "\u001b[34m\u001b[1mtrain: \u001b[0m/content/dataset/data/images/train/20250329_220106.jpg: corrupt JPEG restored and saved\n",
            "\u001b[34m\u001b[1mtrain: \u001b[0m/content/dataset/data/images/train/20250329_220111.jpg: corrupt JPEG restored and saved\n",
            "\u001b[34m\u001b[1mtrain: \u001b[0m/content/dataset/data/images/train/20250329_220114.jpg: corrupt JPEG restored and saved\n",
            "\u001b[34m\u001b[1mtrain: \u001b[0m/content/dataset/data/images/train/IMG20250401205625.jpg: corrupt JPEG restored and saved\n",
            "\u001b[34m\u001b[1mtrain: \u001b[0m/content/dataset/data/images/train/IMG20250401205627.jpg: corrupt JPEG restored and saved\n",
            "\u001b[34m\u001b[1mtrain: \u001b[0m/content/dataset/data/images/train/IMG20250401205630.jpg: corrupt JPEG restored and saved\n",
            "\u001b[34m\u001b[1mtrain: \u001b[0m/content/dataset/data/images/train/IMG20250401205634.jpg: corrupt JPEG restored and saved\n",
            "\u001b[34m\u001b[1mtrain: \u001b[0m/content/dataset/data/images/train/IMG20250401205654.jpg: corrupt JPEG restored and saved\n",
            "\u001b[34m\u001b[1mtrain: \u001b[0m/content/dataset/data/images/train/IMG20250401205659.jpg: corrupt JPEG restored and saved\n",
            "\u001b[34m\u001b[1mtrain: \u001b[0m/content/dataset/data/images/train/IMG20250401205703.jpg: corrupt JPEG restored and saved\n",
            "\u001b[34m\u001b[1mtrain: \u001b[0m/content/dataset/data/images/train/IMG20250401205729.jpg: corrupt JPEG restored and saved\n",
            "\u001b[34m\u001b[1mtrain: \u001b[0m/content/dataset/data/images/train/IMG20250401205736.jpg: corrupt JPEG restored and saved\n",
            "\u001b[34m\u001b[1mtrain: \u001b[0m/content/dataset/data/images/train/IMG20250401205740.jpg: corrupt JPEG restored and saved\n",
            "\u001b[34m\u001b[1mtrain: \u001b[0m/content/dataset/data/images/train/IMG20250401205810.jpg: corrupt JPEG restored and saved\n",
            "\u001b[34m\u001b[1mtrain: \u001b[0m/content/dataset/data/images/train/IMG20250401205815.jpg: corrupt JPEG restored and saved\n",
            "\u001b[34m\u001b[1mtrain: \u001b[0m/content/dataset/data/images/train/IMG20250401205821.jpg: corrupt JPEG restored and saved\n",
            "\u001b[34m\u001b[1mtrain: \u001b[0m/content/dataset/data/images/train/IMG20250401205828.jpg: corrupt JPEG restored and saved\n",
            "\u001b[34m\u001b[1mtrain: \u001b[0m/content/dataset/data/images/train/IMG20250401205830.jpg: corrupt JPEG restored and saved\n",
            "\u001b[34m\u001b[1mtrain: \u001b[0m/content/dataset/data/images/train/IMG20250401205835.jpg: corrupt JPEG restored and saved\n",
            "\u001b[34m\u001b[1mtrain: \u001b[0m/content/dataset/data/images/train/IMG20250401205844.jpg: corrupt JPEG restored and saved\n",
            "\u001b[34m\u001b[1mtrain: \u001b[0m/content/dataset/data/images/train/IMG20250401205854.jpg: corrupt JPEG restored and saved\n",
            "\u001b[34m\u001b[1mtrain: \u001b[0m/content/dataset/data/images/train/IMG20250401205858.jpg: corrupt JPEG restored and saved\n",
            "\u001b[34m\u001b[1mtrain: \u001b[0m/content/dataset/data/images/train/IMG20250401205919.jpg: corrupt JPEG restored and saved\n",
            "\u001b[34m\u001b[1mtrain: \u001b[0m/content/dataset/data/images/train/IMG20250401205923.jpg: corrupt JPEG restored and saved\n",
            "\u001b[34m\u001b[1mtrain: \u001b[0m/content/dataset/data/images/train/IMG20250401205928.jpg: corrupt JPEG restored and saved\n",
            "\u001b[34m\u001b[1mtrain: \u001b[0m/content/dataset/data/images/train/IMG20250401205934.jpg: corrupt JPEG restored and saved\n",
            "\u001b[34m\u001b[1mtrain: \u001b[0m/content/dataset/data/images/train/IMG20250401205937.jpg: corrupt JPEG restored and saved\n",
            "\u001b[34m\u001b[1mtrain: \u001b[0m/content/dataset/data/images/train/IMG20250401205941.jpg: corrupt JPEG restored and saved\n",
            "\u001b[34m\u001b[1mtrain: \u001b[0m/content/dataset/data/images/train/IMG20250401205944.jpg: corrupt JPEG restored and saved\n",
            "\u001b[34m\u001b[1mtrain: \u001b[0m/content/dataset/data/images/train/IMG20250401205949.jpg: corrupt JPEG restored and saved\n",
            "\u001b[34m\u001b[1mtrain: \u001b[0m/content/dataset/data/images/train/IMG20250401205953.jpg: corrupt JPEG restored and saved\n",
            "\u001b[34m\u001b[1mtrain: \u001b[0m/content/dataset/data/images/train/IMG20250401205957.jpg: corrupt JPEG restored and saved\n",
            "\u001b[34m\u001b[1mtrain: \u001b[0m/content/dataset/data/images/train/IMG20250401210004.jpg: corrupt JPEG restored and saved\n",
            "\u001b[34m\u001b[1mtrain: \u001b[0m/content/dataset/data/images/train/IMG20250401210005.jpg: corrupt JPEG restored and saved\n",
            "\u001b[34m\u001b[1mtrain: \u001b[0m/content/dataset/data/images/train/IMG20250401210010.jpg: corrupt JPEG restored and saved\n",
            "\u001b[34m\u001b[1mtrain: \u001b[0m/content/dataset/data/images/train/IMG20250401210017.jpg: corrupt JPEG restored and saved\n",
            "\u001b[34m\u001b[1mtrain: \u001b[0m/content/dataset/data/images/train/IMG20250401210020.jpg: corrupt JPEG restored and saved\n",
            "\u001b[34m\u001b[1mtrain: \u001b[0m/content/dataset/data/images/train/IMG20250401210024.jpg: corrupt JPEG restored and saved\n",
            "\u001b[34m\u001b[1mtrain: \u001b[0m/content/dataset/data/images/train/IMG20250401210041.jpg: corrupt JPEG restored and saved\n",
            "\u001b[34m\u001b[1mtrain: \u001b[0m/content/dataset/data/images/train/IMG20250401210044.jpg: corrupt JPEG restored and saved\n",
            "\u001b[34m\u001b[1mtrain: \u001b[0m/content/dataset/data/images/train/IMG20250401210049.jpg: corrupt JPEG restored and saved\n",
            "\u001b[34m\u001b[1mtrain: \u001b[0m/content/dataset/data/images/train/IMG20250401210056.jpg: corrupt JPEG restored and saved\n",
            "\u001b[34m\u001b[1mtrain: \u001b[0m/content/dataset/data/images/train/IMG20250401210059.jpg: corrupt JPEG restored and saved\n",
            "\u001b[34m\u001b[1mtrain: \u001b[0m/content/dataset/data/images/train/IMG20250401210104.jpg: corrupt JPEG restored and saved\n",
            "\u001b[34m\u001b[1mtrain: \u001b[0m/content/dataset/data/images/train/IMG20250401210110.jpg: corrupt JPEG restored and saved\n",
            "\u001b[34m\u001b[1mtrain: \u001b[0m/content/dataset/data/images/train/IMG20250401210115.jpg: corrupt JPEG restored and saved\n",
            "\u001b[34m\u001b[1mtrain: \u001b[0m/content/dataset/data/images/train/IMG20250401210118.jpg: corrupt JPEG restored and saved\n",
            "\u001b[34m\u001b[1mtrain: \u001b[0m/content/dataset/data/images/train/IMG20250401210154.jpg: corrupt JPEG restored and saved\n",
            "\u001b[34m\u001b[1mtrain: \u001b[0m/content/dataset/data/images/train/IMG20250401210156.jpg: corrupt JPEG restored and saved\n",
            "\u001b[34m\u001b[1mtrain: \u001b[0m/content/dataset/data/images/train/IMG20250401210159.jpg: corrupt JPEG restored and saved\n",
            "\u001b[34m\u001b[1mtrain: \u001b[0m/content/dataset/data/images/train/IMG20250401210206.jpg: corrupt JPEG restored and saved\n",
            "\u001b[34m\u001b[1mtrain: \u001b[0m/content/dataset/data/images/train/IMG20250401210210.jpg: corrupt JPEG restored and saved\n",
            "\u001b[34m\u001b[1mtrain: \u001b[0m/content/dataset/data/images/train/IMG20250401210212.jpg: corrupt JPEG restored and saved\n",
            "\u001b[34m\u001b[1mtrain: \u001b[0m/content/dataset/data/images/train/IMG20250401210217.jpg: corrupt JPEG restored and saved\n",
            "\u001b[34m\u001b[1mtrain: \u001b[0m/content/dataset/data/images/train/IMG20250401210225.jpg: corrupt JPEG restored and saved\n",
            "\u001b[34m\u001b[1mtrain: \u001b[0m/content/dataset/data/images/train/IMG20250401210228.jpg: corrupt JPEG restored and saved\n",
            "\u001b[34m\u001b[1mtrain: \u001b[0m/content/dataset/data/images/train/IMG20250401210236.jpg: corrupt JPEG restored and saved\n",
            "\u001b[34m\u001b[1mtrain: \u001b[0m/content/dataset/data/images/train/IMG20250401210242.jpg: corrupt JPEG restored and saved\n",
            "\u001b[34m\u001b[1mtrain: \u001b[0m/content/dataset/data/images/train/IMG20250401210245.jpg: corrupt JPEG restored and saved\n",
            "\u001b[34m\u001b[1mtrain: \u001b[0m/content/dataset/data/images/train/IMG20250401210250.jpg: corrupt JPEG restored and saved\n",
            "\u001b[34m\u001b[1mtrain: \u001b[0m/content/dataset/data/images/train/IMG20250401210257.jpg: corrupt JPEG restored and saved\n",
            "\u001b[34m\u001b[1mtrain: \u001b[0m/content/dataset/data/images/train/IMG20250401210303.jpg: corrupt JPEG restored and saved\n",
            "\u001b[34m\u001b[1mtrain: \u001b[0m/content/dataset/data/images/train/IMG20250401210309.jpg: corrupt JPEG restored and saved\n",
            "\u001b[34m\u001b[1mtrain: \u001b[0m/content/dataset/data/images/train/IMG20250401210315.jpg: corrupt JPEG restored and saved\n",
            "\u001b[34m\u001b[1mtrain: \u001b[0m/content/dataset/data/images/train/IMG20250401210319.jpg: corrupt JPEG restored and saved\n",
            "\u001b[34m\u001b[1mtrain: \u001b[0m/content/dataset/data/images/train/IMG20250401210325.jpg: corrupt JPEG restored and saved\n",
            "\u001b[34m\u001b[1mtrain: \u001b[0m/content/dataset/data/images/train/IMG20250401210327.jpg: corrupt JPEG restored and saved\n",
            "\u001b[34m\u001b[1mtrain: \u001b[0m/content/dataset/data/images/train/IMG20250401210332.jpg: corrupt JPEG restored and saved\n",
            "\u001b[34m\u001b[1mtrain: \u001b[0m/content/dataset/data/images/train/IMG20250401210335.jpg: corrupt JPEG restored and saved\n",
            "\u001b[34m\u001b[1mtrain: \u001b[0m/content/dataset/data/images/train/IMG20250401210338.jpg: corrupt JPEG restored and saved\n",
            "\u001b[34m\u001b[1mtrain: \u001b[0m/content/dataset/data/images/train/IMG20250401210343.jpg: corrupt JPEG restored and saved\n",
            "\u001b[34m\u001b[1mtrain: \u001b[0m/content/dataset/data/images/train/IMG20250401210350.jpg: corrupt JPEG restored and saved\n",
            "\u001b[34m\u001b[1mtrain: \u001b[0m/content/dataset/data/images/train/IMG20250401210352.jpg: corrupt JPEG restored and saved\n",
            "\u001b[34m\u001b[1mtrain: \u001b[0m/content/dataset/data/images/train/IMG20250401210357.jpg: corrupt JPEG restored and saved\n",
            "\u001b[34m\u001b[1mtrain: \u001b[0m/content/dataset/data/images/train/IMG20250401210406.jpg: corrupt JPEG restored and saved\n",
            "\u001b[34m\u001b[1mtrain: \u001b[0m/content/dataset/data/images/train/IMG20250401210409.jpg: corrupt JPEG restored and saved\n",
            "\u001b[34m\u001b[1mtrain: \u001b[0m/content/dataset/data/images/train/IMG20250401210414.jpg: corrupt JPEG restored and saved\n",
            "\u001b[34m\u001b[1mtrain: \u001b[0m/content/dataset/data/images/train/IMG20250401210417.jpg: corrupt JPEG restored and saved\n",
            "\u001b[34m\u001b[1mtrain: \u001b[0m/content/dataset/data/images/train/IMG20250401210421.jpg: corrupt JPEG restored and saved\n"
          ]
        },
        {
          "output_type": "stream",
          "name": "stderr",
          "text": [
            "\n"
          ]
        },
        {
          "output_type": "stream",
          "name": "stdout",
          "text": [
            "\u001b[34m\u001b[1malbumentations: \u001b[0mBlur(p=0.01, blur_limit=(3, 7)), MedianBlur(p=0.01, blur_limit=(3, 7)), ToGray(p=0.01, method='weighted_average', num_output_channels=3), CLAHE(p=0.01, clip_limit=(1.0, 4.0), tile_grid_size=(8, 8))\n",
            "\u001b[34m\u001b[1mval: \u001b[0mFast image access ✅ (ping: 0.0±0.0 ms, read: 1300.1±1219.8 MB/s, size: 4379.2 KB)\n"
          ]
        },
        {
          "output_type": "stream",
          "name": "stderr",
          "text": [
            "\u001b[34m\u001b[1mval: \u001b[0mScanning /content/dataset/data/labels/val.cache... 127 images, 0 backgrounds, 0 corrupt: 100%|██████████| 127/127 [00:00<?, ?it/s]"
          ]
        },
        {
          "output_type": "stream",
          "name": "stdout",
          "text": [
            "\u001b[34m\u001b[1mval: \u001b[0m/content/dataset/data/images/val/IMG20250401211118.jpg: corrupt JPEG restored and saved\n",
            "\u001b[34m\u001b[1mval: \u001b[0m/content/dataset/data/images/val/IMG20250401211120.jpg: corrupt JPEG restored and saved\n",
            "\u001b[34m\u001b[1mval: \u001b[0m/content/dataset/data/images/val/IMG20250401211123.jpg: corrupt JPEG restored and saved\n",
            "\u001b[34m\u001b[1mval: \u001b[0m/content/dataset/data/images/val/IMG20250401211129.jpg: corrupt JPEG restored and saved\n",
            "\u001b[34m\u001b[1mval: \u001b[0m/content/dataset/data/images/val/IMG20250401211133.jpg: corrupt JPEG restored and saved\n",
            "\u001b[34m\u001b[1mval: \u001b[0m/content/dataset/data/images/val/IMG20250401211137.jpg: corrupt JPEG restored and saved\n",
            "\u001b[34m\u001b[1mval: \u001b[0m/content/dataset/data/images/val/IMG20250401211142.jpg: corrupt JPEG restored and saved\n",
            "\u001b[34m\u001b[1mval: \u001b[0m/content/dataset/data/images/val/IMG20250401211146.jpg: corrupt JPEG restored and saved\n",
            "\u001b[34m\u001b[1mval: \u001b[0m/content/dataset/data/images/val/IMG20250401211151.jpg: corrupt JPEG restored and saved\n",
            "\u001b[34m\u001b[1mval: \u001b[0m/content/dataset/data/images/val/IMG20250401211204.jpg: corrupt JPEG restored and saved\n",
            "\u001b[34m\u001b[1mval: \u001b[0m/content/dataset/data/images/val/IMG20250401211208.jpg: corrupt JPEG restored and saved\n",
            "\u001b[34m\u001b[1mval: \u001b[0m/content/dataset/data/images/val/IMG20250401211211.jpg: corrupt JPEG restored and saved\n",
            "\u001b[34m\u001b[1mval: \u001b[0m/content/dataset/data/images/val/IMG20250401211222.jpg: corrupt JPEG restored and saved\n",
            "\u001b[34m\u001b[1mval: \u001b[0m/content/dataset/data/images/val/IMG20250401211225.jpg: corrupt JPEG restored and saved\n",
            "\u001b[34m\u001b[1mval: \u001b[0m/content/dataset/data/images/val/IMG20250401211228.jpg: corrupt JPEG restored and saved\n",
            "\u001b[34m\u001b[1mval: \u001b[0m/content/dataset/data/images/val/IMG20250401211236.jpg: corrupt JPEG restored and saved\n",
            "\u001b[34m\u001b[1mval: \u001b[0m/content/dataset/data/images/val/IMG20250401211239.jpg: corrupt JPEG restored and saved\n",
            "\u001b[34m\u001b[1mval: \u001b[0m/content/dataset/data/images/val/IMG20250401211247.jpg: corrupt JPEG restored and saved\n",
            "\u001b[34m\u001b[1mval: \u001b[0m/content/dataset/data/images/val/IMG20250401211249.jpg: corrupt JPEG restored and saved\n",
            "\u001b[34m\u001b[1mval: \u001b[0m/content/dataset/data/images/val/IMG20250401211259.jpg: corrupt JPEG restored and saved\n",
            "\u001b[34m\u001b[1mval: \u001b[0m/content/dataset/data/images/val/IMG20250401211302.jpg: corrupt JPEG restored and saved\n",
            "\u001b[34m\u001b[1mval: \u001b[0m/content/dataset/data/images/val/IMG20250401211306.jpg: corrupt JPEG restored and saved\n",
            "\u001b[34m\u001b[1mval: \u001b[0m/content/dataset/data/images/val/IMG20250401211310.jpg: corrupt JPEG restored and saved\n",
            "\u001b[34m\u001b[1mval: \u001b[0m/content/dataset/data/images/val/IMG20250401211312.jpg: corrupt JPEG restored and saved\n",
            "\u001b[34m\u001b[1mval: \u001b[0m/content/dataset/data/images/val/IMG20250401211318.jpg: corrupt JPEG restored and saved\n",
            "\u001b[34m\u001b[1mval: \u001b[0m/content/dataset/data/images/val/IMG20250401211321.jpg: corrupt JPEG restored and saved\n",
            "\u001b[34m\u001b[1mval: \u001b[0m/content/dataset/data/images/val/IMG20250401211325.jpg: corrupt JPEG restored and saved\n",
            "\u001b[34m\u001b[1mval: \u001b[0m/content/dataset/data/images/val/IMG20250401211346.jpg: corrupt JPEG restored and saved\n",
            "\u001b[34m\u001b[1mval: \u001b[0m/content/dataset/data/images/val/IMG20250401211349.jpg: corrupt JPEG restored and saved\n",
            "\u001b[34m\u001b[1mval: \u001b[0m/content/dataset/data/images/val/IMG20250401211352.jpg: corrupt JPEG restored and saved\n",
            "\u001b[34m\u001b[1mval: \u001b[0m/content/dataset/data/images/val/IMG20250401211357.jpg: corrupt JPEG restored and saved\n",
            "\u001b[34m\u001b[1mval: \u001b[0m/content/dataset/data/images/val/IMG20250401211400.jpg: corrupt JPEG restored and saved\n",
            "\u001b[34m\u001b[1mval: \u001b[0m/content/dataset/data/images/val/IMG20250401211404.jpg: corrupt JPEG restored and saved\n",
            "\u001b[34m\u001b[1mval: \u001b[0m/content/dataset/data/images/val/IMG20250401211419.jpg: corrupt JPEG restored and saved\n",
            "\u001b[34m\u001b[1mval: \u001b[0m/content/dataset/data/images/val/IMG20250401211422.jpg: corrupt JPEG restored and saved\n",
            "\u001b[34m\u001b[1mval: \u001b[0m/content/dataset/data/images/val/IMG20250401211426.jpg: corrupt JPEG restored and saved\n",
            "\u001b[34m\u001b[1mval: \u001b[0m/content/dataset/data/images/val/IMG20250401211428.jpg: corrupt JPEG restored and saved\n",
            "\u001b[34m\u001b[1mval: \u001b[0m/content/dataset/data/images/val/IMG20250401211433.jpg: corrupt JPEG restored and saved\n",
            "\u001b[34m\u001b[1mval: \u001b[0m/content/dataset/data/images/val/IMG20250401211438.jpg: corrupt JPEG restored and saved\n",
            "\u001b[34m\u001b[1mval: \u001b[0m/content/dataset/data/images/val/IMG20250401211440.jpg: corrupt JPEG restored and saved\n",
            "\u001b[34m\u001b[1mval: \u001b[0m/content/dataset/data/images/val/IMG20250401211443.jpg: corrupt JPEG restored and saved\n",
            "\u001b[34m\u001b[1mval: \u001b[0m/content/dataset/data/images/val/IMG20250401211459.jpg: corrupt JPEG restored and saved\n",
            "\u001b[34m\u001b[1mval: \u001b[0m/content/dataset/data/images/val/IMG20250401211501.jpg: corrupt JPEG restored and saved\n",
            "\u001b[34m\u001b[1mval: \u001b[0m/content/dataset/data/images/val/IMG20250401211504.jpg: corrupt JPEG restored and saved\n",
            "\u001b[34m\u001b[1mval: \u001b[0m/content/dataset/data/images/val/IMG20250401211508.jpg: corrupt JPEG restored and saved\n",
            "\u001b[34m\u001b[1mval: \u001b[0m/content/dataset/data/images/val/IMG20250401211510.jpg: corrupt JPEG restored and saved\n",
            "\u001b[34m\u001b[1mval: \u001b[0m/content/dataset/data/images/val/IMG20250401211514.jpg: corrupt JPEG restored and saved\n",
            "\u001b[34m\u001b[1mval: \u001b[0m/content/dataset/data/images/val/IMG20250401211523.jpg: corrupt JPEG restored and saved\n",
            "\u001b[34m\u001b[1mval: \u001b[0m/content/dataset/data/images/val/IMG20250401211525.jpg: corrupt JPEG restored and saved\n",
            "\u001b[34m\u001b[1mval: \u001b[0m/content/dataset/data/images/val/IMG20250401211530.jpg: corrupt JPEG restored and saved\n",
            "\u001b[34m\u001b[1mval: \u001b[0m/content/dataset/data/images/val/IMG20250401211535.jpg: corrupt JPEG restored and saved\n",
            "\u001b[34m\u001b[1mval: \u001b[0m/content/dataset/data/images/val/IMG20250401211537.jpg: corrupt JPEG restored and saved\n",
            "\u001b[34m\u001b[1mval: \u001b[0m/content/dataset/data/images/val/IMG20250401211539.jpg: corrupt JPEG restored and saved\n",
            "\u001b[34m\u001b[1mval: \u001b[0m/content/dataset/data/images/val/IMG20250401211545.jpg: corrupt JPEG restored and saved\n",
            "\u001b[34m\u001b[1mval: \u001b[0m/content/dataset/data/images/val/IMG20250401211548.jpg: corrupt JPEG restored and saved\n",
            "\u001b[34m\u001b[1mval: \u001b[0m/content/dataset/data/images/val/IMG20250401211551.jpg: corrupt JPEG restored and saved\n",
            "\u001b[34m\u001b[1mval: \u001b[0m/content/dataset/data/images/val/IMG20250401211554.jpg: corrupt JPEG restored and saved\n"
          ]
        },
        {
          "output_type": "stream",
          "name": "stderr",
          "text": [
            "\n"
          ]
        },
        {
          "output_type": "stream",
          "name": "stdout",
          "text": [
            "Plotting labels to runs/detect/train6/labels.jpg... \n",
            "\u001b[34m\u001b[1moptimizer:\u001b[0m 'optimizer=auto' found, ignoring 'lr0=0.001' and 'momentum=0.937' and determining best 'optimizer', 'lr0' and 'momentum' automatically... \n",
            "\u001b[34m\u001b[1moptimizer:\u001b[0m AdamW(lr=0.001667, momentum=0.9) with parameter groups 57 weight(decay=0.0), 64 weight(decay=0.0005), 63 bias(decay=0.0)\n",
            "Image sizes 640 train, 640 val\n",
            "Using 2 dataloader workers\n",
            "Logging results to \u001b[1mruns/detect/train6\u001b[0m\n",
            "Starting training for 60 epochs...\n",
            "\n",
            "      Epoch    GPU_mem   box_loss   cls_loss   dfl_loss  Instances       Size\n"
          ]
        },
        {
          "output_type": "stream",
          "name": "stderr",
          "text": [
            "       1/60     0.586G       1.25      2.479      1.253          2        640: 100%|██████████| 124/124 [00:41<00:00,  2.96it/s]\n",
            "                 Class     Images  Instances      Box(P          R      mAP50  mAP50-95): 100%|██████████| 16/16 [00:11<00:00,  1.44it/s]\n"
          ]
        },
        {
          "output_type": "stream",
          "name": "stdout",
          "text": [
            "                   all        127        127      0.349      0.729      0.344      0.219\n",
            "\n",
            "      Epoch    GPU_mem   box_loss   cls_loss   dfl_loss  Instances       Size\n"
          ]
        },
        {
          "output_type": "stream",
          "name": "stderr",
          "text": [
            "       2/60     0.701G       1.24      2.022      1.272          3        640: 100%|██████████| 124/124 [00:45<00:00,  2.72it/s]\n",
            "                 Class     Images  Instances      Box(P          R      mAP50  mAP50-95): 100%|██████████| 16/16 [00:10<00:00,  1.48it/s]\n"
          ]
        },
        {
          "output_type": "stream",
          "name": "stdout",
          "text": [
            "                   all        127        127      0.379      0.709       0.38      0.236\n",
            "\n",
            "      Epoch    GPU_mem   box_loss   cls_loss   dfl_loss  Instances       Size\n"
          ]
        },
        {
          "output_type": "stream",
          "name": "stderr",
          "text": [
            "       3/60     0.715G      1.298      1.933      1.285          2        640: 100%|██████████| 124/124 [00:41<00:00,  2.99it/s]\n",
            "                 Class     Images  Instances      Box(P          R      mAP50  mAP50-95): 100%|██████████| 16/16 [00:11<00:00,  1.40it/s]"
          ]
        },
        {
          "output_type": "stream",
          "name": "stdout",
          "text": [
            "                   all        127        127      0.408      0.712      0.516      0.306\n"
          ]
        },
        {
          "output_type": "stream",
          "name": "stderr",
          "text": [
            "\n"
          ]
        },
        {
          "output_type": "stream",
          "name": "stdout",
          "text": [
            "\n",
            "      Epoch    GPU_mem   box_loss   cls_loss   dfl_loss  Instances       Size\n"
          ]
        },
        {
          "output_type": "stream",
          "name": "stderr",
          "text": [
            "       4/60     0.715G      1.303      1.728      1.286          2        640: 100%|██████████| 124/124 [00:40<00:00,  3.10it/s]\n",
            "                 Class     Images  Instances      Box(P          R      mAP50  mAP50-95): 100%|██████████| 16/16 [00:11<00:00,  1.45it/s]\n"
          ]
        },
        {
          "output_type": "stream",
          "name": "stdout",
          "text": [
            "                   all        127        127      0.381       0.72      0.461      0.277\n",
            "\n",
            "      Epoch    GPU_mem   box_loss   cls_loss   dfl_loss  Instances       Size\n"
          ]
        },
        {
          "output_type": "stream",
          "name": "stderr",
          "text": [
            "       5/60     0.717G      1.271       1.62      1.274          2        640: 100%|██████████| 124/124 [00:40<00:00,  3.08it/s]\n",
            "                 Class     Images  Instances      Box(P          R      mAP50  mAP50-95): 100%|██████████| 16/16 [00:09<00:00,  1.66it/s]\n"
          ]
        },
        {
          "output_type": "stream",
          "name": "stdout",
          "text": [
            "                   all        127        127      0.336      0.686      0.417      0.246\n",
            "\n",
            "      Epoch    GPU_mem   box_loss   cls_loss   dfl_loss  Instances       Size\n"
          ]
        },
        {
          "output_type": "stream",
          "name": "stderr",
          "text": [
            "       6/60     0.732G      1.228      1.401      1.245          4        640: 100%|██████████| 124/124 [00:40<00:00,  3.03it/s]\n",
            "                 Class     Images  Instances      Box(P          R      mAP50  mAP50-95): 100%|██████████| 16/16 [00:09<00:00,  1.76it/s]"
          ]
        },
        {
          "output_type": "stream",
          "name": "stdout",
          "text": [
            "                   all        127        127      0.404      0.618      0.384      0.243\n"
          ]
        },
        {
          "output_type": "stream",
          "name": "stderr",
          "text": [
            "\n"
          ]
        },
        {
          "output_type": "stream",
          "name": "stdout",
          "text": [
            "\n",
            "      Epoch    GPU_mem   box_loss   cls_loss   dfl_loss  Instances       Size\n"
          ]
        },
        {
          "output_type": "stream",
          "name": "stderr",
          "text": [
            "       7/60     0.732G      1.289      1.324      1.262          6        640: 100%|██████████| 124/124 [00:41<00:00,  2.99it/s]\n",
            "                 Class     Images  Instances      Box(P          R      mAP50  mAP50-95): 100%|██████████| 16/16 [00:09<00:00,  1.74it/s]"
          ]
        },
        {
          "output_type": "stream",
          "name": "stdout",
          "text": [
            "                   all        127        127      0.314      0.499      0.291      0.177\n"
          ]
        },
        {
          "output_type": "stream",
          "name": "stderr",
          "text": [
            "\n"
          ]
        },
        {
          "output_type": "stream",
          "name": "stdout",
          "text": [
            "\n",
            "      Epoch    GPU_mem   box_loss   cls_loss   dfl_loss  Instances       Size\n"
          ]
        },
        {
          "output_type": "stream",
          "name": "stderr",
          "text": [
            "       8/60     0.732G      1.253      1.326      1.239          2        640: 100%|██████████| 124/124 [00:41<00:00,  3.02it/s]\n",
            "                 Class     Images  Instances      Box(P          R      mAP50  mAP50-95): 100%|██████████| 16/16 [00:10<00:00,  1.56it/s]"
          ]
        },
        {
          "output_type": "stream",
          "name": "stdout",
          "text": [
            "                   all        127        127      0.315      0.564      0.363      0.213\n"
          ]
        },
        {
          "output_type": "stream",
          "name": "stderr",
          "text": [
            "\n"
          ]
        },
        {
          "output_type": "stream",
          "name": "stdout",
          "text": [
            "\n",
            "      Epoch    GPU_mem   box_loss   cls_loss   dfl_loss  Instances       Size\n"
          ]
        },
        {
          "output_type": "stream",
          "name": "stderr",
          "text": [
            "       9/60     0.736G      1.241      1.221      1.226          5        640: 100%|██████████| 124/124 [00:41<00:00,  2.96it/s]\n",
            "                 Class     Images  Instances      Box(P          R      mAP50  mAP50-95): 100%|██████████| 16/16 [00:09<00:00,  1.72it/s]"
          ]
        },
        {
          "output_type": "stream",
          "name": "stdout",
          "text": [
            "                   all        127        127      0.364      0.608      0.399      0.243\n"
          ]
        },
        {
          "output_type": "stream",
          "name": "stderr",
          "text": [
            "\n"
          ]
        },
        {
          "output_type": "stream",
          "name": "stdout",
          "text": [
            "\n",
            "      Epoch    GPU_mem   box_loss   cls_loss   dfl_loss  Instances       Size\n"
          ]
        },
        {
          "output_type": "stream",
          "name": "stderr",
          "text": [
            "      10/60     0.752G      1.214      1.171      1.221          3        640: 100%|██████████| 124/124 [00:40<00:00,  3.05it/s]\n",
            "                 Class     Images  Instances      Box(P          R      mAP50  mAP50-95): 100%|██████████| 16/16 [00:10<00:00,  1.58it/s]"
          ]
        },
        {
          "output_type": "stream",
          "name": "stdout",
          "text": [
            "                   all        127        127      0.347      0.539      0.348      0.213\n"
          ]
        },
        {
          "output_type": "stream",
          "name": "stderr",
          "text": [
            "\n"
          ]
        },
        {
          "output_type": "stream",
          "name": "stdout",
          "text": [
            "\n",
            "      Epoch    GPU_mem   box_loss   cls_loss   dfl_loss  Instances       Size\n"
          ]
        },
        {
          "output_type": "stream",
          "name": "stderr",
          "text": [
            "      11/60     0.766G      1.218      1.053      1.193          2        640: 100%|██████████| 124/124 [00:39<00:00,  3.10it/s]\n",
            "                 Class     Images  Instances      Box(P          R      mAP50  mAP50-95): 100%|██████████| 16/16 [00:10<00:00,  1.53it/s]"
          ]
        },
        {
          "output_type": "stream",
          "name": "stdout",
          "text": [
            "                   all        127        127      0.456       0.52      0.363      0.223\n"
          ]
        },
        {
          "output_type": "stream",
          "name": "stderr",
          "text": [
            "\n"
          ]
        },
        {
          "output_type": "stream",
          "name": "stdout",
          "text": [
            "\n",
            "      Epoch    GPU_mem   box_loss   cls_loss   dfl_loss  Instances       Size\n"
          ]
        },
        {
          "output_type": "stream",
          "name": "stderr",
          "text": [
            "      12/60     0.766G      1.206      1.019      1.206          3        640: 100%|██████████| 124/124 [00:40<00:00,  3.09it/s]\n",
            "                 Class     Images  Instances      Box(P          R      mAP50  mAP50-95): 100%|██████████| 16/16 [00:10<00:00,  1.54it/s]"
          ]
        },
        {
          "output_type": "stream",
          "name": "stdout",
          "text": [
            "                   all        127        127      0.582      0.585      0.389      0.247\n"
          ]
        },
        {
          "output_type": "stream",
          "name": "stderr",
          "text": [
            "\n"
          ]
        },
        {
          "output_type": "stream",
          "name": "stdout",
          "text": [
            "\n",
            "      Epoch    GPU_mem   box_loss   cls_loss   dfl_loss  Instances       Size\n"
          ]
        },
        {
          "output_type": "stream",
          "name": "stderr",
          "text": [
            "      13/60     0.766G      1.208     0.9814      1.218          3        640: 100%|██████████| 124/124 [00:40<00:00,  3.06it/s]\n",
            "                 Class     Images  Instances      Box(P          R      mAP50  mAP50-95): 100%|██████████| 16/16 [00:10<00:00,  1.56it/s]"
          ]
        },
        {
          "output_type": "stream",
          "name": "stdout",
          "text": [
            "                   all        127        127      0.415      0.606      0.357      0.203\n"
          ]
        },
        {
          "output_type": "stream",
          "name": "stderr",
          "text": [
            "\n"
          ]
        },
        {
          "output_type": "stream",
          "name": "stdout",
          "text": [
            "\n",
            "      Epoch    GPU_mem   box_loss   cls_loss   dfl_loss  Instances       Size\n"
          ]
        },
        {
          "output_type": "stream",
          "name": "stderr",
          "text": [
            "      14/60     0.766G      1.185     0.9552        1.2          5        640: 100%|██████████| 124/124 [00:40<00:00,  3.09it/s]\n",
            "                 Class     Images  Instances      Box(P          R      mAP50  mAP50-95): 100%|██████████| 16/16 [00:10<00:00,  1.59it/s]"
          ]
        },
        {
          "output_type": "stream",
          "name": "stdout",
          "text": [
            "                   all        127        127      0.517      0.564      0.449      0.278\n"
          ]
        },
        {
          "output_type": "stream",
          "name": "stderr",
          "text": [
            "\n"
          ]
        },
        {
          "output_type": "stream",
          "name": "stdout",
          "text": [
            "\n",
            "      Epoch    GPU_mem   box_loss   cls_loss   dfl_loss  Instances       Size\n"
          ]
        },
        {
          "output_type": "stream",
          "name": "stderr",
          "text": [
            "      15/60     0.766G      1.147     0.9263      1.173          6        640: 100%|██████████| 124/124 [00:40<00:00,  3.05it/s]\n",
            "                 Class     Images  Instances      Box(P          R      mAP50  mAP50-95): 100%|██████████| 16/16 [00:09<00:00,  1.63it/s]"
          ]
        },
        {
          "output_type": "stream",
          "name": "stdout",
          "text": [
            "                   all        127        127      0.473      0.695      0.501      0.315\n"
          ]
        },
        {
          "output_type": "stream",
          "name": "stderr",
          "text": [
            "\n"
          ]
        },
        {
          "output_type": "stream",
          "name": "stdout",
          "text": [
            "\n",
            "      Epoch    GPU_mem   box_loss   cls_loss   dfl_loss  Instances       Size\n"
          ]
        },
        {
          "output_type": "stream",
          "name": "stderr",
          "text": [
            "      16/60     0.766G      1.168     0.8817      1.194          1        640: 100%|██████████| 124/124 [00:40<00:00,  3.04it/s]\n",
            "                 Class     Images  Instances      Box(P          R      mAP50  mAP50-95): 100%|██████████| 16/16 [00:10<00:00,  1.53it/s]"
          ]
        },
        {
          "output_type": "stream",
          "name": "stdout",
          "text": [
            "                   all        127        127      0.417       0.49      0.446      0.284\n"
          ]
        },
        {
          "output_type": "stream",
          "name": "stderr",
          "text": [
            "\n"
          ]
        },
        {
          "output_type": "stream",
          "name": "stdout",
          "text": [
            "\n",
            "      Epoch    GPU_mem   box_loss   cls_loss   dfl_loss  Instances       Size\n"
          ]
        },
        {
          "output_type": "stream",
          "name": "stderr",
          "text": [
            "      17/60     0.766G      1.167     0.8535      1.171          4        640: 100%|██████████| 124/124 [00:40<00:00,  3.06it/s]\n",
            "                 Class     Images  Instances      Box(P          R      mAP50  mAP50-95): 100%|██████████| 16/16 [00:10<00:00,  1.57it/s]"
          ]
        },
        {
          "output_type": "stream",
          "name": "stdout",
          "text": [
            "                   all        127        127      0.433      0.554      0.402      0.249\n"
          ]
        },
        {
          "output_type": "stream",
          "name": "stderr",
          "text": [
            "\n"
          ]
        },
        {
          "output_type": "stream",
          "name": "stdout",
          "text": [
            "\n",
            "      Epoch    GPU_mem   box_loss   cls_loss   dfl_loss  Instances       Size\n"
          ]
        },
        {
          "output_type": "stream",
          "name": "stderr",
          "text": [
            "      18/60     0.766G      1.201     0.8672      1.198          2        640: 100%|██████████| 124/124 [00:40<00:00,  3.04it/s]\n",
            "                 Class     Images  Instances      Box(P          R      mAP50  mAP50-95): 100%|██████████| 16/16 [00:09<00:00,  1.61it/s]"
          ]
        },
        {
          "output_type": "stream",
          "name": "stdout",
          "text": [
            "                   all        127        127      0.477      0.563      0.447      0.271\n"
          ]
        },
        {
          "output_type": "stream",
          "name": "stderr",
          "text": [
            "\n"
          ]
        },
        {
          "output_type": "stream",
          "name": "stdout",
          "text": [
            "\n",
            "      Epoch    GPU_mem   box_loss   cls_loss   dfl_loss  Instances       Size\n"
          ]
        },
        {
          "output_type": "stream",
          "name": "stderr",
          "text": [
            "      19/60     0.766G      1.164     0.8259       1.17          5        640: 100%|██████████| 124/124 [00:40<00:00,  3.05it/s]\n",
            "                 Class     Images  Instances      Box(P          R      mAP50  mAP50-95): 100%|██████████| 16/16 [00:10<00:00,  1.53it/s]"
          ]
        },
        {
          "output_type": "stream",
          "name": "stdout",
          "text": [
            "                   all        127        127      0.475      0.676      0.492      0.314\n"
          ]
        },
        {
          "output_type": "stream",
          "name": "stderr",
          "text": [
            "\n"
          ]
        },
        {
          "output_type": "stream",
          "name": "stdout",
          "text": [
            "\n",
            "      Epoch    GPU_mem   box_loss   cls_loss   dfl_loss  Instances       Size\n"
          ]
        },
        {
          "output_type": "stream",
          "name": "stderr",
          "text": [
            "      20/60     0.766G      1.156     0.8592       1.17          4        640: 100%|██████████| 124/124 [00:40<00:00,  3.07it/s]\n",
            "                 Class     Images  Instances      Box(P          R      mAP50  mAP50-95): 100%|██████████| 16/16 [00:10<00:00,  1.59it/s]"
          ]
        },
        {
          "output_type": "stream",
          "name": "stdout",
          "text": [
            "                   all        127        127      0.358      0.585      0.413      0.261\n"
          ]
        },
        {
          "output_type": "stream",
          "name": "stderr",
          "text": [
            "\n"
          ]
        },
        {
          "output_type": "stream",
          "name": "stdout",
          "text": [
            "\n",
            "      Epoch    GPU_mem   box_loss   cls_loss   dfl_loss  Instances       Size\n"
          ]
        },
        {
          "output_type": "stream",
          "name": "stderr",
          "text": [
            "      21/60     0.766G      1.129     0.8139      1.171          8        640: 100%|██████████| 124/124 [00:40<00:00,  3.05it/s]\n",
            "                 Class     Images  Instances      Box(P          R      mAP50  mAP50-95): 100%|██████████| 16/16 [00:10<00:00,  1.51it/s]"
          ]
        },
        {
          "output_type": "stream",
          "name": "stdout",
          "text": [
            "                   all        127        127      0.406      0.556      0.344      0.212\n"
          ]
        },
        {
          "output_type": "stream",
          "name": "stderr",
          "text": [
            "\n"
          ]
        },
        {
          "output_type": "stream",
          "name": "stdout",
          "text": [
            "\n",
            "      Epoch    GPU_mem   box_loss   cls_loss   dfl_loss  Instances       Size\n"
          ]
        },
        {
          "output_type": "stream",
          "name": "stderr",
          "text": [
            "      22/60      0.77G      1.099       0.77      1.154          7        640: 100%|██████████| 124/124 [00:40<00:00,  3.08it/s]\n",
            "                 Class     Images  Instances      Box(P          R      mAP50  mAP50-95): 100%|██████████| 16/16 [00:09<00:00,  1.65it/s]"
          ]
        },
        {
          "output_type": "stream",
          "name": "stdout",
          "text": [
            "                   all        127        127      0.532      0.585       0.35      0.227\n"
          ]
        },
        {
          "output_type": "stream",
          "name": "stderr",
          "text": [
            "\n"
          ]
        },
        {
          "output_type": "stream",
          "name": "stdout",
          "text": [
            "\n",
            "      Epoch    GPU_mem   box_loss   cls_loss   dfl_loss  Instances       Size\n"
          ]
        },
        {
          "output_type": "stream",
          "name": "stderr",
          "text": [
            "      23/60     0.781G      1.091     0.8104      1.141          2        640: 100%|██████████| 124/124 [00:40<00:00,  3.07it/s]\n",
            "                 Class     Images  Instances      Box(P          R      mAP50  mAP50-95): 100%|██████████| 16/16 [00:08<00:00,  1.80it/s]"
          ]
        },
        {
          "output_type": "stream",
          "name": "stdout",
          "text": [
            "                   all        127        127      0.633      0.514      0.441      0.247\n"
          ]
        },
        {
          "output_type": "stream",
          "name": "stderr",
          "text": [
            "\n"
          ]
        },
        {
          "output_type": "stream",
          "name": "stdout",
          "text": [
            "\n",
            "      Epoch    GPU_mem   box_loss   cls_loss   dfl_loss  Instances       Size\n"
          ]
        },
        {
          "output_type": "stream",
          "name": "stderr",
          "text": [
            "      24/60     0.781G      1.141      0.763      1.162          6        640: 100%|██████████| 124/124 [00:41<00:00,  2.99it/s]\n",
            "                 Class     Images  Instances      Box(P          R      mAP50  mAP50-95): 100%|██████████| 16/16 [00:09<00:00,  1.77it/s]"
          ]
        },
        {
          "output_type": "stream",
          "name": "stdout",
          "text": [
            "                   all        127        127      0.442      0.462      0.403      0.239\n"
          ]
        },
        {
          "output_type": "stream",
          "name": "stderr",
          "text": [
            "\n"
          ]
        },
        {
          "output_type": "stream",
          "name": "stdout",
          "text": [
            "\n",
            "      Epoch    GPU_mem   box_loss   cls_loss   dfl_loss  Instances       Size\n"
          ]
        },
        {
          "output_type": "stream",
          "name": "stderr",
          "text": [
            "      25/60     0.781G      1.117     0.7689      1.152          1        640: 100%|██████████| 124/124 [00:40<00:00,  3.03it/s]\n",
            "                 Class     Images  Instances      Box(P          R      mAP50  mAP50-95): 100%|██████████| 16/16 [00:09<00:00,  1.61it/s]"
          ]
        },
        {
          "output_type": "stream",
          "name": "stdout",
          "text": [
            "                   all        127        127      0.515      0.575      0.456      0.287\n"
          ]
        },
        {
          "output_type": "stream",
          "name": "stderr",
          "text": [
            "\n"
          ]
        },
        {
          "output_type": "stream",
          "name": "stdout",
          "text": [
            "\n",
            "      Epoch    GPU_mem   box_loss   cls_loss   dfl_loss  Instances       Size\n"
          ]
        },
        {
          "output_type": "stream",
          "name": "stderr",
          "text": [
            "      26/60     0.787G      1.123     0.7687      1.143          6        640: 100%|██████████| 124/124 [00:40<00:00,  3.09it/s]\n",
            "                 Class     Images  Instances      Box(P          R      mAP50  mAP50-95): 100%|██████████| 16/16 [00:10<00:00,  1.58it/s]"
          ]
        },
        {
          "output_type": "stream",
          "name": "stdout",
          "text": [
            "                   all        127        127      0.509      0.562      0.353      0.221\n"
          ]
        },
        {
          "output_type": "stream",
          "name": "stderr",
          "text": [
            "\n"
          ]
        },
        {
          "output_type": "stream",
          "name": "stdout",
          "text": [
            "\n",
            "      Epoch    GPU_mem   box_loss   cls_loss   dfl_loss  Instances       Size\n"
          ]
        },
        {
          "output_type": "stream",
          "name": "stderr",
          "text": [
            "      27/60     0.799G      1.108     0.7225      1.154          3        640: 100%|██████████| 124/124 [00:40<00:00,  3.07it/s]\n",
            "                 Class     Images  Instances      Box(P          R      mAP50  mAP50-95): 100%|██████████| 16/16 [00:10<00:00,  1.59it/s]"
          ]
        },
        {
          "output_type": "stream",
          "name": "stdout",
          "text": [
            "                   all        127        127      0.506      0.548      0.507      0.301\n"
          ]
        },
        {
          "output_type": "stream",
          "name": "stderr",
          "text": [
            "\n"
          ]
        },
        {
          "output_type": "stream",
          "name": "stdout",
          "text": [
            "\n",
            "      Epoch    GPU_mem   box_loss   cls_loss   dfl_loss  Instances       Size\n"
          ]
        },
        {
          "output_type": "stream",
          "name": "stderr",
          "text": [
            "      28/60     0.799G      1.093     0.7345      1.162          3        640: 100%|██████████| 124/124 [00:40<00:00,  3.06it/s]\n",
            "                 Class     Images  Instances      Box(P          R      mAP50  mAP50-95): 100%|██████████| 16/16 [00:10<00:00,  1.55it/s]"
          ]
        },
        {
          "output_type": "stream",
          "name": "stdout",
          "text": [
            "                   all        127        127      0.465      0.714      0.524      0.321\n"
          ]
        },
        {
          "output_type": "stream",
          "name": "stderr",
          "text": [
            "\n"
          ]
        },
        {
          "output_type": "stream",
          "name": "stdout",
          "text": [
            "\n",
            "      Epoch    GPU_mem   box_loss   cls_loss   dfl_loss  Instances       Size\n"
          ]
        },
        {
          "output_type": "stream",
          "name": "stderr",
          "text": [
            "      29/60     0.799G       1.09     0.7189      1.149          3        640: 100%|██████████| 124/124 [00:40<00:00,  3.03it/s]\n",
            "                 Class     Images  Instances      Box(P          R      mAP50  mAP50-95): 100%|██████████| 16/16 [00:10<00:00,  1.57it/s]"
          ]
        },
        {
          "output_type": "stream",
          "name": "stdout",
          "text": [
            "                   all        127        127      0.445      0.713      0.514      0.332\n"
          ]
        },
        {
          "output_type": "stream",
          "name": "stderr",
          "text": [
            "\n"
          ]
        },
        {
          "output_type": "stream",
          "name": "stdout",
          "text": [
            "\n",
            "      Epoch    GPU_mem   box_loss   cls_loss   dfl_loss  Instances       Size\n"
          ]
        },
        {
          "output_type": "stream",
          "name": "stderr",
          "text": [
            "      30/60     0.799G      1.065     0.7007      1.132          6        640: 100%|██████████| 124/124 [00:40<00:00,  3.06it/s]\n",
            "                 Class     Images  Instances      Box(P          R      mAP50  mAP50-95): 100%|██████████| 16/16 [00:10<00:00,  1.52it/s]"
          ]
        },
        {
          "output_type": "stream",
          "name": "stdout",
          "text": [
            "                   all        127        127      0.503      0.577       0.44      0.293\n"
          ]
        },
        {
          "output_type": "stream",
          "name": "stderr",
          "text": [
            "\n"
          ]
        },
        {
          "output_type": "stream",
          "name": "stdout",
          "text": [
            "\n",
            "      Epoch    GPU_mem   box_loss   cls_loss   dfl_loss  Instances       Size\n"
          ]
        },
        {
          "output_type": "stream",
          "name": "stderr",
          "text": [
            "      31/60     0.803G      1.109     0.6896      1.143          3        640: 100%|██████████| 124/124 [00:40<00:00,  3.07it/s]\n",
            "                 Class     Images  Instances      Box(P          R      mAP50  mAP50-95): 100%|██████████| 16/16 [00:10<00:00,  1.59it/s]"
          ]
        },
        {
          "output_type": "stream",
          "name": "stdout",
          "text": [
            "                   all        127        127      0.479      0.587      0.388      0.245\n"
          ]
        },
        {
          "output_type": "stream",
          "name": "stderr",
          "text": [
            "\n"
          ]
        },
        {
          "output_type": "stream",
          "name": "stdout",
          "text": [
            "\n",
            "      Epoch    GPU_mem   box_loss   cls_loss   dfl_loss  Instances       Size\n"
          ]
        },
        {
          "output_type": "stream",
          "name": "stderr",
          "text": [
            "      32/60     0.803G      1.123     0.7002      1.167          2        640: 100%|██████████| 124/124 [00:40<00:00,  3.06it/s]\n",
            "                 Class     Images  Instances      Box(P          R      mAP50  mAP50-95): 100%|██████████| 16/16 [00:10<00:00,  1.57it/s]"
          ]
        },
        {
          "output_type": "stream",
          "name": "stdout",
          "text": [
            "                   all        127        127      0.402      0.531      0.343       0.22\n"
          ]
        },
        {
          "output_type": "stream",
          "name": "stderr",
          "text": [
            "\n"
          ]
        },
        {
          "output_type": "stream",
          "name": "stdout",
          "text": [
            "\n",
            "      Epoch    GPU_mem   box_loss   cls_loss   dfl_loss  Instances       Size\n"
          ]
        },
        {
          "output_type": "stream",
          "name": "stderr",
          "text": [
            "      33/60     0.803G      1.107     0.6836      1.156          3        640: 100%|██████████| 124/124 [00:40<00:00,  3.05it/s]\n",
            "                 Class     Images  Instances      Box(P          R      mAP50  mAP50-95): 100%|██████████| 16/16 [00:10<00:00,  1.49it/s]"
          ]
        },
        {
          "output_type": "stream",
          "name": "stdout",
          "text": [
            "                   all        127        127      0.458      0.587      0.406      0.257\n"
          ]
        },
        {
          "output_type": "stream",
          "name": "stderr",
          "text": [
            "\n"
          ]
        },
        {
          "output_type": "stream",
          "name": "stdout",
          "text": [
            "\n",
            "      Epoch    GPU_mem   box_loss   cls_loss   dfl_loss  Instances       Size\n"
          ]
        },
        {
          "output_type": "stream",
          "name": "stderr",
          "text": [
            "      34/60     0.803G      1.087     0.6782       1.13          5        640: 100%|██████████| 124/124 [00:40<00:00,  3.07it/s]\n",
            "                 Class     Images  Instances      Box(P          R      mAP50  mAP50-95): 100%|██████████| 16/16 [00:09<00:00,  1.71it/s]\n"
          ]
        },
        {
          "output_type": "stream",
          "name": "stdout",
          "text": [
            "                   all        127        127      0.711      0.629       0.52      0.331\n",
            "\n",
            "      Epoch    GPU_mem   box_loss   cls_loss   dfl_loss  Instances       Size\n"
          ]
        },
        {
          "output_type": "stream",
          "name": "stderr",
          "text": [
            "      35/60     0.803G      1.061     0.6961      1.125          5        640: 100%|██████████| 124/124 [00:40<00:00,  3.04it/s]\n",
            "                 Class     Images  Instances      Box(P          R      mAP50  mAP50-95): 100%|██████████| 16/16 [00:08<00:00,  1.84it/s]"
          ]
        },
        {
          "output_type": "stream",
          "name": "stdout",
          "text": [
            "                   all        127        127      0.421      0.673      0.455      0.302\n"
          ]
        },
        {
          "output_type": "stream",
          "name": "stderr",
          "text": [
            "\n"
          ]
        },
        {
          "output_type": "stream",
          "name": "stdout",
          "text": [
            "\n",
            "      Epoch    GPU_mem   box_loss   cls_loss   dfl_loss  Instances       Size\n"
          ]
        },
        {
          "output_type": "stream",
          "name": "stderr",
          "text": [
            "      36/60     0.803G      1.025     0.6579      1.126          2        640: 100%|██████████| 124/124 [00:41<00:00,  2.98it/s]\n",
            "                 Class     Images  Instances      Box(P          R      mAP50  mAP50-95): 100%|██████████| 16/16 [00:09<00:00,  1.73it/s]"
          ]
        },
        {
          "output_type": "stream",
          "name": "stdout",
          "text": [
            "                   all        127        127      0.559      0.572      0.411       0.26\n"
          ]
        },
        {
          "output_type": "stream",
          "name": "stderr",
          "text": [
            "\n"
          ]
        },
        {
          "output_type": "stream",
          "name": "stdout",
          "text": [
            "\n",
            "      Epoch    GPU_mem   box_loss   cls_loss   dfl_loss  Instances       Size\n"
          ]
        },
        {
          "output_type": "stream",
          "name": "stderr",
          "text": [
            "      37/60     0.803G      1.065     0.6527      1.143          3        640: 100%|██████████| 124/124 [00:41<00:00,  3.01it/s]\n",
            "                 Class     Images  Instances      Box(P          R      mAP50  mAP50-95): 100%|██████████| 16/16 [00:09<00:00,  1.63it/s]"
          ]
        },
        {
          "output_type": "stream",
          "name": "stdout",
          "text": [
            "                   all        127        127      0.379      0.562      0.396      0.258\n"
          ]
        },
        {
          "output_type": "stream",
          "name": "stderr",
          "text": [
            "\n"
          ]
        },
        {
          "output_type": "stream",
          "name": "stdout",
          "text": [
            "\n",
            "      Epoch    GPU_mem   box_loss   cls_loss   dfl_loss  Instances       Size\n"
          ]
        },
        {
          "output_type": "stream",
          "name": "stderr",
          "text": [
            "      38/60     0.803G      1.073     0.6508       1.12          6        640: 100%|██████████| 124/124 [00:41<00:00,  3.02it/s]\n",
            "                 Class     Images  Instances      Box(P          R      mAP50  mAP50-95): 100%|██████████| 16/16 [00:10<00:00,  1.55it/s]"
          ]
        },
        {
          "output_type": "stream",
          "name": "stdout",
          "text": [
            "                   all        127        127      0.628       0.62      0.443      0.287\n"
          ]
        },
        {
          "output_type": "stream",
          "name": "stderr",
          "text": [
            "\n"
          ]
        },
        {
          "output_type": "stream",
          "name": "stdout",
          "text": [
            "\n",
            "      Epoch    GPU_mem   box_loss   cls_loss   dfl_loss  Instances       Size\n"
          ]
        },
        {
          "output_type": "stream",
          "name": "stderr",
          "text": [
            "      39/60     0.803G      1.031     0.6351      1.112          4        640: 100%|██████████| 124/124 [00:40<00:00,  3.06it/s]\n",
            "                 Class     Images  Instances      Box(P          R      mAP50  mAP50-95): 100%|██████████| 16/16 [00:10<00:00,  1.53it/s]"
          ]
        },
        {
          "output_type": "stream",
          "name": "stdout",
          "text": [
            "                   all        127        127      0.428      0.535      0.439      0.278\n"
          ]
        },
        {
          "output_type": "stream",
          "name": "stderr",
          "text": [
            "\n"
          ]
        },
        {
          "output_type": "stream",
          "name": "stdout",
          "text": [
            "\n",
            "      Epoch    GPU_mem   box_loss   cls_loss   dfl_loss  Instances       Size\n"
          ]
        },
        {
          "output_type": "stream",
          "name": "stderr",
          "text": [
            "      40/60     0.803G      1.011     0.6191      1.101          4        640: 100%|██████████| 124/124 [00:40<00:00,  3.10it/s]\n",
            "                 Class     Images  Instances      Box(P          R      mAP50  mAP50-95): 100%|██████████| 16/16 [00:10<00:00,  1.56it/s]"
          ]
        },
        {
          "output_type": "stream",
          "name": "stdout",
          "text": [
            "                   all        127        127      0.514      0.611      0.429      0.282\n"
          ]
        },
        {
          "output_type": "stream",
          "name": "stderr",
          "text": [
            "\n"
          ]
        },
        {
          "output_type": "stream",
          "name": "stdout",
          "text": [
            "\n",
            "      Epoch    GPU_mem   box_loss   cls_loss   dfl_loss  Instances       Size\n"
          ]
        },
        {
          "output_type": "stream",
          "name": "stderr",
          "text": [
            "      41/60     0.803G      1.037     0.6242      1.135          6        640: 100%|██████████| 124/124 [00:40<00:00,  3.06it/s]\n",
            "                 Class     Images  Instances      Box(P          R      mAP50  mAP50-95): 100%|██████████| 16/16 [00:10<00:00,  1.58it/s]"
          ]
        },
        {
          "output_type": "stream",
          "name": "stdout",
          "text": [
            "                   all        127        127       0.46      0.596      0.469      0.314\n"
          ]
        },
        {
          "output_type": "stream",
          "name": "stderr",
          "text": [
            "\n"
          ]
        },
        {
          "output_type": "stream",
          "name": "stdout",
          "text": [
            "\n",
            "      Epoch    GPU_mem   box_loss   cls_loss   dfl_loss  Instances       Size\n"
          ]
        },
        {
          "output_type": "stream",
          "name": "stderr",
          "text": [
            "      42/60     0.803G        1.1     0.6377      1.142          3        640: 100%|██████████| 124/124 [00:40<00:00,  3.05it/s]\n",
            "                 Class     Images  Instances      Box(P          R      mAP50  mAP50-95): 100%|██████████| 16/16 [00:10<00:00,  1.58it/s]"
          ]
        },
        {
          "output_type": "stream",
          "name": "stdout",
          "text": [
            "                   all        127        127      0.541      0.644      0.536      0.342\n"
          ]
        },
        {
          "output_type": "stream",
          "name": "stderr",
          "text": [
            "\n"
          ]
        },
        {
          "output_type": "stream",
          "name": "stdout",
          "text": [
            "\n",
            "      Epoch    GPU_mem   box_loss   cls_loss   dfl_loss  Instances       Size\n"
          ]
        },
        {
          "output_type": "stream",
          "name": "stderr",
          "text": [
            "      43/60     0.803G      1.045     0.6518      1.117          3        640: 100%|██████████| 124/124 [00:40<00:00,  3.05it/s]\n",
            "                 Class     Images  Instances      Box(P          R      mAP50  mAP50-95): 100%|██████████| 16/16 [00:10<00:00,  1.60it/s]"
          ]
        },
        {
          "output_type": "stream",
          "name": "stdout",
          "text": [
            "                   all        127        127      0.539       0.65      0.501      0.336\n"
          ]
        },
        {
          "output_type": "stream",
          "name": "stderr",
          "text": [
            "\n"
          ]
        },
        {
          "output_type": "stream",
          "name": "stdout",
          "text": [
            "\n",
            "      Epoch    GPU_mem   box_loss   cls_loss   dfl_loss  Instances       Size\n"
          ]
        },
        {
          "output_type": "stream",
          "name": "stderr",
          "text": [
            "      44/60     0.803G      1.025      0.616      1.117          3        640: 100%|██████████| 124/124 [00:40<00:00,  3.08it/s]\n",
            "                 Class     Images  Instances      Box(P          R      mAP50  mAP50-95): 100%|██████████| 16/16 [00:10<00:00,  1.53it/s]"
          ]
        },
        {
          "output_type": "stream",
          "name": "stdout",
          "text": [
            "                   all        127        127      0.553      0.658      0.531       0.35\n"
          ]
        },
        {
          "output_type": "stream",
          "name": "stderr",
          "text": [
            "\n"
          ]
        },
        {
          "output_type": "stream",
          "name": "stdout",
          "text": [
            "\n",
            "      Epoch    GPU_mem   box_loss   cls_loss   dfl_loss  Instances       Size\n"
          ]
        },
        {
          "output_type": "stream",
          "name": "stderr",
          "text": [
            "      45/60     0.803G      1.021     0.5912        1.1          2        640: 100%|██████████| 124/124 [00:40<00:00,  3.06it/s]\n",
            "                 Class     Images  Instances      Box(P          R      mAP50  mAP50-95): 100%|██████████| 16/16 [00:10<00:00,  1.50it/s]"
          ]
        },
        {
          "output_type": "stream",
          "name": "stdout",
          "text": [
            "                   all        127        127       0.49      0.648      0.516      0.352\n"
          ]
        },
        {
          "output_type": "stream",
          "name": "stderr",
          "text": [
            "\n"
          ]
        },
        {
          "output_type": "stream",
          "name": "stdout",
          "text": [
            "\n",
            "      Epoch    GPU_mem   box_loss   cls_loss   dfl_loss  Instances       Size\n"
          ]
        },
        {
          "output_type": "stream",
          "name": "stderr",
          "text": [
            "      46/60     0.803G      1.018     0.5815      1.118          2        640: 100%|██████████| 124/124 [00:40<00:00,  3.04it/s]\n",
            "                 Class     Images  Instances      Box(P          R      mAP50  mAP50-95): 100%|██████████| 16/16 [00:10<00:00,  1.52it/s]"
          ]
        },
        {
          "output_type": "stream",
          "name": "stdout",
          "text": [
            "                   all        127        127      0.531      0.631      0.532      0.347\n"
          ]
        },
        {
          "output_type": "stream",
          "name": "stderr",
          "text": [
            "\n"
          ]
        },
        {
          "output_type": "stream",
          "name": "stdout",
          "text": [
            "\n",
            "      Epoch    GPU_mem   box_loss   cls_loss   dfl_loss  Instances       Size\n"
          ]
        },
        {
          "output_type": "stream",
          "name": "stderr",
          "text": [
            "      47/60     0.803G      1.024     0.5833      1.106          3        640: 100%|██████████| 124/124 [00:39<00:00,  3.12it/s]\n",
            "                 Class     Images  Instances      Box(P          R      mAP50  mAP50-95): 100%|██████████| 16/16 [00:09<00:00,  1.76it/s]"
          ]
        },
        {
          "output_type": "stream",
          "name": "stdout",
          "text": [
            "                   all        127        127      0.455      0.684      0.541       0.36\n"
          ]
        },
        {
          "output_type": "stream",
          "name": "stderr",
          "text": [
            "\n"
          ]
        },
        {
          "output_type": "stream",
          "name": "stdout",
          "text": [
            "\n",
            "      Epoch    GPU_mem   box_loss   cls_loss   dfl_loss  Instances       Size\n"
          ]
        },
        {
          "output_type": "stream",
          "name": "stderr",
          "text": [
            "      48/60     0.803G     0.9962     0.5703      1.091          5        640: 100%|██████████| 124/124 [00:41<00:00,  2.97it/s]\n",
            "                 Class     Images  Instances      Box(P          R      mAP50  mAP50-95): 100%|██████████| 16/16 [00:09<00:00,  1.74it/s]"
          ]
        },
        {
          "output_type": "stream",
          "name": "stdout",
          "text": [
            "                   all        127        127      0.637      0.634      0.569      0.365\n"
          ]
        },
        {
          "output_type": "stream",
          "name": "stderr",
          "text": [
            "\n"
          ]
        },
        {
          "output_type": "stream",
          "name": "stdout",
          "text": [
            "\n",
            "      Epoch    GPU_mem   box_loss   cls_loss   dfl_loss  Instances       Size\n"
          ]
        },
        {
          "output_type": "stream",
          "name": "stderr",
          "text": [
            "      49/60     0.803G     0.9908     0.5791      1.096          2        640: 100%|██████████| 124/124 [00:40<00:00,  3.04it/s]\n",
            "                 Class     Images  Instances      Box(P          R      mAP50  mAP50-95): 100%|██████████| 16/16 [00:09<00:00,  1.65it/s]"
          ]
        },
        {
          "output_type": "stream",
          "name": "stdout",
          "text": [
            "                   all        127        127      0.443      0.646      0.514      0.345\n"
          ]
        },
        {
          "output_type": "stream",
          "name": "stderr",
          "text": [
            "\n"
          ]
        },
        {
          "output_type": "stream",
          "name": "stdout",
          "text": [
            "\n",
            "      Epoch    GPU_mem   box_loss   cls_loss   dfl_loss  Instances       Size\n"
          ]
        },
        {
          "output_type": "stream",
          "name": "stderr",
          "text": [
            "      50/60     0.803G      0.969     0.5205      1.084          6        640: 100%|██████████| 124/124 [00:40<00:00,  3.07it/s]\n",
            "                 Class     Images  Instances      Box(P          R      mAP50  mAP50-95): 100%|██████████| 16/16 [00:10<00:00,  1.58it/s]"
          ]
        },
        {
          "output_type": "stream",
          "name": "stdout",
          "text": [
            "                   all        127        127      0.484       0.63       0.47      0.313\n"
          ]
        },
        {
          "output_type": "stream",
          "name": "stderr",
          "text": [
            "\n"
          ]
        },
        {
          "output_type": "stream",
          "name": "stdout",
          "text": [
            "Closing dataloader mosaic\n",
            "\u001b[34m\u001b[1malbumentations: \u001b[0mBlur(p=0.01, blur_limit=(3, 7)), MedianBlur(p=0.01, blur_limit=(3, 7)), ToGray(p=0.01, method='weighted_average', num_output_channels=3), CLAHE(p=0.01, clip_limit=(1.0, 4.0), tile_grid_size=(8, 8))\n",
            "\n",
            "      Epoch    GPU_mem   box_loss   cls_loss   dfl_loss  Instances       Size\n"
          ]
        },
        {
          "output_type": "stream",
          "name": "stderr",
          "text": [
            "      51/60     0.803G     0.9935     0.4687      1.103          2        640: 100%|██████████| 124/124 [00:42<00:00,  2.92it/s]\n",
            "                 Class     Images  Instances      Box(P          R      mAP50  mAP50-95): 100%|██████████| 16/16 [00:09<00:00,  1.61it/s]"
          ]
        },
        {
          "output_type": "stream",
          "name": "stdout",
          "text": [
            "                   all        127        127      0.468      0.624        0.5      0.317\n"
          ]
        },
        {
          "output_type": "stream",
          "name": "stderr",
          "text": [
            "\n"
          ]
        },
        {
          "output_type": "stream",
          "name": "stdout",
          "text": [
            "\n",
            "      Epoch    GPU_mem   box_loss   cls_loss   dfl_loss  Instances       Size\n"
          ]
        },
        {
          "output_type": "stream",
          "name": "stderr",
          "text": [
            "      52/60     0.803G     0.9728     0.4783      1.109          2        640: 100%|██████████| 124/124 [00:39<00:00,  3.10it/s]\n",
            "                 Class     Images  Instances      Box(P          R      mAP50  mAP50-95): 100%|██████████| 16/16 [00:10<00:00,  1.57it/s]"
          ]
        },
        {
          "output_type": "stream",
          "name": "stdout",
          "text": [
            "                   all        127        127      0.524      0.614      0.449      0.305\n"
          ]
        },
        {
          "output_type": "stream",
          "name": "stderr",
          "text": [
            "\n"
          ]
        },
        {
          "output_type": "stream",
          "name": "stdout",
          "text": [
            "\n",
            "      Epoch    GPU_mem   box_loss   cls_loss   dfl_loss  Instances       Size\n"
          ]
        },
        {
          "output_type": "stream",
          "name": "stderr",
          "text": [
            "      53/60     0.803G     0.9561     0.4575      1.088          2        640: 100%|██████████| 124/124 [00:40<00:00,  3.09it/s]\n",
            "                 Class     Images  Instances      Box(P          R      mAP50  mAP50-95): 100%|██████████| 16/16 [00:10<00:00,  1.53it/s]"
          ]
        },
        {
          "output_type": "stream",
          "name": "stdout",
          "text": [
            "                   all        127        127      0.505      0.626      0.495      0.336\n"
          ]
        },
        {
          "output_type": "stream",
          "name": "stderr",
          "text": [
            "\n"
          ]
        },
        {
          "output_type": "stream",
          "name": "stdout",
          "text": [
            "\n",
            "      Epoch    GPU_mem   box_loss   cls_loss   dfl_loss  Instances       Size\n"
          ]
        },
        {
          "output_type": "stream",
          "name": "stderr",
          "text": [
            "      54/60     0.803G     0.9437     0.4408       1.07          2        640: 100%|██████████| 124/124 [00:40<00:00,  3.09it/s]\n",
            "                 Class     Images  Instances      Box(P          R      mAP50  mAP50-95): 100%|██████████| 16/16 [00:10<00:00,  1.56it/s]"
          ]
        },
        {
          "output_type": "stream",
          "name": "stdout",
          "text": [
            "                   all        127        127      0.509      0.644      0.534      0.349\n"
          ]
        },
        {
          "output_type": "stream",
          "name": "stderr",
          "text": [
            "\n"
          ]
        },
        {
          "output_type": "stream",
          "name": "stdout",
          "text": [
            "\n",
            "      Epoch    GPU_mem   box_loss   cls_loss   dfl_loss  Instances       Size\n"
          ]
        },
        {
          "output_type": "stream",
          "name": "stderr",
          "text": [
            "      55/60     0.803G     0.9507     0.4251      1.078          2        640: 100%|██████████| 124/124 [00:40<00:00,  3.10it/s]\n",
            "                 Class     Images  Instances      Box(P          R      mAP50  mAP50-95): 100%|██████████| 16/16 [00:10<00:00,  1.59it/s]"
          ]
        },
        {
          "output_type": "stream",
          "name": "stdout",
          "text": [
            "                   all        127        127      0.559      0.618      0.494      0.329\n"
          ]
        },
        {
          "output_type": "stream",
          "name": "stderr",
          "text": [
            "\n"
          ]
        },
        {
          "output_type": "stream",
          "name": "stdout",
          "text": [
            "\n",
            "      Epoch    GPU_mem   box_loss   cls_loss   dfl_loss  Instances       Size\n"
          ]
        },
        {
          "output_type": "stream",
          "name": "stderr",
          "text": [
            "      56/60     0.803G     0.9461     0.4292      1.088          2        640: 100%|██████████| 124/124 [00:40<00:00,  3.08it/s]\n",
            "                 Class     Images  Instances      Box(P          R      mAP50  mAP50-95): 100%|██████████| 16/16 [00:10<00:00,  1.49it/s]"
          ]
        },
        {
          "output_type": "stream",
          "name": "stdout",
          "text": [
            "                   all        127        127      0.525      0.608      0.491      0.334\n"
          ]
        },
        {
          "output_type": "stream",
          "name": "stderr",
          "text": [
            "\n"
          ]
        },
        {
          "output_type": "stream",
          "name": "stdout",
          "text": [
            "\n",
            "      Epoch    GPU_mem   box_loss   cls_loss   dfl_loss  Instances       Size\n"
          ]
        },
        {
          "output_type": "stream",
          "name": "stderr",
          "text": [
            "      57/60     0.803G     0.9556     0.4379      1.084          2        640: 100%|██████████| 124/124 [00:40<00:00,  3.08it/s]\n",
            "                 Class     Images  Instances      Box(P          R      mAP50  mAP50-95): 100%|██████████| 16/16 [00:10<00:00,  1.58it/s]"
          ]
        },
        {
          "output_type": "stream",
          "name": "stdout",
          "text": [
            "                   all        127        127      0.537      0.616        0.5      0.344\n"
          ]
        },
        {
          "output_type": "stream",
          "name": "stderr",
          "text": [
            "\n"
          ]
        },
        {
          "output_type": "stream",
          "name": "stdout",
          "text": [
            "\n",
            "      Epoch    GPU_mem   box_loss   cls_loss   dfl_loss  Instances       Size\n"
          ]
        },
        {
          "output_type": "stream",
          "name": "stderr",
          "text": [
            "      58/60     0.803G     0.9422     0.4262      1.081          2        640: 100%|██████████| 124/124 [00:39<00:00,  3.12it/s]\n",
            "                 Class     Images  Instances      Box(P          R      mAP50  mAP50-95): 100%|██████████| 16/16 [00:09<00:00,  1.70it/s]\n"
          ]
        },
        {
          "output_type": "stream",
          "name": "stdout",
          "text": [
            "                   all        127        127      0.467      0.637      0.528      0.362\n",
            "\n",
            "      Epoch    GPU_mem   box_loss   cls_loss   dfl_loss  Instances       Size\n"
          ]
        },
        {
          "output_type": "stream",
          "name": "stderr",
          "text": [
            "      59/60     0.803G     0.9356     0.4206      1.079          2        640: 100%|██████████| 124/124 [00:41<00:00,  3.02it/s]\n",
            "                 Class     Images  Instances      Box(P          R      mAP50  mAP50-95): 100%|██████████| 16/16 [00:09<00:00,  1.73it/s]"
          ]
        },
        {
          "output_type": "stream",
          "name": "stdout",
          "text": [
            "                   all        127        127      0.475      0.635      0.511      0.353\n"
          ]
        },
        {
          "output_type": "stream",
          "name": "stderr",
          "text": [
            "\n"
          ]
        },
        {
          "output_type": "stream",
          "name": "stdout",
          "text": [
            "\n",
            "      Epoch    GPU_mem   box_loss   cls_loss   dfl_loss  Instances       Size\n"
          ]
        },
        {
          "output_type": "stream",
          "name": "stderr",
          "text": [
            "      60/60     0.803G     0.9368     0.4321      1.078          2        640: 100%|██████████| 124/124 [00:40<00:00,  3.09it/s]\n",
            "                 Class     Images  Instances      Box(P          R      mAP50  mAP50-95): 100%|██████████| 16/16 [00:09<00:00,  1.61it/s]"
          ]
        },
        {
          "output_type": "stream",
          "name": "stdout",
          "text": [
            "                   all        127        127      0.559      0.617      0.495      0.337\n"
          ]
        },
        {
          "output_type": "stream",
          "name": "stderr",
          "text": [
            "\n"
          ]
        },
        {
          "output_type": "stream",
          "name": "stdout",
          "text": [
            "\n",
            "60 epochs completed in 0.858 hours.\n",
            "Optimizer stripped from runs/detect/train6/weights/last.pt, 6.2MB\n",
            "Optimizer stripped from runs/detect/train6/weights/best.pt, 6.2MB\n",
            "\n",
            "Validating runs/detect/train6/weights/best.pt...\n",
            "Ultralytics 8.3.131 🚀 Python-3.11.12 torch-2.6.0+cu124 CUDA:0 (Tesla T4, 15095MiB)\n",
            "Model summary (fused): 72 layers, 3,006,038 parameters, 0 gradients, 8.1 GFLOPs\n"
          ]
        },
        {
          "output_type": "stream",
          "name": "stderr",
          "text": [
            "                 Class     Images  Instances      Box(P          R      mAP50  mAP50-95): 100%|██████████| 16/16 [00:10<00:00,  1.46it/s]\n"
          ]
        },
        {
          "output_type": "stream",
          "name": "stdout",
          "text": [
            "                   all        127        127      0.642      0.639      0.626      0.415\n",
            "         piezas_buenas         79         79      0.831      0.278      0.564      0.404\n",
            "          piezas_malas         48         48      0.453          1      0.688      0.426\n",
            "Speed: 0.5ms preprocess, 19.0ms inference, 0.1ms loss, 3.5ms postprocess per image\n",
            "Results saved to \u001b[1mruns/detect/train6\u001b[0m\n",
            "Ultralytics 8.3.131 🚀 Python-3.11.12 torch-2.6.0+cu124 CPU (Intel Xeon 2.00GHz)\n",
            "Model summary (fused): 72 layers, 3,006,038 parameters, 0 gradients, 8.1 GFLOPs\n",
            "\n",
            "\u001b[34m\u001b[1mPyTorch:\u001b[0m starting from 'runs/detect/train6/weights/best.pt' with input shape (1, 3, 640, 640) BCHW and output shape(s) (1, 6, 8400) (6.0 MB)\n",
            "\n",
            "\u001b[34m\u001b[1mONNX:\u001b[0m starting export with onnx 1.17.0 opset 19...\n",
            "\u001b[34m\u001b[1mONNX:\u001b[0m slimming with onnxslim 0.1.52...\n",
            "\u001b[34m\u001b[1mONNX:\u001b[0m export success ✅ 1.1s, saved as 'runs/detect/train6/weights/best.onnx' (11.7 MB)\n",
            "\n",
            "Export complete (1.5s)\n",
            "Results saved to \u001b[1m/content/runs/detect/train6/weights\u001b[0m\n",
            "Predict:         yolo predict task=detect model=runs/detect/train6/weights/best.onnx imgsz=640  \n",
            "Validate:        yolo val task=detect model=runs/detect/train6/weights/best.onnx imgsz=640 data=custom.yaml  \n",
            "Visualize:       https://netron.app\n"
          ]
        },
        {
          "output_type": "execute_result",
          "data": {
            "text/plain": [
              "'runs/detect/train6/weights/best.onnx'"
            ],
            "application/vnd.google.colaboratory.intrinsic+json": {
              "type": "string"
            }
          },
          "metadata": {},
          "execution_count": 1
        }
      ]
    },
    {
      "cell_type": "code",
      "source": [
        "# Comprimir la carpeta de resultados (incluye pesos, gráficas, etc.)\n",
        "!zip -r modelo_final.zip runs/detect/train6/\n"
      ],
      "metadata": {
        "colab": {
          "base_uri": "https://localhost:8080/"
        },
        "id": "gBudTEFtdeg7",
        "outputId": "6b168eab-00d9-4d4c-8815-43024fd83724"
      },
      "execution_count": 2,
      "outputs": [
        {
          "output_type": "stream",
          "name": "stdout",
          "text": [
            "  adding: runs/detect/train6/ (stored 0%)\n",
            "  adding: runs/detect/train6/train_batch6202.jpg (deflated 5%)\n",
            "  adding: runs/detect/train6/train_batch0.jpg (deflated 2%)\n",
            "  adding: runs/detect/train6/train_batch6201.jpg (deflated 6%)\n",
            "  adding: runs/detect/train6/weights/ (stored 0%)\n",
            "  adding: runs/detect/train6/weights/best.onnx (deflated 14%)\n",
            "  adding: runs/detect/train6/weights/best.pt (deflated 10%)\n",
            "  adding: runs/detect/train6/weights/last.pt (deflated 10%)\n",
            "  adding: runs/detect/train6/val_batch0_pred.jpg (deflated 4%)\n",
            "  adding: runs/detect/train6/train_batch6200.jpg (deflated 13%)\n",
            "  adding: runs/detect/train6/confusion_matrix.png (deflated 34%)\n",
            "  adding: runs/detect/train6/R_curve.png (deflated 15%)\n",
            "  adding: runs/detect/train6/results.png (deflated 5%)\n",
            "  adding: runs/detect/train6/val_batch0_labels.jpg (deflated 4%)\n",
            "  adding: runs/detect/train6/results.csv (deflated 61%)\n",
            "  adding: runs/detect/train6/train_batch1.jpg (deflated 3%)\n",
            "  adding: runs/detect/train6/val_batch2_pred.jpg (deflated 4%)\n",
            "  adding: runs/detect/train6/labels.jpg (deflated 29%)\n",
            "  adding: runs/detect/train6/args.yaml (deflated 53%)\n",
            "  adding: runs/detect/train6/train_batch2.jpg (deflated 3%)\n",
            "  adding: runs/detect/train6/PR_curve.png (deflated 19%)\n",
            "  adding: runs/detect/train6/labels_correlogram.jpg (deflated 45%)\n",
            "  adding: runs/detect/train6/F1_curve.png (deflated 14%)\n",
            "  adding: runs/detect/train6/confusion_matrix_normalized.png (deflated 30%)\n",
            "  adding: runs/detect/train6/val_batch1_pred.jpg (deflated 5%)\n",
            "  adding: runs/detect/train6/P_curve.png (deflated 13%)\n",
            "  adding: runs/detect/train6/val_batch2_labels.jpg (deflated 4%)\n",
            "  adding: runs/detect/train6/val_batch1_labels.jpg (deflated 4%)\n"
          ]
        }
      ]
    }
  ]
}